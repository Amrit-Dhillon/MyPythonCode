{
 "cells": [
  {
   "cell_type": "code",
   "execution_count": 14,
   "metadata": {},
   "outputs": [],
   "source": [
    "from IPython.display import clear_output\n",
    "def display(board):\n",
    "    clear_output()\n",
    "    print('   |   |   ')\n",
    "    print(' {a} | {b} | {c} '.format(a=board[1],b=board[2],c=board[3]))\n",
    "    print('___|___|___')\n",
    "    print('   |   |   ')\n",
    "    print(' {a} | {b} | {c} '.format(a=board[4],b=board[5],c=board[6]))\n",
    "    print('___|___|___')\n",
    "    print('   |   |   ')\n",
    "    print(' {a} | {b} | {c} '.format(a=board[7],b=board[8],c=board[9]))\n",
    "    print('   |   |   ')"
   ]
  },
  {
   "cell_type": "code",
   "execution_count": 2,
   "metadata": {},
   "outputs": [],
   "source": [
    "def choose_marker():\n",
    "    marker = input('Player1, choose a marker X or O :').upper()\n",
    "    player1 = marker\n",
    "    if player1 == 'X':\n",
    "        player2 = 'O'\n",
    "    elif player1 == 'O':\n",
    "        player2 = 'X'\n",
    "    return player1, player2"
   ]
  },
  {
   "cell_type": "code",
   "execution_count": 3,
   "metadata": {},
   "outputs": [],
   "source": [
    "def place_your_marker(board,marker,index):\n",
    "    board[index]=marker"
   ]
  },
  {
   "cell_type": "code",
   "execution_count": 4,
   "metadata": {},
   "outputs": [],
   "source": [
    "def space_check(board,index):\n",
    "    if board[index]==' ':\n",
    "        return True\n",
    "    return False"
   ]
  },
  {
   "cell_type": "code",
   "execution_count": 20,
   "metadata": {},
   "outputs": [],
   "source": [
    "def position_choice(board):\n",
    "    index = 0\n",
    "    while index not in [1,2,3,4,5,6,7,8,9] and space_check(board,index) == False:\n",
    "        index = int(input('Choose your position (1 to 9): '))\n",
    "    return index"
   ]
  },
  {
   "cell_type": "code",
   "execution_count": 6,
   "metadata": {},
   "outputs": [],
   "source": [
    "def check_win(board,mark):\n",
    "    return ((board[1]==board[2]==board[3]==mark) or \n",
    "            (board[4]==board[5]==board[6]==mark) or\n",
    "            (board[7]==board[8]==board[9]==mark) or\n",
    "            (board[1]==board[4]==board[7]==mark) or\n",
    "            (board[2]==board[5]==board[8]==mark) or\n",
    "            (board[3]==board[6]==board[9]==mark) or\n",
    "            (board[1]==board[5]==board[9]==mark) or\n",
    "            (board[3]==board[5]==board[7]==mark))"
   ]
  },
  {
   "cell_type": "code",
   "execution_count": 19,
   "metadata": {},
   "outputs": [],
   "source": [
    "def check_draw(board,index):\n",
    "    for index in range(1,10):\n",
    "        if space_check(board,index)==True:\n",
    "            return False\n",
    "    return True    "
   ]
  },
  {
   "cell_type": "code",
   "execution_count": 17,
   "metadata": {},
   "outputs": [],
   "source": [
    "def play_again():\n",
    "    answer = input('Do you want to play again? YES or NO :').upper()\n",
    "    return answer"
   ]
  },
  {
   "cell_type": "code",
   "execution_count": 9,
   "metadata": {},
   "outputs": [],
   "source": [
    "#################################################"
   ]
  },
  {
   "cell_type": "code",
   "execution_count": 23,
   "metadata": {},
   "outputs": [
    {
     "name": "stdout",
     "output_type": "stream",
     "text": [
      "   |   |   \n",
      " O | O | O \n",
      "___|___|___\n",
      "   |   |   \n",
      " X | O | X \n",
      "___|___|___\n",
      "   |   |   \n",
      "   | X |   \n",
      "   |   |   \n",
      "PLayer2 has won the game\n",
      "Do you want to play again? YES or NO :no\n"
     ]
    }
   ],
   "source": [
    "print('WELCOME GAMERS')\n",
    "while True:\n",
    "    board = [' ']*10\n",
    "    player1_marker,player2_marker = choose_marker()\n",
    "    turn = 'player1'\n",
    "    print('player1 will go first')\n",
    "    start = input('Do you want to start the game? Y or N: ').upper()\n",
    "    if start=='Y':\n",
    "        game_on = True\n",
    "    else:\n",
    "        game_on = False\n",
    "    while game_on:\n",
    "        if turn == 'player1':\n",
    "            display(board)\n",
    "            index = position_choice(board) \n",
    "            place_your_marker(board,player1_marker,index)\n",
    "        if check_win(board,player1_marker)==True:\n",
    "            display(board)\n",
    "            print('Player1 has won the game')\n",
    "            break\n",
    "        elif check_draw(board,index)==True:\n",
    "            display(board)\n",
    "            print('Its a draw')\n",
    "            break\n",
    "        else:\n",
    "            turn = 'player2'\n",
    "        if turn == 'player2':\n",
    "            display(board)\n",
    "            index = position_choice(board)\n",
    "            place_your_marker(board,player2_marker,index)\n",
    "            if check_win(board,player2_marker)==True:\n",
    "                display(board)\n",
    "                print('PLayer2 has won the game')\n",
    "                break\n",
    "            elif check_draw(board,index)==True:\n",
    "                display(board)\n",
    "                print('Its a draw')\n",
    "                break\n",
    "            else:\n",
    "                turn = 'player1'\n",
    "    if play_again() not in ['YES']:\n",
    "        break"
   ]
  },
  {
   "cell_type": "code",
   "execution_count": null,
   "metadata": {},
   "outputs": [],
   "source": []
  },
  {
   "cell_type": "code",
   "execution_count": null,
   "metadata": {},
   "outputs": [],
   "source": []
  },
  {
   "cell_type": "code",
   "execution_count": null,
   "metadata": {},
   "outputs": [],
   "source": []
  },
  {
   "cell_type": "code",
   "execution_count": null,
   "metadata": {},
   "outputs": [],
   "source": []
  },
  {
   "cell_type": "code",
   "execution_count": null,
   "metadata": {},
   "outputs": [],
   "source": []
  },
  {
   "cell_type": "code",
   "execution_count": null,
   "metadata": {},
   "outputs": [],
   "source": []
  },
  {
   "cell_type": "code",
   "execution_count": null,
   "metadata": {},
   "outputs": [],
   "source": []
  },
  {
   "cell_type": "code",
   "execution_count": null,
   "metadata": {},
   "outputs": [],
   "source": []
  },
  {
   "cell_type": "code",
   "execution_count": null,
   "metadata": {},
   "outputs": [],
   "source": []
  },
  {
   "cell_type": "code",
   "execution_count": null,
   "metadata": {},
   "outputs": [],
   "source": []
  },
  {
   "cell_type": "code",
   "execution_count": null,
   "metadata": {},
   "outputs": [],
   "source": []
  }
 ],
 "metadata": {
  "kernelspec": {
   "display_name": "Python 3",
   "language": "python",
   "name": "python3"
  },
  "language_info": {
   "codemirror_mode": {
    "name": "ipython",
    "version": 3
   },
   "file_extension": ".py",
   "mimetype": "text/x-python",
   "name": "python",
   "nbconvert_exporter": "python",
   "pygments_lexer": "ipython3",
   "version": "3.7.6"
  }
 },
 "nbformat": 4,
 "nbformat_minor": 4
}
