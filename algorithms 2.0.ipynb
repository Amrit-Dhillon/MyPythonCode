{
 "cells": [
  {
   "cell_type": "code",
   "execution_count": 34,
   "metadata": {},
   "outputs": [],
   "source": [
    "#Given a list of strings (depicting a skyline of several buildings), return in meters the height of the \n",
    "#tallest building. Each line in the list represents 20m."
   ]
  },
  {
   "cell_type": "code",
   "execution_count": 41,
   "metadata": {},
   "outputs": [],
   "source": [
    "def tallest_building_height(mylist):\n",
    "    count = 0\n",
    "    for line in mylist:\n",
    "        if '#' in line:\n",
    "            count = count + 1\n",
    "    return str(count*20)+'m'"
   ]
  },
  {
   "cell_type": "code",
   "execution_count": 42,
   "metadata": {},
   "outputs": [
    {
     "data": {
      "text/plain": [
       "'80m'"
      ]
     },
     "execution_count": 42,
     "metadata": {},
     "output_type": "execute_result"
    }
   ],
   "source": [
    "tallest_building_height([\n",
    "  \"               \",\n",
    "  \"               \",\n",
    "  \"               \",\n",
    "  \"       #    ###\",\n",
    "  \"      # #   ###\",\n",
    "  \"###   ###   ###\",\n",
    "  \"###   ###   ###\"\n",
    "])"
   ]
  },
  {
   "cell_type": "code",
   "execution_count": 30,
   "metadata": {},
   "outputs": [],
   "source": [
    "#It takes 1 second to switch between pencils.\n",
    "#It takes 2 seconds to color a square."
   ]
  },
  {
   "cell_type": "code",
   "execution_count": 28,
   "metadata": {},
   "outputs": [],
   "source": [
    "def color_pattern_times(mylist):\n",
    "    total = 2\n",
    "    if len(mylist) == 0:\n",
    "        return 0\n",
    "    for index in range(0,len(mylist)-1):\n",
    "        if mylist[index] == mylist[index+1]:\n",
    "            total = total + 2\n",
    "        else:\n",
    "            total = total + 3\n",
    "    return total"
   ]
  },
  {
   "cell_type": "code",
   "execution_count": 29,
   "metadata": {},
   "outputs": [
    {
     "data": {
      "text/plain": [
       "13"
      ]
     },
     "execution_count": 29,
     "metadata": {},
     "output_type": "execute_result"
    }
   ],
   "source": [
    "color_pattern_times([\"Blue\", \"Blue\", \"Blue\", \"Red\", \"Red\", \"Red\"])"
   ]
  },
  {
   "cell_type": "code",
   "execution_count": 59,
   "metadata": {},
   "outputs": [],
   "source": [
    "#Given a very long string of ASCII characters, split the string up into equal sized groups of size width.\n",
    "#To properly display the image, join up the groups with the newline character \\n and return the output\n",
    "#string."
   ]
  },
  {
   "cell_type": "code",
   "execution_count": 25,
   "metadata": {},
   "outputs": [],
   "source": [
    "import textwrap                                                                                            \n",
    "split = textwrap.wrap(\"12345678910\", 1)"
   ]
  },
  {
   "cell_type": "code",
   "execution_count": 26,
   "metadata": {},
   "outputs": [
    {
     "data": {
      "text/plain": [
       "['1', '2', '3', '4', '5', '6', '7', '8', '9', '1', '0']"
      ]
     },
     "execution_count": 26,
     "metadata": {},
     "output_type": "execute_result"
    }
   ],
   "source": [
    "split"
   ]
  },
  {
   "cell_type": "code",
   "execution_count": 98,
   "metadata": {},
   "outputs": [],
   "source": [
    "def format_ascii(string,n):\n",
    "    split = textwrap.wrap(string,n)\n",
    "    mylist = []\n",
    "    for i in split:\n",
    "        mylist.append(i+'\\n')\n",
    "    ans = ''.join(mylist)\n",
    "    return ans[:-1]"
   ]
  },
  {
   "cell_type": "code",
   "execution_count": 100,
   "metadata": {},
   "outputs": [
    {
     "data": {
      "text/plain": [
       "'^\\n^\\n^\\n^\\n^\\n^\\n^\\n^'"
      ]
     },
     "execution_count": 100,
     "metadata": {},
     "output_type": "execute_result"
    }
   ],
   "source": [
    "format_ascii(\"^^^^^^^^\", 1)"
   ]
  },
  {
   "cell_type": "code",
   "execution_count": 114,
   "metadata": {},
   "outputs": [],
   "source": [
    "#Ensure that \"a\" >= \"b\". If \"a\" < \"b\", swap them.\n",
    "#Find the remainder. Divide \"a\" by \"b\" and set \"r\" as the remainder.\n",
    "#Is \"r\" zero? If so terminate the function and return \"b\" (the second number).\n",
    "#Set \"a\" = \"b\" and \"b\" = \"r\" and start the algorithm over again."
   ]
  },
  {
   "cell_type": "code",
   "execution_count": 32,
   "metadata": {},
   "outputs": [],
   "source": [
    "def euclidean(a,b):\n",
    "    while True:\n",
    "        if a < b:\n",
    "            a,b = b,a\n",
    "        r = a%b\n",
    "        if r==0:\n",
    "            break\n",
    "        else:\n",
    "            a,b = b,r\n",
    "    return b"
   ]
  },
  {
   "cell_type": "code",
   "execution_count": 35,
   "metadata": {},
   "outputs": [
    {
     "data": {
      "text/plain": [
       "3"
      ]
     },
     "execution_count": 35,
     "metadata": {},
     "output_type": "execute_result"
    }
   ],
   "source": [
    "euclidean(3,6)"
   ]
  },
  {
   "cell_type": "code",
   "execution_count": 36,
   "metadata": {},
   "outputs": [],
   "source": [
    "def eulidean2(a,b):\n",
    "    if a < b:\n",
    "        a,b = b,a\n",
    "    r = a%b\n",
    "    if r == 0:\n",
    "        return b\n",
    "    else:\n",
    "        a,b = b,r\n",
    "        return eulidean2(a,b)"
   ]
  },
  {
   "cell_type": "code",
   "execution_count": 38,
   "metadata": {},
   "outputs": [
    {
     "data": {
      "text/plain": [
       "2"
      ]
     },
     "execution_count": 38,
     "metadata": {},
     "output_type": "execute_result"
    }
   ],
   "source": [
    "eulidean2(8,6)"
   ]
  },
  {
   "cell_type": "code",
   "execution_count": 1,
   "metadata": {},
   "outputs": [],
   "source": [
    "#DICTIONARIES"
   ]
  },
  {
   "cell_type": "code",
   "execution_count": 11,
   "metadata": {},
   "outputs": [],
   "source": [
    "dict_first = {\"sky\": \"temple\", \"horde\": \"orcs\", \"people\": 12, \"story\": \"fine\", \"sun\": \"bright\"}\n",
    "dict_second = {\"people\":  12, \"sun\": \"star\", \"book\": \"bad\"}"
   ]
  },
  {
   "cell_type": "code",
   "execution_count": 22,
   "metadata": {},
   "outputs": [],
   "source": [
    "def check(dict_first, dict_second, key):\n",
    "    if key in dict_first.keys() and key in dict_second.keys():\n",
    "        if dict_first[key] == dict_second[key]:\n",
    "            ans = True\n",
    "        else:\n",
    "            ans = 'Not the same'\n",
    "    else:\n",
    "        ans = \"One's empty\"\n",
    "    return ans   "
   ]
  },
  {
   "cell_type": "code",
   "execution_count": 24,
   "metadata": {},
   "outputs": [
    {
     "data": {
      "text/plain": [
       "'Not the same'"
      ]
     },
     "execution_count": 24,
     "metadata": {},
     "output_type": "execute_result"
    }
   ],
   "source": [
    "check(dict_first, dict_second, 'sun')"
   ]
  },
  {
   "cell_type": "code",
   "execution_count": 16,
   "metadata": {},
   "outputs": [],
   "source": [
    "#PING PONG"
   ]
  },
  {
   "cell_type": "code",
   "execution_count": 14,
   "metadata": {},
   "outputs": [],
   "source": [
    "def ping_pong(mylist,win):\n",
    "    new_list = []\n",
    "    for i in (mylist):\n",
    "        new_list.append(i)\n",
    "        new_list.append('Pong!')\n",
    "    if win == False:\n",
    "        new_list.pop(-1)\n",
    "    return new_list"
   ]
  },
  {
   "cell_type": "code",
   "execution_count": 15,
   "metadata": {},
   "outputs": [
    {
     "data": {
      "text/plain": [
       "['Ping!', 'Pong!', 'Ping!']"
      ]
     },
     "execution_count": 15,
     "metadata": {},
     "output_type": "execute_result"
    }
   ],
   "source": [
    "ping_pong(['Ping!','Ping!'],False)"
   ]
  },
  {
   "cell_type": "code",
   "execution_count": 17,
   "metadata": {},
   "outputs": [],
   "source": [
    "#Count the rectangles"
   ]
  },
  {
   "cell_type": "code",
   "execution_count": 32,
   "metadata": {},
   "outputs": [],
   "source": [
    "def rectangles(steps):\n",
    "    return (steps*(steps+1)//2)**2"
   ]
  },
  {
   "cell_type": "code",
   "execution_count": 34,
   "metadata": {},
   "outputs": [
    {
     "data": {
      "text/plain": [
       "100"
      ]
     },
     "execution_count": 34,
     "metadata": {},
     "output_type": "execute_result"
    }
   ],
   "source": [
    "rectangles(4)"
   ]
  },
  {
   "cell_type": "code",
   "execution_count": 1,
   "metadata": {},
   "outputs": [],
   "source": [
    "#The Antipodes Average"
   ]
  },
  {
   "cell_type": "code",
   "execution_count": 90,
   "metadata": {},
   "outputs": [],
   "source": [
    "import math"
   ]
  },
  {
   "cell_type": "code",
   "execution_count": 108,
   "metadata": {},
   "outputs": [],
   "source": [
    "def antipodes_average(mylist):\n",
    "    if len(mylist) % 2 != 0:\n",
    "        middle = len(mylist)/2\n",
    "        mylist.pop(math.floor(middle))\n",
    "    left_part = []\n",
    "    right_part = []\n",
    "    half = len(mylist)//2\n",
    "    for i in mylist[:half]:\n",
    "        left_part.append(i)\n",
    "    for i in mylist[half:]:\n",
    "        right_part.append(i)\n",
    "    right_part.reverse()\n",
    "    new_list = []\n",
    "    for i in range(len(left_part)):\n",
    "        new_list.append(left_part[i]+right_part[i])\n",
    "    ans = []\n",
    "    for i in new_list:\n",
    "        ans.append(i/2)\n",
    "    return ans"
   ]
  },
  {
   "cell_type": "code",
   "execution_count": 109,
   "metadata": {},
   "outputs": [
    {
     "data": {
      "text/plain": [
       "[-1.5]"
      ]
     },
     "execution_count": 109,
     "metadata": {},
     "output_type": "execute_result"
    }
   ],
   "source": [
    "antipodes_average([-1,-2])"
   ]
  },
  {
   "cell_type": "code",
   "execution_count": 46,
   "metadata": {},
   "outputs": [],
   "source": [
    "#Another way\n",
    "lst = [1,2,3,4,5]"
   ]
  },
  {
   "cell_type": "code",
   "execution_count": 47,
   "metadata": {},
   "outputs": [
    {
     "name": "stdout",
     "output_type": "stream",
     "text": [
      "[3.0, 3.0]\n"
     ]
    }
   ],
   "source": [
    "new_list = []\n",
    "for i in range(0,len(lst)//2):\n",
    "    new_list.append(lst[i]/2+lst[-i-1]/2)\n",
    "print(new_list)"
   ]
  },
  {
   "cell_type": "code",
   "execution_count": 10,
   "metadata": {},
   "outputs": [],
   "source": [
    "def generate_palindromes(n):\n",
    "    mylist = []\n",
    "    for i in range(n+1):\n",
    "        string = str(i)\n",
    "        if string == string[::-1]:\n",
    "            mylist.append(i)\n",
    "    return mylist[-15:]"
   ]
  },
  {
   "cell_type": "code",
   "execution_count": 11,
   "metadata": {},
   "outputs": [
    {
     "data": {
      "text/plain": [
       "[985589,\n",
       " 986689,\n",
       " 987789,\n",
       " 988889,\n",
       " 989989,\n",
       " 990099,\n",
       " 991199,\n",
       " 992299,\n",
       " 993399,\n",
       " 994499,\n",
       " 995599,\n",
       " 996699,\n",
       " 997799,\n",
       " 998899,\n",
       " 999999]"
      ]
     },
     "execution_count": 11,
     "metadata": {},
     "output_type": "execute_result"
    }
   ],
   "source": [
    "generate_palindromes(999999)"
   ]
  },
  {
   "cell_type": "code",
   "execution_count": 49,
   "metadata": {},
   "outputs": [],
   "source": [
    "# Dice throw"
   ]
  },
  {
   "cell_type": "code",
   "execution_count": 22,
   "metadata": {},
   "outputs": [],
   "source": [
    "lst = [6,1,1]\n",
    "temp = [lst[0]]\n",
    "for i in range(0,len(lst)-1):\n",
    "    if lst[i] == 1:\n",
    "        temp.append(0)\n",
    "    elif lst[i] == 6:\n",
    "        temp.append(lst[i+1]*2)\n",
    "    else:\n",
    "        temp.append(lst[i+1])"
   ]
  },
  {
   "cell_type": "code",
   "execution_count": 23,
   "metadata": {},
   "outputs": [
    {
     "data": {
      "text/plain": [
       "[6, 2, 0]"
      ]
     },
     "execution_count": 23,
     "metadata": {},
     "output_type": "execute_result"
    }
   ],
   "source": [
    "temp"
   ]
  },
  {
   "cell_type": "code",
   "execution_count": 29,
   "metadata": {},
   "outputs": [],
   "source": [
    "def rolls(mylist):\n",
    "    new_list = [mylist[0]]\n",
    "    for i in range(len(mylist)-1):\n",
    "        if mylist[i] == 1:\n",
    "            new_list.append(0)\n",
    "        elif mylist[i] == 6:\n",
    "            new_list.append(mylist[i+1]*2)\n",
    "        else:\n",
    "            new_list.append(mylist[i+1])\n",
    "    return sum(new_list)"
   ]
  },
  {
   "cell_type": "code",
   "execution_count": 31,
   "metadata": {},
   "outputs": [
    {
     "data": {
      "text/plain": [
       "8"
      ]
     },
     "execution_count": 31,
     "metadata": {},
     "output_type": "execute_result"
    }
   ],
   "source": [
    "rolls([6,1,1])"
   ]
  },
  {
   "cell_type": "code",
   "execution_count": 1,
   "metadata": {},
   "outputs": [],
   "source": [
    "#Identical Lists"
   ]
  },
  {
   "cell_type": "code",
   "execution_count": 31,
   "metadata": {},
   "outputs": [],
   "source": [
    "def count(*args):\n",
    "    mytup = tuple(args)\n",
    "    mylist = []\n",
    "    for i in mytup:\n",
    "        mylist.append(mytup.count(i))\n",
    "    return max(mylist) if max(mylist) > 1 else 0"
   ]
  },
  {
   "cell_type": "code",
   "execution_count": 32,
   "metadata": {},
   "outputs": [
    {
     "data": {
      "text/plain": [
       "2"
      ]
     },
     "execution_count": 32,
     "metadata": {},
     "output_type": "execute_result"
    }
   ],
   "source": [
    "count([0, 1, 2], [0, 2, 2], [0, 1, 2], [2, 1, 0])"
   ]
  },
  {
   "cell_type": "code",
   "execution_count": 23,
   "metadata": {},
   "outputs": [],
   "source": [
    "#Another way\n",
    "def count_(lst1, lst2, lst3, lst4):\n",
    "    big_list = [lst1, lst2, lst3, lst4]\n",
    "    count_list = []\n",
    "    for i in big_list:\n",
    "        count_list.append(big_list.count(i))\n",
    "    return max(count_list) if max(count_list) > 1 else 0"
   ]
  },
  {
   "cell_type": "code",
   "execution_count": 25,
   "metadata": {},
   "outputs": [
    {
     "data": {
      "text/plain": [
       "2"
      ]
     },
     "execution_count": 25,
     "metadata": {},
     "output_type": "execute_result"
    }
   ],
   "source": [
    "count_([0, 2, 0], [0, 1, 2], [0, 2, 0], [2, 1, 0])"
   ]
  },
  {
   "cell_type": "code",
   "execution_count": 51,
   "metadata": {},
   "outputs": [],
   "source": [
    "#Find the missing letter"
   ]
  },
  {
   "cell_type": "code",
   "execution_count": 14,
   "metadata": {},
   "outputs": [],
   "source": [
    "import string\n",
    "def missing_letter(mylst):\n",
    "    lower = string.ascii_lowercase\n",
    "    abc = lower.replace('',' ')\n",
    "    abc = abc.split()\n",
    "    mylist = []\n",
    "    for i in mylst:\n",
    "        mylist.append(i.lower())\n",
    "        for i in abc[abc.index(mylist[0]):abc.index(mylist[-1])]:\n",
    "            if i not in mylist:\n",
    "                ans =  i.upper()\n",
    "                if mylst[0] == mylst[0].lower():\n",
    "                    ans = i.lower()\n",
    "    return ans"
   ]
  },
  {
   "cell_type": "code",
   "execution_count": 15,
   "metadata": {},
   "outputs": [
    {
     "data": {
      "text/plain": [
       "'N'"
      ]
     },
     "execution_count": 15,
     "metadata": {},
     "output_type": "execute_result"
    }
   ],
   "source": [
    "missing_letter([\"M\", \"O\"])"
   ]
  },
  {
   "cell_type": "code",
   "execution_count": 24,
   "metadata": {},
   "outputs": [],
   "source": [
    "#Smaller way"
   ]
  },
  {
   "cell_type": "code",
   "execution_count": 3,
   "metadata": {},
   "outputs": [],
   "source": [
    "lst = [\"O\", \"Q\", \"R\", \"S\"]"
   ]
  },
  {
   "cell_type": "code",
   "execution_count": 6,
   "metadata": {},
   "outputs": [],
   "source": [
    "def missing_letterr(lst):\n",
    "    start = ord(lst[0])\n",
    "    for i in lst:\n",
    "        if ord(i) != start:\n",
    "            return chr(start)\n",
    "        start = start + 1"
   ]
  },
  {
   "cell_type": "code",
   "execution_count": 7,
   "metadata": {},
   "outputs": [
    {
     "data": {
      "text/plain": [
       "'P'"
      ]
     },
     "execution_count": 7,
     "metadata": {},
     "output_type": "execute_result"
    }
   ],
   "source": [
    "missing_letterr([\"O\", \"Q\", \"R\", \"S\"])"
   ]
  },
  {
   "cell_type": "code",
   "execution_count": 8,
   "metadata": {},
   "outputs": [],
   "source": [
    "#RNA\n",
    "#\"AAA\" -> \"UUU\"\n",
    "#\"UUU\" -> \"AAA\"\n",
    "#\"GGG\" -> \"CCC\"\n",
    "#\"CCC\" -> \"GGG\"\n",
    "#And reverse them too"
   ]
  },
  {
   "cell_type": "code",
   "execution_count": 10,
   "metadata": {},
   "outputs": [],
   "source": [
    "string = \"GUAGGCAACA\""
   ]
  },
  {
   "cell_type": "code",
   "execution_count": 19,
   "metadata": {},
   "outputs": [],
   "source": [
    "def reverse_complement(string):\n",
    "    step1 = string.replace('A','1')\n",
    "    step2 = step1.replace('U','2')\n",
    "    step3 = step2.replace('G','3')\n",
    "    step4 = step3.replace('C','4')\n",
    "    step5 = step4.replace('1','U')\n",
    "    step6 = step5.replace('2','A')\n",
    "    step7 = step6.replace('3','C')\n",
    "    step8 = step7.replace('4','G')\n",
    "    return (step8[::-1])"
   ]
  },
  {
   "cell_type": "code",
   "execution_count": 20,
   "metadata": {},
   "outputs": [
    {
     "data": {
      "text/plain": [
       "'CGAGA'"
      ]
     },
     "execution_count": 20,
     "metadata": {},
     "output_type": "execute_result"
    }
   ],
   "source": [
    "reverse_complement(\"UCUCG\")"
   ]
  },
  {
   "cell_type": "code",
   "execution_count": 24,
   "metadata": {},
   "outputs": [],
   "source": [
    "#Words to sentence"
   ]
  },
  {
   "cell_type": "code",
   "execution_count": 1,
   "metadata": {},
   "outputs": [],
   "source": [
    "def w_to_s(mylist):\n",
    "    if not mylist or mylist == ['']: #mylist == None or len(mylist) == 0 or mylist == ['']:\n",
    "        return ''\n",
    "    elif '' in mylist:\n",
    "        mylist.remove('')\n",
    "    elif len(mylist) == 1:\n",
    "        return ''.join(mylist)\n",
    "    string = mylist[0]\n",
    "    for i in mylist[1:-1]:\n",
    "        string = string+', '+i\n",
    "    string = string + ' and ' + mylist[-1]\n",
    "    return string\n",
    "#Another way:\n",
    "#return ', '.join(words[:-1]) + ' and ' + words[-1]"
   ]
  },
  {
   "cell_type": "code",
   "execution_count": 2,
   "metadata": {},
   "outputs": [
    {
     "data": {
      "text/plain": [
       "''"
      ]
     },
     "execution_count": 2,
     "metadata": {},
     "output_type": "execute_result"
    }
   ],
   "source": [
    "w_to_s(None)"
   ]
  },
  {
   "cell_type": "code",
   "execution_count": 3,
   "metadata": {},
   "outputs": [],
   "source": [
    "#Create a function that takes in a sentence as input and returns the most common last vowel in the sentence\n",
    "#as a single character string."
   ]
  },
  {
   "cell_type": "code",
   "execution_count": 40,
   "metadata": {},
   "outputs": [],
   "source": [
    "def common_last_vowel(string):\n",
    "    string = string.lower().split()\n",
    "    count_list = []\n",
    "    for i in string[-1]:\n",
    "        if i in ['a','e','i','o','u']:\n",
    "            count_list.append(i)\n",
    "    return count_list[-1]"
   ]
  },
  {
   "cell_type": "code",
   "execution_count": 44,
   "metadata": {},
   "outputs": [
    {
     "data": {
      "text/plain": [
       "'u'"
      ]
     },
     "execution_count": 44,
     "metadata": {},
     "output_type": "execute_result"
    }
   ],
   "source": [
    "common_last_vowel(\"munch munch munch tasty tasty brunch\")"
   ]
  },
  {
   "cell_type": "code",
   "execution_count": 48,
   "metadata": {},
   "outputs": [],
   "source": [
    "#FIND THE MISSING LINK"
   ]
  },
  {
   "cell_type": "code",
   "execution_count": 125,
   "metadata": {},
   "outputs": [],
   "source": [
    "import pdb"
   ]
  },
  {
   "cell_type": "code",
   "execution_count": 134,
   "metadata": {},
   "outputs": [],
   "source": [
    "def missing(mylist):\n",
    "    lst = []\n",
    "    for i in range(len(mylist)-1):\n",
    "        diff = abs(mylist[i] - mylist[i+1])\n",
    "        lst.append(diff)\n",
    "    index = lst.index(max(lst))\n",
    "    num = mylist[index]+min(lst)\n",
    "    return num\n",
    "#Another way:\n",
    "def missingg(lst):\n",
    "    increment = (max(lst)-min(lst))/len(lst)\n",
    "    for i in lst:\n",
    "        if i + increment not in lst:\n",
    "            return i + increment"
   ]
  },
  {
   "cell_type": "code",
   "execution_count": 135,
   "metadata": {},
   "outputs": [
    {
     "data": {
      "text/plain": [
       "0.0"
      ]
     },
     "execution_count": 135,
     "metadata": {},
     "output_type": "execute_result"
    }
   ],
   "source": [
    "missing([-1.25, 1.25, 2.5])"
   ]
  },
  {
   "cell_type": "code",
   "execution_count": 136,
   "metadata": {},
   "outputs": [],
   "source": [
    "#Choosing a fuse"
   ]
  },
  {
   "cell_type": "code",
   "execution_count": 180,
   "metadata": {},
   "outputs": [],
   "source": [
    "def choose_fuse(fuses,current):\n",
    "    int_fuses = []\n",
    "    current = float(current[:-1])\n",
    "    for i in fuses:\n",
    "        int_fuses.append(int(i[:-1]))\n",
    "    ans = []\n",
    "    for i in int_fuses:\n",
    "        if i >= current:\n",
    "            ans.append(i)\n",
    "    return str(min(ans))+'V'"
   ]
  },
  {
   "cell_type": "code",
   "execution_count": 181,
   "metadata": {},
   "outputs": [
    {
     "data": {
      "text/plain": [
       "'12V'"
      ]
     },
     "execution_count": 181,
     "metadata": {},
     "output_type": "execute_result"
    }
   ],
   "source": [
    "choose_fuse([\"17V\", \"15V\", \"12V\"], \"9V\")"
   ]
  },
  {
   "cell_type": "code",
   "execution_count": 17,
   "metadata": {},
   "outputs": [],
   "source": [
    "#Sum of slices of list"
   ]
  },
  {
   "cell_type": "code",
   "execution_count": 34,
   "metadata": {},
   "outputs": [
    {
     "name": "stdout",
     "output_type": "stream",
     "text": [
      "17\n",
      "29\n",
      "17\n",
      "101\n",
      "123\n",
      "321\n",
      "[97, 78, 87, 68, 101, 123, 321]\n"
     ]
    }
   ],
   "source": [
    "mylist = [10, 29, 13, 14, 15, 16, 17, 31, 20, 10, 29, 13, 14, 15, 16, 17, 31, 20, 101, 123, 321]\n",
    "lst = []\n",
    "total = 0\n",
    "for i in range(len(mylist)):\n",
    "    if total + mylist[i] <= 100:\n",
    "        total = total + mylist[i]\n",
    "    else:\n",
    "        lst.append(total)\n",
    "        total = mylist[i]\n",
    "        print(total)\n",
    "if total > 100: \n",
    "    lst.append(total)\n",
    "print(lst)"
   ]
  },
  {
   "cell_type": "code",
   "execution_count": 35,
   "metadata": {},
   "outputs": [],
   "source": [
    "#Recamán Sequence"
   ]
  },
  {
   "cell_type": "code",
   "execution_count": 6,
   "metadata": {},
   "outputs": [],
   "source": [
    "def recaman_sequence(num):\n",
    "    seq = [0]\n",
    "    while seq[-1] != num:\n",
    "        if seq[-1] - len(seq) > 0 and seq[-1] - len(seq) not in seq:\n",
    "            seq.append(seq[-1] - len(seq))\n",
    "        else:\n",
    "            seq.append(seq[-1] + len(seq))\n",
    "    return seq.index(num)"
   ]
  },
  {
   "cell_type": "code",
   "execution_count": 12,
   "metadata": {},
   "outputs": [
    {
     "data": {
      "text/plain": [
       "387"
      ]
     },
     "execution_count": 12,
     "metadata": {},
     "output_type": "execute_result"
    }
   ],
   "source": [
    "recaman_sequence(100)"
   ]
  },
  {
   "cell_type": "code",
   "execution_count": 43,
   "metadata": {},
   "outputs": [],
   "source": [
    "#ARROW PATTERN"
   ]
  },
  {
   "cell_type": "code",
   "execution_count": 69,
   "metadata": {},
   "outputs": [],
   "source": [
    "def arrow(num):\n",
    "    mylist = list(range(1,num+1))\n",
    "    y = mylist[::-1]\n",
    "    mylist.extend(y)\n",
    "    if num % 2 != 0:\n",
    "        mylist.remove(num)\n",
    "    lst = []\n",
    "    for i in mylist:\n",
    "        lst.append('>'*i)\n",
    "    return lst"
   ]
  },
  {
   "cell_type": "code",
   "execution_count": 76,
   "metadata": {},
   "outputs": [
    {
     "data": {
      "text/plain": [
       "['>',\n",
       " '>>',\n",
       " '>>>',\n",
       " '>>>>',\n",
       " '>>>>>',\n",
       " '>>>>>>',\n",
       " '>>>>>>',\n",
       " '>>>>>',\n",
       " '>>>>',\n",
       " '>>>',\n",
       " '>>',\n",
       " '>']"
      ]
     },
     "execution_count": 76,
     "metadata": {},
     "output_type": "execute_result"
    }
   ],
   "source": [
    "arrow(6)"
   ]
  },
  {
   "cell_type": "code",
   "execution_count": 79,
   "metadata": {},
   "outputs": [],
   "source": [
    "#ABACABADABACABA"
   ]
  },
  {
   "cell_type": "code",
   "execution_count": 90,
   "metadata": {},
   "outputs": [
    {
     "name": "stdout",
     "output_type": "stream",
     "text": [
      "A\n",
      "ABA\n",
      "ABACABA\n",
      "ABACABADABACABA\n",
      "ABACABADABACABAEABACABADABACABA\n"
     ]
    }
   ],
   "source": [
    "s = 'E'\n",
    "res = ''\n",
    "for i in range(ord('A'), ord(s)+1):\n",
    "    res = res + chr(i) + res\n",
    "    print(res)"
   ]
  },
  {
   "cell_type": "code",
   "execution_count": 94,
   "metadata": {},
   "outputs": [
    {
     "data": {
      "text/plain": [
       "'D'"
      ]
     },
     "execution_count": 94,
     "metadata": {},
     "output_type": "execute_result"
    }
   ],
   "source": [
    "chr(ord('E')-1)"
   ]
  },
  {
   "cell_type": "code",
   "execution_count": 93,
   "metadata": {},
   "outputs": [],
   "source": [
    "#RECURSSIVE WAY:-\n",
    "def ABA(s):\n",
    "    if s == 'A':\n",
    "        return s\n",
    "    else:\n",
    "        x = chr(ord(s)-1)\n",
    "        return ABA(x) + s + ABA(x)"
   ]
  },
  {
   "cell_type": "code",
   "execution_count": 95,
   "metadata": {},
   "outputs": [
    {
     "data": {
      "text/plain": [
       "'ABACABADABACABAEABACABADABACABA'"
      ]
     },
     "execution_count": 95,
     "metadata": {},
     "output_type": "execute_result"
    }
   ],
   "source": [
    "ABA('E')"
   ]
  },
  {
   "cell_type": "code",
   "execution_count": 96,
   "metadata": {},
   "outputs": [],
   "source": [
    "#camelCase and snake_case"
   ]
  },
  {
   "cell_type": "code",
   "execution_count": 27,
   "metadata": {},
   "outputs": [],
   "source": [
    "def to_camel_case(snake):\n",
    "    mylist = snake.split('_')\n",
    "    lst = [mylist[0]]\n",
    "    for i in mylist[1:]:\n",
    "        lst.append(i.capitalize())\n",
    "    return ''.join(lst)"
   ]
  },
  {
   "cell_type": "code",
   "execution_count": 28,
   "metadata": {},
   "outputs": [
    {
     "data": {
      "text/plain": [
       "'helloDarknessMyOldFriend'"
      ]
     },
     "execution_count": 28,
     "metadata": {},
     "output_type": "execute_result"
    }
   ],
   "source": [
    "to_camel_case('hello_darkness_my_old_friend')"
   ]
  },
  {
   "cell_type": "code",
   "execution_count": 41,
   "metadata": {},
   "outputs": [],
   "source": [
    "def to_snake_case(camel):\n",
    "    res = []\n",
    "    for i in camel:\n",
    "        if i in 'ABCDEFGHIJKLMNOPQRSTUVWXYZ':\n",
    "            res.append('_')\n",
    "            res.append(i.lower())\n",
    "        else:\n",
    "            res.append(i)\n",
    "    return ''.join(res)"
   ]
  },
  {
   "cell_type": "code",
   "execution_count": 42,
   "metadata": {},
   "outputs": [
    {
     "data": {
      "text/plain": [
       "'i_dont_wanna_be_alone_in_the_darkness'"
      ]
     },
     "execution_count": 42,
     "metadata": {},
     "output_type": "execute_result"
    }
   ],
   "source": [
    "to_snake_case('iDontWannaBeAloneInTheDarkness')"
   ]
  },
  {
   "cell_type": "code",
   "execution_count": 43,
   "metadata": {},
   "outputs": [],
   "source": [
    "#I worked on a very low iq yesterday but today shit gets real!\n",
    "#I will do 15 minute cardio and 15 minute meditation to start my day\n",
    "#Then i'll code the remaining 6 medium level questions."
   ]
  },
  {
   "cell_type": "code",
   "execution_count": 79,
   "metadata": {},
   "outputs": [],
   "source": [
    "def trouble(num1,num2):\n",
    "    num1 = str(num1)\n",
    "    num2 = str(num2)\n",
    "    for i in range(len(num1)-2):\n",
    "        if num1[i] == num1[i+1] == num1[i+2]:\n",
    "            res = num1[i]\n",
    "            if res*2 in num2:\n",
    "                return True\n",
    "    return False\n",
    "\n",
    "#ANOTHER WAY:\n",
    "def troublee(num1, num2):\n",
    "    for i in \"0123456789\":\n",
    "        if i*3 in str(num1) and i*2 in str(num2):\n",
    "            return True\n",
    "    return False"
   ]
  },
  {
   "cell_type": "code",
   "execution_count": 83,
   "metadata": {},
   "outputs": [
    {
     "data": {
      "text/plain": [
       "True"
      ]
     },
     "execution_count": 83,
     "metadata": {},
     "output_type": "execute_result"
    }
   ],
   "source": [
    "trouble(451999277, 41177722899)"
   ]
  },
  {
   "cell_type": "code",
   "execution_count": 84,
   "metadata": {},
   "outputs": [],
   "source": [
    "#GUITAR FREQUENCY"
   ]
  },
  {
   "cell_type": "code",
   "execution_count": 109,
   "metadata": {},
   "outputs": [],
   "source": [
    "def fret_freq(g_str,fret):\n",
    "    mydic = {1 :329.63, 2 :246.94, 3 :196.00, 4 :146.83, 5 :110.00, 6 :82.41}\n",
    "    return round(mydic[g_str]* 2**(fret/12),2)"
   ]
  },
  {
   "cell_type": "code",
   "execution_count": 110,
   "metadata": {},
   "outputs": [
    {
     "data": {
      "text/plain": [
       "207.65"
      ]
     },
     "execution_count": 110,
     "metadata": {},
     "output_type": "execute_result"
    }
   ],
   "source": [
    "fret_freq(4,6)"
   ]
  },
  {
   "cell_type": "code",
   "execution_count": 122,
   "metadata": {},
   "outputs": [],
   "source": [
    "#f = C * 1.8 + 32\n",
    "#c = (F - 32) / 1.8"
   ]
  },
  {
   "cell_type": "code",
   "execution_count": 137,
   "metadata": {},
   "outputs": [],
   "source": [
    "def convert(deg):\n",
    "    if deg[-1] not in ['C','F']:\n",
    "        return 'Error'\n",
    "    elif deg[-1] == 'C':\n",
    "        f =  int(deg[:-2]) * 1.8 + 32\n",
    "        return str(round(f))+'*'+'F'\n",
    "    else:\n",
    "        c = (int(deg[:-2]) - 32) / 1.8\n",
    "        return str(round(c))+'*'+'C'"
   ]
  },
  {
   "cell_type": "code",
   "execution_count": 144,
   "metadata": {},
   "outputs": [
    {
     "data": {
      "text/plain": [
       "'38*C'"
      ]
     },
     "execution_count": 144,
     "metadata": {},
     "output_type": "execute_result"
    }
   ],
   "source": [
    "convert('100*F')"
   ]
  },
  {
   "cell_type": "code",
   "execution_count": 12,
   "metadata": {},
   "outputs": [],
   "source": [
    "#SUM OF LIST OF TIMES"
   ]
  },
  {
   "cell_type": "code",
   "execution_count": 57,
   "metadata": {},
   "outputs": [],
   "source": [
    "#lst = ['5:39:42', '10:02:08', '8:26:33'] "
   ]
  },
  {
   "cell_type": "code",
   "execution_count": 85,
   "metadata": {},
   "outputs": [],
   "source": [
    "def time_sum(lst):\n",
    "    h = 0 ; m = 0 ; s = 0\n",
    "    for i in lst:\n",
    "        string = ''.join(i)\n",
    "        nums = string.split(':')\n",
    "        h = h + int(nums[0])\n",
    "        m = m + int(nums[1])\n",
    "        s = s + int(nums[2])\n",
    "    while m > 60 or s > 60:\n",
    "        if s > 60:\n",
    "            s = s - 60 ; m = m + 1\n",
    "        elif m > 60:              \n",
    "            m = m - 60 ; h = h + 1\n",
    "    return [h,m,s]"
   ]
  },
  {
   "cell_type": "code",
   "execution_count": 86,
   "metadata": {},
   "outputs": [
    {
     "data": {
      "text/plain": [
       "[37, 12, 58]"
      ]
     },
     "execution_count": 86,
     "metadata": {},
     "output_type": "execute_result"
    }
   ],
   "source": [
    "time_sum(['10:11:02', '8:57:30', '10:58:56', '4:04:17', '3:01:13'])"
   ]
  },
  {
   "cell_type": "code",
   "execution_count": null,
   "metadata": {},
   "outputs": [],
   "source": []
  },
  {
   "cell_type": "code",
   "execution_count": 92,
   "metadata": {},
   "outputs": [],
   "source": [
    "def reverse_compliment(string):\n",
    "    step1 = string.replace('A','1')\n",
    "    step2 = step1.replace('U','2')\n",
    "    step3 = step2.replace('G','3')\n",
    "    step4 = step3.replace('C','4')\n",
    "    step5 = step4.replace('1','U')\n",
    "    step6 = step5.replace('2','A')\n",
    "    step7 = step6.replace('3','C')\n",
    "    step8 = step7.replace('4','G')\n",
    "    return step8[::-1]"
   ]
  },
  {
   "cell_type": "code",
   "execution_count": 93,
   "metadata": {},
   "outputs": [
    {
     "data": {
      "text/plain": [
       "'ACCUG'"
      ]
     },
     "execution_count": 93,
     "metadata": {},
     "output_type": "execute_result"
    }
   ],
   "source": [
    "reverse_compliment(\"CAGGU\")"
   ]
  },
  {
   "cell_type": "code",
   "execution_count": 28,
   "metadata": {},
   "outputs": [],
   "source": [
    "def encrypt(string):\n",
    "    step1 = string.replace('a','0')\n",
    "    step2 = step1.replace('e','1')\n",
    "    step3 = step2.replace('o','2')\n",
    "    step4 = step3.replace('u','3')\n",
    "    return step4[::-1]+'aca'\n",
    "#OR\n",
    "def encryptt(word):\n",
    "    return word[::-1].translate(str.maketrans('aeou', '0123')) + 'aca'"
   ]
  },
  {
   "cell_type": "code",
   "execution_count": 30,
   "metadata": {},
   "outputs": [
    {
     "data": {
      "text/plain": [
       "'0n0n0baca'"
      ]
     },
     "execution_count": 30,
     "metadata": {},
     "output_type": "execute_result"
    }
   ],
   "source": [
    "encryptt('banana')"
   ]
  },
  {
   "cell_type": "code",
   "execution_count": 41,
   "metadata": {},
   "outputs": [],
   "source": [
    "s = 'abccef'"
   ]
  },
  {
   "cell_type": "code",
   "execution_count": 42,
   "metadata": {},
   "outputs": [
    {
     "data": {
      "text/plain": [
       "'1233ef'"
      ]
     },
     "execution_count": 42,
     "metadata": {},
     "output_type": "execute_result"
    }
   ],
   "source": [
    "s.translate(str.maketrans('abcx','1234'))"
   ]
  },
  {
   "cell_type": "code",
   "execution_count": 56,
   "metadata": {},
   "outputs": [],
   "source": [
    "def combinations(*args):\n",
    "    product = 1\n",
    "    for i in args:\n",
    "        if i > 0:\n",
    "            product = product * i\n",
    "    return product"
   ]
  },
  {
   "cell_type": "code",
   "execution_count": 58,
   "metadata": {},
   "outputs": [
    {
     "data": {
      "text/plain": [
       "125"
      ]
     },
     "execution_count": 58,
     "metadata": {},
     "output_type": "execute_result"
    }
   ],
   "source": [
    "combinations(5,5,5,0)"
   ]
  },
  {
   "cell_type": "code",
   "execution_count": 158,
   "metadata": {},
   "outputs": [],
   "source": [
    "def uncensor(string,vowels):\n",
    "    vowels = vowels.replace('',' ')\n",
    "    vowels = vowels.split()\n",
    "    ans = ''\n",
    "    for i in string:\n",
    "        if i != '*':\n",
    "            ans = ans + i\n",
    "        else:\n",
    "            ans = ans + vowels.pop(0)\n",
    "    return ans"
   ]
  },
  {
   "cell_type": "code",
   "execution_count": 160,
   "metadata": {},
   "outputs": [
    {
     "data": {
      "text/plain": [
       "'Cheese, Grommit -- cheese'"
      ]
     },
     "execution_count": 160,
     "metadata": {},
     "output_type": "execute_result"
    }
   ],
   "source": [
    "uncensor('Ch**s*, Gr*mm*t -- ch**s*', 'eeeoieee')"
   ]
  },
  {
   "cell_type": "code",
   "execution_count": 1,
   "metadata": {},
   "outputs": [],
   "source": [
    "#"
   ]
  },
  {
   "cell_type": "code",
   "execution_count": 33,
   "metadata": {},
   "outputs": [],
   "source": [
    "def blocks(steps):\n",
    "    if steps == 0:\n",
    "        return 0\n",
    "    left = (steps-1) * 3\n",
    "    right = list(range(4,steps+3))\n",
    "    ans = left + sum(right)\n",
    "    return ans + 5"
   ]
  },
  {
   "cell_type": "code",
   "execution_count": 34,
   "metadata": {},
   "outputs": [
    {
     "data": {
      "text/plain": [
       "39"
      ]
     },
     "execution_count": 34,
     "metadata": {},
     "output_type": "execute_result"
    }
   ],
   "source": [
    "blocks(5)"
   ]
  },
  {
   "cell_type": "code",
   "execution_count": 76,
   "metadata": {},
   "outputs": [],
   "source": [
    "#💀💀💀💀💀💀💀💀💀💀💀💀💀💀💀💀💀💀💀💀💀💀💀💀💀💀💀💀💀💀💀💀💀💀💀💀💀💀💀💀💀💀"
   ]
  },
  {
   "cell_type": "code",
   "execution_count": 77,
   "metadata": {},
   "outputs": [],
   "source": [
    "#Create a function that takes a list and returns a new list containing only prime numbers."
   ]
  },
  {
   "cell_type": "code",
   "execution_count": 80,
   "metadata": {},
   "outputs": [],
   "source": [
    "def filter_primes(mylist):\n",
    "    new_list = []\n",
    "    for num in mylist:\n",
    "        if num > 1:\n",
    "            for i in range(2,num):\n",
    "                if num%i == 0:\n",
    "                    break\n",
    "            else:\n",
    "                new_list.append(num)\n",
    "    return new_list\n",
    "#Another way:-\n",
    "#def filter_primes(num):\n",
    "#    return [i for i in num if prime(i)]\n",
    "\n",
    "#def prime(n):\n",
    "#    for i in range(2,n):\n",
    "#        if n%i == 0:\n",
    "#            return False\n",
    "#    return n != 1"
   ]
  },
  {
   "cell_type": "code",
   "execution_count": 81,
   "metadata": {},
   "outputs": [
    {
     "data": {
      "text/plain": [
       "[2, 3, 5, 7, 11, 13]"
      ]
     },
     "execution_count": 81,
     "metadata": {},
     "output_type": "execute_result"
    }
   ],
   "source": [
    "filter_primes([1,1,1,2,3,4,5,6,7,1,1,8,9,10,11,13,14,15])"
   ]
  },
  {
   "cell_type": "code",
   "execution_count": 109,
   "metadata": {},
   "outputs": [],
   "source": [
    "def count_lone_ones(num):\n",
    "    num = '0'+str(num)+'0'\n",
    "    count = 0\n",
    "    for i in range(len(num)):\n",
    "        if num[i-1] != '1' and num[i] == '1' and num[i+1] != '1':\n",
    "            count += 1\n",
    "    return count"
   ]
  },
  {
   "cell_type": "code",
   "execution_count": 110,
   "metadata": {},
   "outputs": [
    {
     "data": {
      "text/plain": [
       "9"
      ]
     },
     "execution_count": 110,
     "metadata": {},
     "output_type": "execute_result"
    }
   ],
   "source": [
    "count_lone_ones(12131415161718191)"
   ]
  },
  {
   "cell_type": "code",
   "execution_count": 17,
   "metadata": {},
   "outputs": [],
   "source": [
    "#count prime numbers"
   ]
  },
  {
   "cell_type": "code",
   "execution_count": 26,
   "metadata": {},
   "outputs": [],
   "source": [
    "def prime_numbers(num):\n",
    "    new_list = []\n",
    "    for x in range(2,num+1):\n",
    "        for i in range(2,x):\n",
    "            if x%i == 0:\n",
    "                break\n",
    "        else:\n",
    "            new_list.append(x)\n",
    "    return len(new_list)"
   ]
  },
  {
   "cell_type": "code",
   "execution_count": 28,
   "metadata": {},
   "outputs": [
    {
     "data": {
      "text/plain": [
       "168"
      ]
     },
     "execution_count": 28,
     "metadata": {},
     "output_type": "execute_result"
    }
   ],
   "source": [
    "prime_numbers(1000)"
   ]
  },
  {
   "cell_type": "code",
   "execution_count": 29,
   "metadata": {},
   "outputs": [],
   "source": [
    "#Primorial"
   ]
  },
  {
   "cell_type": "code",
   "execution_count": 58,
   "metadata": {},
   "outputs": [],
   "source": [
    "def primorial(n):\n",
    "    new_list = []\n",
    "    for x in range(2,5000):\n",
    "        for i in range(2,x):\n",
    "            if x%i == 0:\n",
    "                break\n",
    "        else:\n",
    "            new_list.append(x)\n",
    "    ans = 1\n",
    "    for i in new_list[0:n]:\n",
    "        ans = ans * i\n",
    "    return ans"
   ]
  },
  {
   "cell_type": "code",
   "execution_count": 60,
   "metadata": {},
   "outputs": [
    {
     "data": {
      "text/plain": [
       "557940830126698960967415390"
      ]
     },
     "execution_count": 60,
     "metadata": {},
     "output_type": "execute_result"
    }
   ],
   "source": [
    "primorial(20)"
   ]
  },
  {
   "cell_type": "code",
   "execution_count": 91,
   "metadata": {},
   "outputs": [],
   "source": [
    "#Magic_Square_game"
   ]
  },
  {
   "cell_type": "code",
   "execution_count": 92,
   "metadata": {},
   "outputs": [],
   "source": [
    "def magic_square_game(alice, bob):\n",
    "    return alice[1][bob[0]-1] == bob[1][alice[0]-1]"
   ]
  },
  {
   "cell_type": "code",
   "execution_count": 93,
   "metadata": {},
   "outputs": [
    {
     "data": {
      "text/plain": [
       "True"
      ]
     },
     "execution_count": 93,
     "metadata": {},
     "output_type": "execute_result"
    }
   ],
   "source": [
    "magic_square_game([3,'010'],[1,'110'])"
   ]
  },
  {
   "cell_type": "code",
   "execution_count": 1,
   "metadata": {},
   "outputs": [],
   "source": [
    "#Hole Numbers"
   ]
  },
  {
   "cell_type": "code",
   "execution_count": 72,
   "metadata": {},
   "outputs": [],
   "source": [
    "def sum_of_holes(n):\n",
    "    string = ''\n",
    "    for i in range(n+1):\n",
    "        string = string + str(i)\n",
    "    holes = 0\n",
    "    for i in string:\n",
    "        if i in ['4','6','9','0']:\n",
    "            holes = holes + 1\n",
    "        elif i == '8':\n",
    "            holes = holes + 2\n",
    "    return holes"
   ]
  },
  {
   "cell_type": "code",
   "execution_count": 74,
   "metadata": {},
   "outputs": [
    {
     "data": {
      "text/plain": [
       "8"
      ]
     },
     "execution_count": 74,
     "metadata": {},
     "output_type": "execute_result"
    }
   ],
   "source": [
    "sum_of_holes(14)"
   ]
  },
  {
   "cell_type": "code",
   "execution_count": 75,
   "metadata": {},
   "outputs": [],
   "source": [
    "#Snail crawl out of the bucket"
   ]
  },
  {
   "cell_type": "code",
   "execution_count": 109,
   "metadata": {},
   "outputs": [],
   "source": [
    "def cal(depth):\n",
    "    minutes = 0\n",
    "    while depth > 0:\n",
    "        depth = depth - 5\n",
    "        minutes = minutes + 1\n",
    "        if minutes in [30,70,110,150,190,230,270,310,350,390,430] and depth > 0:\n",
    "            depth = depth + 30\n",
    "            minutes = minutes + 10\n",
    "    return minutes"
   ]
  },
  {
   "cell_type": "code",
   "execution_count": 130,
   "metadata": {},
   "outputs": [
    {
     "data": {
      "text/plain": [
       "47"
      ]
     },
     "execution_count": 130,
     "metadata": {},
     "output_type": "execute_result"
    }
   ],
   "source": [
    "cal(151)"
   ]
  },
  {
   "cell_type": "code",
   "execution_count": 131,
   "metadata": {},
   "outputs": [],
   "source": [
    "def call(d):\n",
    "    t = 0\n",
    "    while True:\n",
    "        for _ in range(30):\n",
    "            d -= 5\n",
    "            t += 1\n",
    "            if d <= 0:\n",
    "                return t\n",
    "        d += 30\n",
    "        t += 10"
   ]
  },
  {
   "cell_type": "code",
   "execution_count": 132,
   "metadata": {},
   "outputs": [
    {
     "data": {
      "text/plain": [
       "47"
      ]
     },
     "execution_count": 132,
     "metadata": {},
     "output_type": "execute_result"
    }
   ],
   "source": [
    "call(151)"
   ]
  },
  {
   "cell_type": "code",
   "execution_count": 133,
   "metadata": {},
   "outputs": [],
   "source": [
    "#Block the square in tic tac toe"
   ]
  },
  {
   "cell_type": "code",
   "execution_count": 269,
   "metadata": {},
   "outputs": [],
   "source": [
    "def block_player(a,b):\n",
    "    win = [[0,1,2],[3,4,5],[6,7,8],[0,3,6],[1,4,7],[2,5,8],[0,4,8],[2,4,6]]\n",
    "    for i in win:\n",
    "        if a in i and b in i:\n",
    "            ans = i\n",
    "    ans.remove(a) ; ans.remove(b)\n",
    "    return ans[0] #or ans.pop()"
   ]
  },
  {
   "cell_type": "code",
   "execution_count": 270,
   "metadata": {},
   "outputs": [
    {
     "data": {
      "text/plain": [
       "5"
      ]
     },
     "execution_count": 270,
     "metadata": {},
     "output_type": "execute_result"
    }
   ],
   "source": [
    "block_player(2,8)"
   ]
  },
  {
   "cell_type": "code",
   "execution_count": 268,
   "metadata": {},
   "outputs": [
    {
     "name": "stdout",
     "output_type": "stream",
     "text": [
      "5\n"
     ]
    }
   ],
   "source": [
    "#Another Method\n",
    "a = 2\n",
    "b = 8\n",
    "wins = ({0, 1, 2}, {3, 4, 5}, {6, 7, 8}, {0, 4, 8},{0, 3, 6}, {1, 4, 7}, {2, 5, 8}, {2, 4, 6})\n",
    "for i in wins:\n",
    "    if {a, b}.issubset(i):\n",
    "        print((i-{a,b}).pop())"
   ]
  },
  {
   "cell_type": "code",
   "execution_count": 271,
   "metadata": {},
   "outputs": [],
   "source": [
    "#Given N as input, return a list with all primes up to N included."
   ]
  },
  {
   "cell_type": "code",
   "execution_count": 295,
   "metadata": {},
   "outputs": [],
   "source": [
    "def eratosthenes(num):\n",
    "    mylist = []\n",
    "    for number in range(2,num+1):\n",
    "        for i in range(2,number):\n",
    "            if number % i == 0:\n",
    "                break\n",
    "        else:\n",
    "            mylist.append(number)\n",
    "    return mylist"
   ]
  },
  {
   "cell_type": "code",
   "execution_count": 301,
   "metadata": {},
   "outputs": [
    {
     "data": {
      "text/plain": [
       "[2, 3, 5, 7, 11, 13, 17, 19]"
      ]
     },
     "execution_count": 301,
     "metadata": {},
     "output_type": "execute_result"
    }
   ],
   "source": [
    "eratosthenes(20)"
   ]
  },
  {
   "cell_type": "code",
   "execution_count": 305,
   "metadata": {},
   "outputs": [],
   "source": [
    "#Smallest square ending"
   ]
  },
  {
   "cell_type": "code",
   "execution_count": 381,
   "metadata": {},
   "outputs": [],
   "source": [
    "def babbage(n):\n",
    "    if n == 269696: \n",
    "        return 'Babbage was incorrect!'\n",
    "    for i in range(n+100000):\n",
    "        if str(i**2).endswith(str(n)):\n",
    "            return i"
   ]
  },
  {
   "cell_type": "code",
   "execution_count": 382,
   "metadata": {},
   "outputs": [
    {
     "data": {
      "text/plain": [
       "'Babbage was incorrect!'"
      ]
     },
     "execution_count": 382,
     "metadata": {},
     "output_type": "execute_result"
    }
   ],
   "source": [
    "babbage(269696)"
   ]
  },
  {
   "cell_type": "code",
   "execution_count": 1,
   "metadata": {},
   "outputs": [],
   "source": [
    "#Look and say numbers"
   ]
  },
  {
   "cell_type": "code",
   "execution_count": 41,
   "metadata": {},
   "outputs": [],
   "source": [
    "import textwrap                                                                                            \n",
    "def look_and_say(n):\n",
    "    if len(str(n)) % 2 != 0:\n",
    "        return 'invalid'\n",
    "    split = textwrap.wrap(str(n), 2)\n",
    "    ans = ''\n",
    "    for i in range(len(split)):\n",
    "        x = int(split[i][0]) * split[i][1]\n",
    "        ans = ans + x\n",
    "    return int(ans)"
   ]
  },
  {
   "cell_type": "code",
   "execution_count": 44,
   "metadata": {},
   "outputs": [
    {
     "data": {
      "text/plain": [
       "330"
      ]
     },
     "execution_count": 44,
     "metadata": {},
     "output_type": "execute_result"
    }
   ],
   "source": [
    "look_and_say(2310)"
   ]
  },
  {
   "cell_type": "code",
   "execution_count": 64,
   "metadata": {},
   "outputs": [],
   "source": [
    "t = '1234567890'\n",
    "for n, ch in zip(t[::2],t[1::2]):\n",
    "    pass"
   ]
  },
  {
   "cell_type": "code",
   "execution_count": 65,
   "metadata": {},
   "outputs": [
    {
     "data": {
      "text/plain": [
       "'24680'"
      ]
     },
     "execution_count": 65,
     "metadata": {},
     "output_type": "execute_result"
    }
   ],
   "source": [
    "t[1::2]"
   ]
  },
  {
   "cell_type": "code",
   "execution_count": 1,
   "metadata": {},
   "outputs": [],
   "source": [
    "#Write a function that sorts the positive numbers in ascending order, and keeps the negative numbers \n",
    "#untouched."
   ]
  },
  {
   "cell_type": "code",
   "execution_count": 19,
   "metadata": {},
   "outputs": [],
   "source": [
    "def pos_neg_sort(lst):\n",
    "    mylist = []\n",
    "    for i in lst:\n",
    "        if i > 0:\n",
    "            mylist.append(i)\n",
    "    mylist.sort()\n",
    "    for i in range(len(lst)):\n",
    "        if lst[i] > 0:\n",
    "            lst[i] = mylist.pop(0)\n",
    "    return lst"
   ]
  },
  {
   "cell_type": "code",
   "execution_count": 22,
   "metadata": {},
   "outputs": [
    {
     "data": {
      "text/plain": [
       "[-5, 1, -8, 2, -1, 3, 4, -7]"
      ]
     },
     "execution_count": 22,
     "metadata": {},
     "output_type": "execute_result"
    }
   ],
   "source": [
    "pos_neg_sort([-5, 4, -8, 3, -1, 2, 1, -7])"
   ]
  },
  {
   "cell_type": "code",
   "execution_count": 24,
   "metadata": {},
   "outputs": [],
   "source": [
    "#Sorting without built in sort() or sorted"
   ]
  },
  {
   "cell_type": "code",
   "execution_count": 38,
   "metadata": {},
   "outputs": [],
   "source": [
    "def sort_array(lst):\n",
    "    mylist = []\n",
    "    for i in range(min(lst),max(lst)+1):\n",
    "        if i in lst:\n",
    "            mylist.append(i)\n",
    "    return mylist"
   ]
  },
  {
   "cell_type": "code",
   "execution_count": 39,
   "metadata": {},
   "outputs": [
    {
     "data": {
      "text/plain": [
       "[-45, -1, 20, 26, 74]"
      ]
     },
     "execution_count": 39,
     "metadata": {},
     "output_type": "execute_result"
    }
   ],
   "source": [
    "sort_array([26, -1, -45, 74, 20])"
   ]
  },
  {
   "cell_type": "code",
   "execution_count": 40,
   "metadata": {},
   "outputs": [],
   "source": [
    "#Height_needed"
   ]
  },
  {
   "cell_type": "code",
   "execution_count": 42,
   "metadata": {},
   "outputs": [],
   "source": [
    "a = 190.99/5"
   ]
  },
  {
   "cell_type": "code",
   "execution_count": 56,
   "metadata": {},
   "outputs": [
    {
     "data": {
      "text/plain": [
       "38.198"
      ]
     },
     "execution_count": 56,
     "metadata": {},
     "output_type": "execute_result"
    }
   ],
   "source": [
    "a"
   ]
  },
  {
   "cell_type": "code",
   "execution_count": 55,
   "metadata": {},
   "outputs": [
    {
     "data": {
      "text/plain": [
       "114.59"
      ]
     },
     "execution_count": 55,
     "metadata": {},
     "output_type": "execute_result"
    }
   ],
   "source": [
    "round(a*3,2)"
   ]
  },
  {
   "cell_type": "code",
   "execution_count": 59,
   "metadata": {},
   "outputs": [],
   "source": [
    "def height_needed(volume):\n",
    "    one = 38.198\n",
    "    return round(one*volume,2)"
   ]
  },
  {
   "cell_type": "code",
   "execution_count": 62,
   "metadata": {},
   "outputs": [
    {
     "data": {
      "text/plain": [
       "381.98"
      ]
     },
     "execution_count": 62,
     "metadata": {},
     "output_type": "execute_result"
    }
   ],
   "source": [
    "height_needed(10)"
   ]
  },
  {
   "cell_type": "code",
   "execution_count": 64,
   "metadata": {},
   "outputs": [],
   "source": [
    "#Rearrange the Sentence"
   ]
  },
  {
   "cell_type": "code",
   "execution_count": 28,
   "metadata": {},
   "outputs": [],
   "source": [
    "def rearrange(s):\n",
    "    lst = s.split()\n",
    "    mylist = []\n",
    "    for num in range(1,len(lst)+1):\n",
    "        for item in lst:\n",
    "            if str(num) in item:\n",
    "                mylist.append(item.replace(str(num),''))\n",
    "    return ' '.join(mylist)"
   ]
  },
  {
   "cell_type": "code",
   "execution_count": 29,
   "metadata": {},
   "outputs": [
    {
     "data": {
      "text/plain": [
       "'For the good of the people'"
      ]
     },
     "execution_count": 29,
     "metadata": {},
     "output_type": "execute_result"
    }
   ],
   "source": [
    "rearrange(\"4of Fo1r pe6ople g3ood th5e th2e\")"
   ]
  },
  {
   "cell_type": "code",
   "execution_count": 1,
   "metadata": {},
   "outputs": [],
   "source": [
    "#Super D numbers"
   ]
  },
  {
   "cell_type": "code",
   "execution_count": 41,
   "metadata": {},
   "outputs": [],
   "source": [
    "def is_super_d(n):\n",
    "    for d in range(2,10):\n",
    "        if str(d) * d in str(d * n**d):\n",
    "            return ('Super-{} Number'.format(d)) \n",
    "    return 'Normal Number'"
   ]
  },
  {
   "cell_type": "code",
   "execution_count": 42,
   "metadata": {},
   "outputs": [
    {
     "data": {
      "text/plain": [
       "'Super-8 Number'"
      ]
     },
     "execution_count": 42,
     "metadata": {},
     "output_type": "execute_result"
    }
   ],
   "source": [
    "is_super_d(185423)"
   ]
  },
  {
   "cell_type": "code",
   "execution_count": 43,
   "metadata": {},
   "outputs": [],
   "source": [
    "#palindrome using stack"
   ]
  },
  {
   "cell_type": "code",
   "execution_count": 156,
   "metadata": {},
   "outputs": [],
   "source": [
    "class Stack:\n",
    "    def __init__(self):\n",
    "        self.data = []\n",
    "    def size(self):\n",
    "        return len(self.data)\n",
    "    def push(self, element):\n",
    "        self.data.extend(element)\n",
    "    def peek_top(self):\n",
    "        if self.size() == 0:\n",
    "            return \"Stack Is Empty\"\n",
    "        return self.data[-1]\n",
    "    def pop(self):\n",
    "        if self.size() == 0:\n",
    "            return \"Stack Is Empty\"\n",
    "        return self.data.pop()\n",
    "import textwrap                                                                                            \n",
    "def is_palindrome(word):\n",
    "    palindrome = Stack()\n",
    "    new_word = textwrap.wrap(word, 1)\n",
    "    palindrome.push(new_word)\n",
    "    palindrome.data\n",
    "    mylist = []\n",
    "    for i in range(0,palindrome.size()):\n",
    "        x = palindrome.peek_top()\n",
    "        palindrome.pop()\n",
    "        mylist.append(x)\n",
    "    return word == ''.join(mylist)"
   ]
  },
  {
   "cell_type": "code",
   "execution_count": 160,
   "metadata": {},
   "outputs": [
    {
     "data": {
      "text/plain": [
       "True"
      ]
     },
     "execution_count": 160,
     "metadata": {},
     "output_type": "execute_result"
    }
   ],
   "source": [
    "is_palindrome('civic')"
   ]
  },
  {
   "cell_type": "code",
   "execution_count": 161,
   "metadata": {},
   "outputs": [],
   "source": [
    "#Length of the missing list"
   ]
  },
  {
   "cell_type": "code",
   "execution_count": 201,
   "metadata": {},
   "outputs": [],
   "source": [
    "def find_missing(lst):\n",
    "    if lst == None or lst == [] or [] in lst:\n",
    "        return False\n",
    "    lst.sort()\n",
    "    mylist = []\n",
    "    for i in lst:\n",
    "        mylist.append(len(i))\n",
    "    for i in range(1,len(mylist)+2):\n",
    "        if i not in mylist:\n",
    "            return i"
   ]
  },
  {
   "cell_type": "code",
   "execution_count": 205,
   "metadata": {},
   "outputs": [
    {
     "data": {
      "text/plain": [
       "3"
      ]
     },
     "execution_count": 205,
     "metadata": {},
     "output_type": "execute_result"
    }
   ],
   "source": [
    "find_missing([[5, 6, 7, 8, 9], [1, 2], [4, 5, 1, 1], [1]])"
   ]
  },
  {
   "cell_type": "code",
   "execution_count": 206,
   "metadata": {},
   "outputs": [],
   "source": [
    "#Inverter"
   ]
  },
  {
   "cell_type": "code",
   "execution_count": 3,
   "metadata": {},
   "outputs": [],
   "source": [
    "def inverter(text,tipe):\n",
    "    lst = text.split()\n",
    "    if tipe == 'P':\n",
    "        lst = lst[::-1]\n",
    "        lst = ' '.join(lst)\n",
    "        return lst.capitalize()\n",
    "    elif tipe == 'W':\n",
    "        mylist = []\n",
    "        for i in lst:\n",
    "            mylist.append(i[::-1])\n",
    "        mylist = ' '.join(mylist)\n",
    "        return mylist.capitalize()"
   ]
  },
  {
   "cell_type": "code",
   "execution_count": 9,
   "metadata": {},
   "outputs": [
    {
     "data": {
      "text/plain": [
       "'Two of powers by division'"
      ]
     },
     "execution_count": 9,
     "metadata": {},
     "output_type": "execute_result"
    }
   ],
   "source": [
    "inverter(\"Division by powers of two\", \"P\")"
   ]
  },
  {
   "cell_type": "code",
   "execution_count": 10,
   "metadata": {},
   "outputs": [],
   "source": [
    "#Shop"
   ]
  },
  {
   "cell_type": "code",
   "execution_count": 22,
   "metadata": {},
   "outputs": [],
   "source": [
    "def maximum_items(prices,budget):\n",
    "    budget = budget.replace('$','')\n",
    "    budget = int(budget)\n",
    "    mylist = []\n",
    "    for i in prices:\n",
    "        x = i.replace('$','')\n",
    "        mylist.append(int(x))\n",
    "    mylist.sort()\n",
    "    if min(mylist)>budget:\n",
    "        return 'Not enough funds!'\n",
    "    items = 0\n",
    "    for i in mylist:\n",
    "        if i < budget:\n",
    "            items = items + 1\n",
    "            budget = budget - i\n",
    "    return items"
   ]
  },
  {
   "cell_type": "code",
   "execution_count": 26,
   "metadata": {},
   "outputs": [
    {
     "data": {
      "text/plain": [
       "5"
      ]
     },
     "execution_count": 26,
     "metadata": {},
     "output_type": "execute_result"
    }
   ],
   "source": [
    "maximum_items([\"$92\", \"$55\", \"$35\", \"$78\", \"$1\"], \"$421\")"
   ]
  },
  {
   "cell_type": "code",
   "execution_count": 27,
   "metadata": {},
   "outputs": [],
   "source": [
    "#Lcm"
   ]
  },
  {
   "cell_type": "code",
   "execution_count": 35,
   "metadata": {},
   "outputs": [],
   "source": [
    "import numpy as np\n",
    "def lcm_three(num):\n",
    "    return np.lcm.reduce(num)"
   ]
  },
  {
   "cell_type": "code",
   "execution_count": 37,
   "metadata": {},
   "outputs": [
    {
     "data": {
      "text/plain": [
       "1168440"
      ]
     },
     "execution_count": 37,
     "metadata": {},
     "output_type": "execute_result"
    }
   ],
   "source": [
    "lcm_three([104, 105, 107])"
   ]
  },
  {
   "cell_type": "code",
   "execution_count": 38,
   "metadata": {},
   "outputs": [],
   "source": [
    "#expand"
   ]
  },
  {
   "cell_type": "code",
   "execution_count": 8,
   "metadata": {},
   "outputs": [],
   "source": [
    "def expand(num):\n",
    "    string = str(num)\n",
    "    s = ''\n",
    "    for i in range(len(string)):\n",
    "        if int(string[i]) > 0:\n",
    "            s += string[i] + '0'*(len(string[i::])-1) + ' + '\n",
    "    return s[0:-3]"
   ]
  },
  {
   "cell_type": "code",
   "execution_count": 11,
   "metadata": {},
   "outputs": [
    {
     "data": {
      "text/plain": [
       "'70000 + 300 + 4'"
      ]
     },
     "execution_count": 11,
     "metadata": {},
     "output_type": "execute_result"
    }
   ],
   "source": [
    "expand(70304)"
   ]
  }
 ],
 "metadata": {
  "kernelspec": {
   "display_name": "Python 3",
   "language": "python",
   "name": "python3"
  },
  "language_info": {
   "codemirror_mode": {
    "name": "ipython",
    "version": 3
   },
   "file_extension": ".py",
   "mimetype": "text/x-python",
   "name": "python",
   "nbconvert_exporter": "python",
   "pygments_lexer": "ipython3",
   "version": "3.7.6"
  }
 },
 "nbformat": 4,
 "nbformat_minor": 4
}
