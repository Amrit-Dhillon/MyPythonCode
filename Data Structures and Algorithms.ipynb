{
 "cells": [
  {
   "cell_type": "code",
   "execution_count": 12,
   "metadata": {},
   "outputs": [],
   "source": [
    "#constant = big O(1)"
   ]
  },
  {
   "cell_type": "code",
   "execution_count": 14,
   "metadata": {},
   "outputs": [],
   "source": [
    "#linear = An algorithm is said to take linear time, or O(n) time, if its time complexity is O(n). \n",
    "#Informally, this means that the running time increases at most linearly with the size of the input.\n",
    "#i.e higher the input, more the time taken to complete the algorithm"
   ]
  },
  {
   "cell_type": "code",
   "execution_count": 103,
   "metadata": {},
   "outputs": [],
   "source": [
    "n = 1000000"
   ]
  },
  {
   "cell_type": "code",
   "execution_count": 109,
   "metadata": {},
   "outputs": [
    {
     "name": "stdout",
     "output_type": "stream",
     "text": [
      "0.0003000002000004\n"
     ]
    }
   ],
   "source": [
    "x = (n**4)\n",
    "y = (3*(n**3)) + (2*(n**2)) + ((4*n)) + 1\n",
    "print((y/x)*100)"
   ]
  },
  {
   "cell_type": "code",
   "execution_count": 1,
   "metadata": {},
   "outputs": [],
   "source": [
    "import math"
   ]
  },
  {
   "cell_type": "code",
   "execution_count": 14,
   "metadata": {},
   "outputs": [
    {
     "data": {
      "text/plain": [
       "6.643856189774724"
      ]
     },
     "execution_count": 14,
     "metadata": {},
     "output_type": "execute_result"
    }
   ],
   "source": [
    "math.log2(100)"
   ]
  },
  {
   "cell_type": "code",
   "execution_count": 15,
   "metadata": {},
   "outputs": [],
   "source": [
    "#Recursion"
   ]
  },
  {
   "cell_type": "code",
   "execution_count": 20,
   "metadata": {},
   "outputs": [],
   "source": [
    "def rec(n):\n",
    "    if n>0:\n",
    "        print(n**2)\n",
    "        rec(n-1)"
   ]
  },
  {
   "cell_type": "code",
   "execution_count": 21,
   "metadata": {},
   "outputs": [
    {
     "name": "stdout",
     "output_type": "stream",
     "text": [
      "16\n",
      "9\n",
      "4\n",
      "1\n"
     ]
    }
   ],
   "source": [
    "rec(4)"
   ]
  },
  {
   "cell_type": "code",
   "execution_count": 52,
   "metadata": {},
   "outputs": [],
   "source": [
    "def rec(n):\n",
    "    if n < 0:\n",
    "        return 0\n",
    "    return rec(n-1)+n\n",
    "#n(n+1)/2"
   ]
  },
  {
   "cell_type": "code",
   "execution_count": 41,
   "metadata": {},
   "outputs": [
    {
     "data": {
      "text/plain": [
       "55"
      ]
     },
     "execution_count": 41,
     "metadata": {},
     "output_type": "execute_result"
    }
   ],
   "source": [
    "rec(10)"
   ]
  },
  {
   "cell_type": "code",
   "execution_count": 53,
   "metadata": {},
   "outputs": [],
   "source": [
    "#Factorial with recurssion"
   ]
  },
  {
   "cell_type": "code",
   "execution_count": 64,
   "metadata": {},
   "outputs": [],
   "source": [
    "def fac_rec(n):\n",
    "    if n < 1:\n",
    "        return 1\n",
    "    return fac_rec(n-1)*n"
   ]
  },
  {
   "cell_type": "code",
   "execution_count": 66,
   "metadata": {},
   "outputs": [
    {
     "data": {
      "text/plain": [
       "6"
      ]
     },
     "execution_count": 66,
     "metadata": {},
     "output_type": "execute_result"
    }
   ],
   "source": [
    "fac_rec(3)"
   ]
  },
  {
   "cell_type": "code",
   "execution_count": 80,
   "metadata": {},
   "outputs": [],
   "source": [
    "def linear_search(lst,key):\n",
    "    for i in range(len(lst)):\n",
    "        if lst[i] == key:\n",
    "            return i"
   ]
  },
  {
   "cell_type": "code",
   "execution_count": 81,
   "metadata": {},
   "outputs": [
    {
     "data": {
      "text/plain": [
       "2"
      ]
     },
     "execution_count": 81,
     "metadata": {},
     "output_type": "execute_result"
    }
   ],
   "source": [
    "linear_search([1,2,3,4,5,6,7],3)"
   ]
  },
  {
   "cell_type": "code",
   "execution_count": 2,
   "metadata": {},
   "outputs": [],
   "source": [
    "#Binary Search"
   ]
  },
  {
   "cell_type": "code",
   "execution_count": 10,
   "metadata": {},
   "outputs": [],
   "source": [
    "def binary_iteration_search(lst,key):\n",
    "    left = 0\n",
    "    right = len(lst)-1\n",
    "    while left <= right:\n",
    "        middle = (left+right)//2\n",
    "        if key == lst[middle]:\n",
    "            return middle\n",
    "        elif key < lst[middle]:\n",
    "            right = middle - 1\n",
    "        elif key > lst[middle]:\n",
    "            left = middle + 1\n",
    "    return 'Not Found'"
   ]
  },
  {
   "cell_type": "code",
   "execution_count": 11,
   "metadata": {},
   "outputs": [
    {
     "data": {
      "text/plain": [
       "12"
      ]
     },
     "execution_count": 11,
     "metadata": {},
     "output_type": "execute_result"
    }
   ],
   "source": [
    "binary_iteration_search([10,13,15,16,18,19,23,45,58,64,65,75,99],99)"
   ]
  },
  {
   "cell_type": "code",
   "execution_count": 15,
   "metadata": {},
   "outputs": [],
   "source": [
    "#Selection sort"
   ]
  },
  {
   "cell_type": "code",
   "execution_count": 5,
   "metadata": {},
   "outputs": [],
   "source": [
    "def selection_sort(a):\n",
    "    n = len(a)\n",
    "    mylist = []\n",
    "    for i in range(n-1):\n",
    "        position = i\n",
    "        for j in range(i+1, n):\n",
    "            if a[j] < a[position]:\n",
    "                position = j\n",
    "        a[i], a[position] = a[position], a[i]"
   ]
  },
  {
   "cell_type": "code",
   "execution_count": 10,
   "metadata": {},
   "outputs": [],
   "source": [
    "a = [1,4,2,6,3,5]\n",
    "selection_sort(a)"
   ]
  },
  {
   "cell_type": "code",
   "execution_count": 11,
   "metadata": {},
   "outputs": [
    {
     "data": {
      "text/plain": [
       "[1, 2, 3, 4, 5, 6]"
      ]
     },
     "execution_count": 11,
     "metadata": {},
     "output_type": "execute_result"
    }
   ],
   "source": [
    "a"
   ]
  },
  {
   "cell_type": "code",
   "execution_count": 1,
   "metadata": {},
   "outputs": [],
   "source": [
    "#Insertion Sort"
   ]
  },
  {
   "cell_type": "code",
   "execution_count": 3,
   "metadata": {},
   "outputs": [],
   "source": [
    "def insertion_sort(lst):\n",
    "    indexing_length = range(1,len(lst))\n",
    "    for i in indexing_length:\n",
    "        value_to_sort = lst[i]\n",
    "        while lst[i-1] > value_to_sort and i > 0:\n",
    "            lst[i], lst[i-1] = lst[i-1], lst[i]\n",
    "            i = i -1"
   ]
  },
  {
   "cell_type": "code",
   "execution_count": 4,
   "metadata": {},
   "outputs": [
    {
     "name": "stdout",
     "output_type": "stream",
     "text": [
      "[4, 5, 6, 7, 8]\n"
     ]
    }
   ],
   "source": [
    "lst = [8,7,6,5,4]\n",
    "insertion_sort(lst)\n",
    "print(lst)"
   ]
  },
  {
   "cell_type": "code",
   "execution_count": 42,
   "metadata": {},
   "outputs": [],
   "source": [
    "#Insertion sort is coooooool"
   ]
  },
  {
   "cell_type": "code",
   "execution_count": 67,
   "metadata": {},
   "outputs": [],
   "source": [
    "heros=['spider man','thor','hulk','iron man','captain america']"
   ]
  },
  {
   "cell_type": "code",
   "execution_count": 68,
   "metadata": {},
   "outputs": [],
   "source": [
    "heros[1:3] = ['doctor strange']"
   ]
  },
  {
   "cell_type": "code",
   "execution_count": 69,
   "metadata": {},
   "outputs": [
    {
     "data": {
      "text/plain": [
       "['spider man', 'doctor strange', 'iron man', 'captain america']"
      ]
     },
     "execution_count": 69,
     "metadata": {},
     "output_type": "execute_result"
    }
   ],
   "source": [
    "heros"
   ]
  },
  {
   "cell_type": "code",
   "execution_count": 2,
   "metadata": {},
   "outputs": [
    {
     "name": "stdout",
     "output_type": "stream",
     "text": [
      "['1', '2', '3', '4', '5', '6', '7', '8', '9']\n"
     ]
    }
   ],
   "source": [
    "#😲😲😲😲😲😲😲😲😲😲😲😲😲😲😲😲😲😲😲😲😲😲😲😲😲😲😲😲😲😲😲😲😲\n",
    "x = []\n",
    "x[:] = '123456789'\n",
    "print(x)"
   ]
  },
  {
   "cell_type": "code",
   "execution_count": 84,
   "metadata": {},
   "outputs": [],
   "source": [
    "#Linked list Syntax"
   ]
  },
  {
   "cell_type": "code",
   "execution_count": 13,
   "metadata": {},
   "outputs": [],
   "source": [
    "class Node:\n",
    "    def __init__(self,element):\n",
    "        self.element = element\n",
    "        self.next = None\n",
    "class LinkedList:\n",
    "    def __init__(self):\n",
    "        self.head = None\n",
    "        self.tail = None\n",
    "        self.size = 0\n",
    "    def __len__(self):\n",
    "        return self.size\n",
    "    def isempty(self):\n",
    "        return self.size == 0\n",
    "    def add_last(self,value):\n",
    "        newest = Node(value)\n",
    "        if self.isempty():\n",
    "            self.head = newest\n",
    "        else:\n",
    "            self.tail.next = newest\n",
    "        self.tail = newest\n",
    "        self.size += 1\n",
    "    def search(self,key):\n",
    "        index = 0\n",
    "        p = self.head\n",
    "        while p:\n",
    "            if p.element == key:\n",
    "                return index\n",
    "            p = p.next\n",
    "            index = index + 1\n",
    "        return 'Not found'\n",
    "    def add_first(self,value):\n",
    "        newest = Node(value)\n",
    "        if self.isempty():\n",
    "            self.head = Newest\n",
    "            self.tail = Newest\n",
    "        else:\n",
    "            newest.next = self.head\n",
    "            self.head = newest\n",
    "        self.size = self.size + 1\n",
    "    def addany(self,value,position):\n",
    "        newest = Node(value)\n",
    "        p = self.head\n",
    "        i = 1\n",
    "        while i < position-1:\n",
    "            p = p.next\n",
    "            i = i+1\n",
    "        newest.next = p.next\n",
    "        p.next = newest\n",
    "        self.size += 1 \n",
    "    def display(self):\n",
    "        p = self.head\n",
    "        while p:\n",
    "            print(p.element,end=' ')\n",
    "            p = p.next\n",
    "    def remove_first(self):\n",
    "        if self.isempty():\n",
    "            return 'No Element found in the list'\n",
    "        p = self.head.element\n",
    "        self.head = self.head.next\n",
    "        self.size = self.size - 1\n",
    "        if self.isempty():\n",
    "            self.tail = None\n",
    "        return p\n",
    "    def remove_last(self):\n",
    "        if self.isempty():\n",
    "            return 'No Element found in the list'\n",
    "        p = self.head\n",
    "        i = 1\n",
    "        while i < self.size - 1:\n",
    "            p = p.next\n",
    "            i = i + 1\n",
    "        self.tail = p\n",
    "        e = self.tail.next.element\n",
    "        self.tail.next = None\n",
    "        self.size = self.size - 1\n",
    "        return e\n",
    "    def remove_anywhere(self,position):\n",
    "        p = self.head\n",
    "        i = 1\n",
    "        while i < position - 1:\n",
    "            p = p.next\n",
    "            i = i + 1\n",
    "        e = p.next.element\n",
    "        p.next = p.next.next\n",
    "        self.size = self.size - 1\n",
    "        return e\n",
    "    def insertsorted(self,e):\n",
    "        newest = Node(e)\n",
    "        if self.isempty():\n",
    "            self.head = newest\n",
    "        else:\n",
    "            p = self.head\n",
    "            q = self.head\n",
    "            while p and p.element < e:\n",
    "                q = p\n",
    "                p = p.next\n",
    "            if p == self.head:\n",
    "                newest.next = self.head\n",
    "                self.head = newest\n",
    "            else:\n",
    "                newest.next = q.next\n",
    "                q.next = newest\n",
    "        self.size += 1"
   ]
  },
  {
   "cell_type": "code",
   "execution_count": 89,
   "metadata": {},
   "outputs": [],
   "source": [
    "l = LinkedList()"
   ]
  },
  {
   "cell_type": "code",
   "execution_count": 90,
   "metadata": {},
   "outputs": [],
   "source": [
    "l.add_last(7)\n",
    "l.add_last(8)\n",
    "l.add_last(9)\n",
    "l.add_last(10)\n",
    "l.add_last(11)"
   ]
  },
  {
   "cell_type": "code",
   "execution_count": 91,
   "metadata": {},
   "outputs": [
    {
     "name": "stdout",
     "output_type": "stream",
     "text": [
      "7 8 9 10 11 "
     ]
    }
   ],
   "source": [
    "l.display()"
   ]
  },
  {
   "cell_type": "code",
   "execution_count": 68,
   "metadata": {},
   "outputs": [],
   "source": [
    "#Circular linked list"
   ]
  },
  {
   "cell_type": "code",
   "execution_count": 464,
   "metadata": {},
   "outputs": [],
   "source": [
    "class Node:\n",
    "    def __init__(self,element):\n",
    "        self.element = element\n",
    "        self.next = None\n",
    "class Circular_linked_list:\n",
    "    def __init__(self):\n",
    "        self.head = None\n",
    "        self.tail = None\n",
    "        self.size = 0\n",
    "    def __len__(self):\n",
    "        return self.size\n",
    "    def isempty(self):\n",
    "        return self.size == 0\n",
    "    def add_last(self,e):\n",
    "        newest = Node(e)\n",
    "        if self.isempty():\n",
    "            newest.next = newest\n",
    "            self.head = newest\n",
    "        else:\n",
    "            newest.next = self.tail.next#head\n",
    "            self.tail.next = newest#tail \n",
    "        self.tail = newest\n",
    "        self.size += 1\n",
    "    def display(self):\n",
    "        p = self.head\n",
    "        for i in range(self.size):\n",
    "            print(p.element, end=' ')\n",
    "            p = p.next\n",
    "    def add_first(self,e):\n",
    "        newest = Node(e)\n",
    "        if self.isempty():\n",
    "            newest.next = newest\n",
    "            self.head = newest\n",
    "        else:\n",
    "            self.tail.next = newest\n",
    "            newest.next = self.head\n",
    "        self.head = newest\n",
    "        self.size += 1\n",
    "    def add_any(self,value,position):\n",
    "        newest = Node(value)\n",
    "        p = self.head\n",
    "        i = 1\n",
    "        while i < position-1:\n",
    "            p = p.next\n",
    "            i = i+1\n",
    "        newest.next = p.next\n",
    "        p.next = newest\n",
    "        self.size += 1 \n",
    "    def remove_first(self):\n",
    "        if self.isempty():\n",
    "            return 'No element found'\n",
    "        e = self.head.element\n",
    "        self.tail.next = self.head.next\n",
    "        self.head = self.head.next\n",
    "        self.size -= 1\n",
    "        if self.isempty():\n",
    "            self.head = None\n",
    "            self.tail = None\n",
    "        return e\n",
    "    def remove_last(self):\n",
    "        if self.isempty():\n",
    "            return 'No element found'\n",
    "        p = self.head\n",
    "        for i in range(1,self.size-1): \n",
    "            p = p.next\n",
    "        self.tail = p\n",
    "        p = p.next\n",
    "        self.tail.next = self.head\n",
    "        self.size = self.size - 1\n",
    "        return p.element\n",
    "    def remove_anywhere(self,position):\n",
    "        p = self.head\n",
    "        i = 1\n",
    "        while i < position - 1:\n",
    "            p = p.next\n",
    "            i = i + 1\n",
    "        e = p.next.element\n",
    "        p.next = p.next.next\n",
    "        self.size = self.size - 1\n",
    "        return e"
   ]
  },
  {
   "cell_type": "code",
   "execution_count": 482,
   "metadata": {},
   "outputs": [],
   "source": [
    "c = Circular_linked_list()"
   ]
  },
  {
   "cell_type": "code",
   "execution_count": 483,
   "metadata": {},
   "outputs": [],
   "source": [
    "c.add_last(7)\n",
    "c.add_last(8)\n",
    "c.add_last(9)\n",
    "c.add_last(10)\n",
    "c.add_last(11)\n",
    "c.add_last(12)"
   ]
  },
  {
   "cell_type": "code",
   "execution_count": 484,
   "metadata": {},
   "outputs": [
    {
     "name": "stdout",
     "output_type": "stream",
     "text": [
      "7 8 9 10 11 12 "
     ]
    }
   ],
   "source": [
    "c.display()"
   ]
  },
  {
   "cell_type": "code",
   "execution_count": 1,
   "metadata": {},
   "outputs": [],
   "source": [
    "#Doubly linked list"
   ]
  },
  {
   "cell_type": "code",
   "execution_count": 314,
   "metadata": {},
   "outputs": [],
   "source": [
    "class Node:\n",
    "    def __init__(self, element, next = None, prev = None):\n",
    "        self.element = element\n",
    "        self.next = next\n",
    "        self.prev = prev\n",
    "class Doubly_linked_list:\n",
    "    def __init__(self):\n",
    "        self.head = None\n",
    "        self.tail = None\n",
    "        self.size = 0\n",
    "    def __len__(self):\n",
    "        return self.size\n",
    "    def isempty(self):\n",
    "        return self.size == 0\n",
    "    def add_last(self,e):\n",
    "        newest = Node(e)\n",
    "        if self.isempty():\n",
    "            self.head = newest\n",
    "            self.tail = newest\n",
    "        else:\n",
    "            self.tail.next = newest\n",
    "            newest.prev = self.tail\n",
    "            self.tail = newest\n",
    "        self.size += 1\n",
    "    def display(self):\n",
    "        p = self.head\n",
    "        for i in range(self.size):\n",
    "            print(p.element, end = ' ')\n",
    "            p = p.next\n",
    "    def display_rev(self):\n",
    "        p = self.tail\n",
    "        for i in range(self.size):\n",
    "            print(p.element, end = ' ')\n",
    "            p = p.prev\n",
    "    def add_first(self,e):\n",
    "        newest = Node(e)\n",
    "        if self.isempty():\n",
    "            self.head = newest\n",
    "            self.tail = newest\n",
    "        else:\n",
    "            self.head.prev = newest\n",
    "            newest.next = self.head\n",
    "            self.head = newest\n",
    "        self.size += 1\n",
    "    def add_any(self,e,position):\n",
    "        newest = Node(e)\n",
    "        p = self.head\n",
    "        for i in range(1, position-1):\n",
    "            p = p.next\n",
    "        newest.next = p.next\n",
    "        p.next.prev = newest\n",
    "        p.next = newest\n",
    "        newest.prev = p\n",
    "        self.size += 1\n",
    "    def delete_first(self):\n",
    "        if self.isempty():\n",
    "            return 'No elements found'\n",
    "        e = self.head.element\n",
    "        self.head = self.head.next\n",
    "        self.size = self.size - 1\n",
    "        if self.isempty():\n",
    "            self.tail = None\n",
    "        else:\n",
    "            self.head.prev = None\n",
    "        return e\n",
    "    def delete_last(self):\n",
    "        if self.isempty():\n",
    "            return 'No elements found'\n",
    "        e = self.tail.element\n",
    "        self.tail = self.tail.prev\n",
    "        self.size = self.size - 1\n",
    "        if self.isempty():\n",
    "            self.head = None\n",
    "        return e\n",
    "    def remove_any(self,position):\n",
    "        if self.isempty():\n",
    "            return 'No elements found'\n",
    "        p = self.head\n",
    "        for i in range(1,position-1):\n",
    "            p = p.next\n",
    "        e = p.next.element\n",
    "        p.next = p.next.next\n",
    "        p.next.prev = p\n",
    "        self.size -= 1\n",
    "        return e"
   ]
  },
  {
   "cell_type": "code",
   "execution_count": 325,
   "metadata": {},
   "outputs": [],
   "source": [
    "d = Doubly_linked_list()"
   ]
  },
  {
   "cell_type": "code",
   "execution_count": 326,
   "metadata": {},
   "outputs": [],
   "source": [
    "d.add_last(7)\n",
    "d.add_last(8)\n",
    "d.add_last(9)\n",
    "d.add_last(10)\n",
    "d.add_last(11)"
   ]
  },
  {
   "cell_type": "code",
   "execution_count": 327,
   "metadata": {},
   "outputs": [
    {
     "name": "stdout",
     "output_type": "stream",
     "text": [
      "7 8 9 10 11 "
     ]
    }
   ],
   "source": [
    "d.display()"
   ]
  },
  {
   "cell_type": "code",
   "execution_count": 2,
   "metadata": {},
   "outputs": [],
   "source": [
    "#Stacks with linked list (Last in first out)"
   ]
  },
  {
   "cell_type": "code",
   "execution_count": 248,
   "metadata": {},
   "outputs": [],
   "source": [
    "class Node:\n",
    "    def __init__(self, element):\n",
    "        self.element = element\n",
    "        self.next = None\n",
    "class Linked_stack:\n",
    "    def __init__(self):\n",
    "        self.top = None\n",
    "        self.size = 0\n",
    "    def __len__(self):\n",
    "        return self.size\n",
    "    def isempty(self):\n",
    "        return self.size == 0\n",
    "    def push(self, value):\n",
    "        newest = Node(value)\n",
    "        if self.isempty():\n",
    "            self.top = newest\n",
    "        else:\n",
    "            newest.next = self.top#Recently added items are heads cuz of Last in first out\n",
    "            self.top = newest\n",
    "        self.size += 1\n",
    "    def pop(self):\n",
    "        if self.isempty():\n",
    "            return 'No elements found'\n",
    "        e = self.top.element\n",
    "        self.top = self.top.next\n",
    "        self.size -= 1\n",
    "        return e\n",
    "    def top_element(self):\n",
    "        if self.isempty():\n",
    "            return 'No elements found'\n",
    "        return self.top.element\n",
    "    def display(self):\n",
    "        p = self.top\n",
    "        while p:\n",
    "            print(p.element, end = ' ')\n",
    "            p = p.next"
   ]
  },
  {
   "cell_type": "code",
   "execution_count": 249,
   "metadata": {},
   "outputs": [],
   "source": [
    "s = Linked_stack()"
   ]
  },
  {
   "cell_type": "code",
   "execution_count": 250,
   "metadata": {},
   "outputs": [],
   "source": [
    "s.push(7)\n",
    "s.push(8)\n",
    "s.push(9)\n",
    "s.push(10)"
   ]
  },
  {
   "cell_type": "code",
   "execution_count": 251,
   "metadata": {},
   "outputs": [
    {
     "name": "stdout",
     "output_type": "stream",
     "text": [
      "10 9 8 7 "
     ]
    }
   ],
   "source": [
    "s.display()"
   ]
  },
  {
   "cell_type": "code",
   "execution_count": 1,
   "metadata": {},
   "outputs": [],
   "source": [
    "#Queues using linked list(FIFO)"
   ]
  },
  {
   "cell_type": "code",
   "execution_count": 235,
   "metadata": {},
   "outputs": [],
   "source": [
    "class _Node:\n",
    "    __slots__ = 'element', 'next'\n",
    "    def __init__(self, element, next = None):\n",
    "        self.element = element\n",
    "        self.next = next\n",
    "class Queues:\n",
    "    def __init__(self):\n",
    "        self.front = None\n",
    "        self.rear = None\n",
    "        self.size = 0\n",
    "    def __len__(self):\n",
    "        return self.size\n",
    "    def isempty(self):\n",
    "        return self.size == 0\n",
    "    def enqueue(self, e):\n",
    "        newest = _Node(e)\n",
    "        if self.isempty():\n",
    "            self.front = newest\n",
    "        else:\n",
    "            self.rear.next = newest\n",
    "        self.rear = newest\n",
    "        self.size += 1\n",
    "    def dequeue(self):                      \n",
    "        if self.isempty():                       \n",
    "            print('No elements found')\n",
    "            return\n",
    "        e = self.front.element                   \n",
    "        self.front = self.front.next               \n",
    "        self.size -= 1                            \n",
    "        if self.isempty():                       \n",
    "            self.rear = None                             \n",
    "        return e                                         \n",
    "    def first(self):\n",
    "        if self.isempty():\n",
    "            return 'No elements found'\n",
    "        return self.front.element\n",
    "    def display(self):\n",
    "        p = self.front\n",
    "        while p:\n",
    "            print(p.element, end = ' ')\n",
    "            p = p.next\n",
    "        print()"
   ]
  },
  {
   "cell_type": "code",
   "execution_count": 236,
   "metadata": {},
   "outputs": [],
   "source": [
    "q = Queues()"
   ]
  },
  {
   "cell_type": "code",
   "execution_count": 237,
   "metadata": {},
   "outputs": [],
   "source": [
    "q.enqueue(7)\n",
    "q.enqueue(8)\n",
    "q.enqueue(9)\n",
    "q.enqueue(10)"
   ]
  },
  {
   "cell_type": "code",
   "execution_count": 238,
   "metadata": {},
   "outputs": [
    {
     "name": "stdout",
     "output_type": "stream",
     "text": [
      "7 8 9 10 \n"
     ]
    }
   ],
   "source": [
    "q.display()"
   ]
  },
  {
   "cell_type": "code",
   "execution_count": 239,
   "metadata": {},
   "outputs": [],
   "source": [
    "#Binary tree\n",
    "#PREORDER = UP(root) - DOWN(left) - DOWN(right)\n",
    "#INORDER = DOWN(left) - UP(root) - DOWN(right)\n",
    "#POSTORDER = DOWN(left) - DOWN(right) - UP(root)\n",
    "#LEVELORDER = ABCDEFG - (From first level to last level) using queues"
   ]
  },
  {
   "cell_type": "code",
   "execution_count": 261,
   "metadata": {},
   "outputs": [],
   "source": [
    "class Node:\n",
    "    def __init__(self, element, left=None, right=None):\n",
    "        self.element = element\n",
    "        self.left = left\n",
    "        self.right = right\n",
    "class Binary_tree:\n",
    "    def __init__(self):\n",
    "        self.root = None\n",
    "    def maketree(self, element, left, right):\n",
    "        self.root = Node(element, left.root, right.root)\n",
    "    def preorder(self, troot):\n",
    "        if troot:\n",
    "            print(troot.element, end = ' ')\n",
    "            self.preorder(troot.left)\n",
    "            self.preorder(troot.right)\n",
    "    def inorder(self, troot):\n",
    "        if troot:\n",
    "            self.inorder(troot.left)\n",
    "            print(troot.element, end = ' ')\n",
    "            self.inorder(troot.right)\n",
    "    def postorder(self, troot):\n",
    "        if troot:\n",
    "            self.postorder(troot.left)\n",
    "            self.postorder(troot.right)\n",
    "            print(troot.element, end = ' ')\n",
    "    def levelorder(self):\n",
    "        q = Queues()\n",
    "        t = self.root\n",
    "        print(t.element, end=' ')\n",
    "        q.enqueue(t)\n",
    "        while not q.isempty():\n",
    "            t = q.dequeue()\n",
    "            if t.left:\n",
    "                print(t.left.element, end=' ')\n",
    "                q.enqueue(t.left)\n",
    "            if t.right:\n",
    "                print(t.right.element, end=' ')\n",
    "                q.enqueue(t.right)\n",
    "    def count(self,troot):\n",
    "        if troot:\n",
    "            x = self.count(troot.left)\n",
    "            y = self.count(troot.right)\n",
    "            return x + y + 1\n",
    "        return 0\n",
    "    def height(self,troot):\n",
    "        if troot:\n",
    "            x = self.height(troot.left)\n",
    "            y = self.height(troot.right)\n",
    "            if x > y:\n",
    "                return x + 1\n",
    "            else:\n",
    "                return y + 1\n",
    "        return 0"
   ]
  },
  {
   "cell_type": "code",
   "execution_count": 262,
   "metadata": {},
   "outputs": [],
   "source": [
    "a = Binary_tree()\n",
    "b = Binary_tree()\n",
    "c = Binary_tree()\n",
    "d = Binary_tree()\n",
    "e = Binary_tree()\n",
    "f = Binary_tree()\n",
    "x = Binary_tree()"
   ]
  },
  {
   "cell_type": "code",
   "execution_count": 263,
   "metadata": {},
   "outputs": [],
   "source": [
    "d.maketree(40, x, x)\n",
    "f.maketree(60, x, x)\n",
    "b.maketree(20, d, x)\n",
    "e.maketree(50, x, f)\n",
    "c.maketree(30, e, x)\n",
    "a.maketree(10, b, c)"
   ]
  },
  {
   "cell_type": "code",
   "execution_count": 256,
   "metadata": {},
   "outputs": [
    {
     "name": "stdout",
     "output_type": "stream",
     "text": [
      "40 20 60 50 30 10 "
     ]
    }
   ],
   "source": [
    "a.postorder(a.root)"
   ]
  },
  {
   "cell_type": "code",
   "execution_count": 257,
   "metadata": {},
   "outputs": [
    {
     "name": "stdout",
     "output_type": "stream",
     "text": [
      "10 20 40 30 50 60 "
     ]
    }
   ],
   "source": [
    "a.preorder(a.root)"
   ]
  },
  {
   "cell_type": "code",
   "execution_count": 258,
   "metadata": {},
   "outputs": [
    {
     "name": "stdout",
     "output_type": "stream",
     "text": [
      "40 20 10 50 60 30 "
     ]
    }
   ],
   "source": [
    "a.inorder(a.root)"
   ]
  },
  {
   "cell_type": "code",
   "execution_count": 259,
   "metadata": {},
   "outputs": [
    {
     "name": "stdout",
     "output_type": "stream",
     "text": [
      "10 20 30 40 50 60 "
     ]
    }
   ],
   "source": [
    "a.levelorder()"
   ]
  },
  {
   "cell_type": "code",
   "execution_count": 260,
   "metadata": {},
   "outputs": [
    {
     "data": {
      "text/plain": [
       "6"
      ]
     },
     "execution_count": 260,
     "metadata": {},
     "output_type": "execute_result"
    }
   ],
   "source": [
    "a.count(a.root)"
   ]
  },
  {
   "cell_type": "code",
   "execution_count": 266,
   "metadata": {},
   "outputs": [
    {
     "data": {
      "text/plain": [
       "4"
      ]
     },
     "execution_count": 266,
     "metadata": {},
     "output_type": "execute_result"
    }
   ],
   "source": [
    "a.height(a.root)"
   ]
  },
  {
   "cell_type": "code",
   "execution_count": 267,
   "metadata": {},
   "outputs": [],
   "source": [
    "#Binary Search Tree"
   ]
  },
  {
   "cell_type": "code",
   "execution_count": 324,
   "metadata": {},
   "outputs": [],
   "source": [
    "class Node:\n",
    "    def __init__(self, element, left=None, right=None):\n",
    "        self.element = element\n",
    "        self.left = left\n",
    "        self.right = right\n",
    "\n",
    "class Binary_search_tree:\n",
    "    def __init__(self):\n",
    "        self.root = None\n",
    "    \n",
    "    def insert(self, troot, e):\n",
    "        temp = None\n",
    "        while troot:\n",
    "            temp = troot\n",
    "            if e == troot.element:\n",
    "                return\n",
    "            elif e < troot.element:\n",
    "                troot = troot.left\n",
    "            elif e > troot.element:\n",
    "                troot = troot.right\n",
    "        newest = Node(e)\n",
    "        if self.root:\n",
    "            if e < temp.element:\n",
    "                temp.left = newest\n",
    "            elif e > temp.element:\n",
    "                temp.right = newest\n",
    "        else:\n",
    "            self.root = newest\n",
    "    \n",
    "    def rec_insert(self,troot,e):\n",
    "        if troot:\n",
    "            if e < troot.element:\n",
    "                troot.left = self.rec_insert(troot.left,e)\n",
    "            elif e > troot.element:\n",
    "                troot.right = self.rec_insert(troot.right,e)\n",
    "        else:\n",
    "            newest = Node(e)\n",
    "            troot = newest\n",
    "        return troot\n",
    "    \n",
    "    def search(self,key):\n",
    "        troot = self.root\n",
    "        while troot:\n",
    "            if key == troot.element:\n",
    "                return True\n",
    "            elif key < troot.element:\n",
    "                troot = troot.left\n",
    "            elif key > troot.element:\n",
    "                troot = troot.right\n",
    "        return False\n",
    "    \n",
    "    def rsearch(self,troot,key):\n",
    "        if troot:\n",
    "            if key == troot.element:\n",
    "                return True\n",
    "            elif key < troot.element:\n",
    "                return self.rsearch(troot.left,key)\n",
    "            elif key > troot.element:\n",
    "                return self.rsearch(troot.right,key)\n",
    "        else: \n",
    "            return False\n",
    "    \n",
    "    def inorder(self, troot):\n",
    "        if troot:\n",
    "            self.inorder(troot.left)\n",
    "            print(troot.element, end = ' ')\n",
    "            self.inorder(troot.right)"
   ]
  },
  {
   "cell_type": "code",
   "execution_count": 325,
   "metadata": {},
   "outputs": [],
   "source": [
    "b = Binary_search_tree()"
   ]
  },
  {
   "cell_type": "code",
   "execution_count": 326,
   "metadata": {},
   "outputs": [],
   "source": [
    "b.insert(b.root, 50)\n",
    "b.insert(b.root, 30)\n",
    "b.insert(b.root, 80)\n",
    "b.insert(b.root, 10)\n",
    "b.insert(b.root, 40)\n",
    "b.insert(b.root, 60)"
   ]
  },
  {
   "cell_type": "code",
   "execution_count": 327,
   "metadata": {},
   "outputs": [
    {
     "name": "stdout",
     "output_type": "stream",
     "text": [
      "10 30 40 50 60 80 "
     ]
    }
   ],
   "source": [
    "b.inorder(b.root)"
   ]
  },
  {
   "cell_type": "code",
   "execution_count": 331,
   "metadata": {},
   "outputs": [
    {
     "data": {
      "text/plain": [
       "False"
      ]
     },
     "execution_count": 331,
     "metadata": {},
     "output_type": "execute_result"
    }
   ],
   "source": [
    "b.rsearch(b.root,85)"
   ]
  },
  {
   "cell_type": "code",
   "execution_count": 1,
   "metadata": {},
   "outputs": [],
   "source": [
    "#HEAP"
   ]
  },
  {
   "cell_type": "code",
   "execution_count": 84,
   "metadata": {},
   "outputs": [],
   "source": [
    "class Heap:\n",
    "    def __init__(self):\n",
    "        self.maxsize = 10\n",
    "        self.data = [-1] * self.maxsize\n",
    "        self.csize = 0\n",
    "    def __len__(self):\n",
    "        return len(self.data)\n",
    "    def isempty(self):\n",
    "        return len(self.data) == 0\n",
    "    def insert(self,e):\n",
    "        if self.csize == self.maxsize:\n",
    "            return 'No space'\n",
    "        self.csize = self.csize + 1\n",
    "        hi = self.csize #hi is the index \n",
    "        while hi > 1 and e > self.data[hi//2]:\n",
    "            self.data[hi] = self.data[hi//2]\n",
    "            hi = hi//2\n",
    "        self.data[hi] = e\n",
    "    def max(self):\n",
    "        if self.csize == 0:\n",
    "            return 'Heap is empty'\n",
    "        return self.data[1]\n",
    "    def deletemax(self):\n",
    "        if self.csize == 0:\n",
    "            return 'Heap is empty'\n",
    "        e = self.data[1]\n",
    "        self.data[1] = self.data[self.csize]\n",
    "        self.data[self.csize] = -1\n",
    "        self.csize = self.csize - 1\n",
    "        i = 1\n",
    "        j = i*2\n",
    "        while j < self.csize:\n",
    "            if self.data[j] < self.data[j+1]:\n",
    "                j = j + 1\n",
    "            if self.data[i] < self.data[j]:\n",
    "                self.data[i], self.data[j] = self.data[j], self.data[i]\n",
    "                i = j\n",
    "                j = i * 2\n",
    "            else:\n",
    "                break\n",
    "        return e"
   ]
  },
  {
   "cell_type": "code",
   "execution_count": 74,
   "metadata": {},
   "outputs": [],
   "source": [
    "h = Heap()"
   ]
  },
  {
   "cell_type": "code",
   "execution_count": 75,
   "metadata": {},
   "outputs": [],
   "source": [
    "h.insert(25)\n",
    "h.insert(14)\n",
    "h.insert(2)\n",
    "h.insert(20)\n",
    "h.insert(10)\n",
    "h.insert(40)"
   ]
  },
  {
   "cell_type": "code",
   "execution_count": 76,
   "metadata": {},
   "outputs": [
    {
     "data": {
      "text/plain": [
       "[-1, 40, 20, 25, 14, 10, 2, -1, -1, -1]"
      ]
     },
     "execution_count": 76,
     "metadata": {},
     "output_type": "execute_result"
    }
   ],
   "source": [
    "h.data"
   ]
  },
  {
   "cell_type": "code",
   "execution_count": 77,
   "metadata": {},
   "outputs": [],
   "source": [
    "import heapq as heap"
   ]
  },
  {
   "cell_type": "code",
   "execution_count": 78,
   "metadata": {},
   "outputs": [],
   "source": [
    "lst = []\n",
    "heap.heappush(lst,25)\n",
    "heap.heappush(lst,14)\n",
    "heap.heappush(lst,2)\n",
    "heap.heappush(lst,10)\n",
    "heap.heappush(lst,20)"
   ]
  },
  {
   "cell_type": "code",
   "execution_count": 79,
   "metadata": {},
   "outputs": [
    {
     "name": "stdout",
     "output_type": "stream",
     "text": [
      "[2, 10, 14, 25, 20]\n"
     ]
    }
   ],
   "source": [
    "print(lst)"
   ]
  },
  {
   "cell_type": "code",
   "execution_count": 80,
   "metadata": {},
   "outputs": [],
   "source": [
    "e = heap.heapreplace(lst,1)"
   ]
  },
  {
   "cell_type": "code",
   "execution_count": 81,
   "metadata": {},
   "outputs": [
    {
     "name": "stdout",
     "output_type": "stream",
     "text": [
      "[1, 10, 14, 25, 20]\n"
     ]
    }
   ],
   "source": [
    "print(lst)"
   ]
  },
  {
   "cell_type": "code",
   "execution_count": 82,
   "metadata": {},
   "outputs": [],
   "source": [
    "#Heap sort"
   ]
  },
  {
   "cell_type": "code",
   "execution_count": 110,
   "metadata": {},
   "outputs": [],
   "source": [
    "def heapsort(A):\n",
    "    H = Heap()\n",
    "    n = len(A)\n",
    "    for i in range(n):\n",
    "        H.insert(A[i])\n",
    "    k = n-1\n",
    "    for i in range(H.csize):\n",
    "        A[k] = H.deletemax()\n",
    "        k = k - 1"
   ]
  },
  {
   "cell_type": "code",
   "execution_count": 111,
   "metadata": {},
   "outputs": [],
   "source": [
    "mylist = [63, 250, 835, 947, 651, 28]\n",
    "heapsort(mylist)"
   ]
  },
  {
   "cell_type": "code",
   "execution_count": 112,
   "metadata": {},
   "outputs": [
    {
     "data": {
      "text/plain": [
       "[28, 63, 250, 651, 835, 947]"
      ]
     },
     "execution_count": 112,
     "metadata": {},
     "output_type": "execute_result"
    }
   ],
   "source": [
    "mylist"
   ]
  },
  {
   "cell_type": "code",
   "execution_count": 3,
   "metadata": {},
   "outputs": [],
   "source": [
    "#Hashing"
   ]
  },
  {
   "cell_type": "code",
   "execution_count": 102,
   "metadata": {},
   "outputs": [],
   "source": [
    "#import linkedlist class\n",
    "class Hash_chain:\n",
    "    def __init__(self):\n",
    "        self.hashtable_size = 10\n",
    "        self.hashtable = [0] * self.hashtable_size\n",
    "        for i in range(self.hashtable_size):\n",
    "            self.hashtable[i] = LinkedList()\n",
    "    def hashcode(self,key):\n",
    "        return key % self.hashtable_size\n",
    "    def insert(self,e):\n",
    "        i = self.hashcode(e)\n",
    "        self.hashtable[i].insertsorted(e)\n",
    "    def search(self,key):\n",
    "        i = self.hashcode(key)\n",
    "        return self.hashtable[i].search(key)!= 'Not found'\n",
    "    def display(self):\n",
    "        for i in range(self.hashtable_size):\n",
    "            print('[',i,']', end=' ')\n",
    "            self.hashtable[i].display()"
   ]
  },
  {
   "cell_type": "code",
   "execution_count": 103,
   "metadata": {},
   "outputs": [],
   "source": [
    "h = Hash_chain()       "
   ]
  },
  {
   "cell_type": "code",
   "execution_count": 104,
   "metadata": {},
   "outputs": [],
   "source": [
    "h.insert(54)\n",
    "h.insert(78)\n",
    "h.insert(64)\n",
    "h.insert(92)  \n",
    "h.insert(94)\n",
    "h.insert(88)"
   ]
  },
  {
   "cell_type": "code",
   "execution_count": 105,
   "metadata": {},
   "outputs": [
    {
     "name": "stdout",
     "output_type": "stream",
     "text": [
      "[ 0 ] [ 1 ] [ 2 ] 92 [ 3 ] [ 4 ] 54 64 94 [ 5 ] [ 6 ] [ 7 ] [ 8 ] 78 88 [ 9 ] "
     ]
    }
   ],
   "source": [
    "h.display()"
   ]
  },
  {
   "cell_type": "code",
   "execution_count": 106,
   "metadata": {},
   "outputs": [
    {
     "data": {
      "text/plain": [
       "True"
      ]
     },
     "execution_count": 106,
     "metadata": {},
     "output_type": "execute_result"
    }
   ],
   "source": [
    "h.search(64)"
   ]
  },
  {
   "cell_type": "code",
   "execution_count": 107,
   "metadata": {},
   "outputs": [
    {
     "name": "stdout",
     "output_type": "stream",
     "text": [
      "54 64 94 "
     ]
    }
   ],
   "source": [
    "h.hashtable[4].display()"
   ]
  },
  {
   "cell_type": "code",
   "execution_count": 108,
   "metadata": {},
   "outputs": [
    {
     "data": {
      "text/plain": [
       "False"
      ]
     },
     "execution_count": 108,
     "metadata": {},
     "output_type": "execute_result"
    }
   ],
   "source": [
    "h.hashtable[4] == 0"
   ]
  },
  {
   "cell_type": "code",
   "execution_count": 78,
   "metadata": {},
   "outputs": [],
   "source": [
    "#Hashing wiht linear probing"
   ]
  },
  {
   "cell_type": "code",
   "execution_count": 19,
   "metadata": {},
   "outputs": [],
   "source": [
    "class HashLinearProbing:\n",
    "    def __init__(self):\n",
    "        self.hashtable_size = 10\n",
    "        self.hashtable = [0] * self.hashtable_size\n",
    "    def hashcode(self,key):\n",
    "        return key % self.hashtable_size\n",
    "    def lprobe(self, e):\n",
    "        i = self.hashcode(e)\n",
    "        j = 0\n",
    "        while self.hashtable[(i+j) % self.hashtable_size] != 0:\n",
    "            j = j + 1\n",
    "        return (i + j) % self.hashtable_size\n",
    "    def insert(self,e):\n",
    "        i = self.hashcode(e)\n",
    "        if self.hashtable[i] == 0:\n",
    "            self.hashtable[i] = e\n",
    "        else:\n",
    "            i = self.lprobe(e)\n",
    "            self.hashtable[i] = e\n",
    "    def search(self,key):\n",
    "        i = self.hashcode(key)\n",
    "        j = 0\n",
    "        while self.hashtable[(i+j) % self.hashtable_size] != key:\n",
    "            if self.hashtable[(i+j) % self.hashtable_size] == 0:\n",
    "                return False\n",
    "            j = j + 1\n",
    "        return True\n",
    "    def display(self):\n",
    "        print(self.hashtable)"
   ]
  },
  {
   "cell_type": "code",
   "execution_count": 20,
   "metadata": {},
   "outputs": [],
   "source": [
    "ht = HashLinearProbing()"
   ]
  },
  {
   "cell_type": "code",
   "execution_count": 21,
   "metadata": {},
   "outputs": [],
   "source": [
    "ht.insert(54)\n",
    "ht.insert(78)\n",
    "ht.insert(64)\n",
    "ht.insert(92)\n",
    "ht.insert(34)\n",
    "ht.insert(86)\n",
    "ht.insert(28)"
   ]
  },
  {
   "cell_type": "code",
   "execution_count": 27,
   "metadata": {},
   "outputs": [
    {
     "name": "stdout",
     "output_type": "stream",
     "text": [
      "[0, 0, 92, 0, 54, 64, 34, 86, 78, 28]\n"
     ]
    }
   ],
   "source": [
    "ht.display()"
   ]
  },
  {
   "cell_type": "code",
   "execution_count": 1,
   "metadata": {},
   "outputs": [],
   "source": [
    "#Graphs with Adjacency Matrix Representation"
   ]
  },
  {
   "cell_type": "code",
   "execution_count": 21,
   "metadata": {},
   "outputs": [],
   "source": [
    "import numpy as np\n",
    "class Graph:\n",
    "    def __init__(self,vertices):\n",
    "        self.vertices = vertices\n",
    "        self.adjmat = np.zeros((vertices,vertices))\n",
    "    def insert_edge(self, u, v, x=1):\n",
    "        self.adjmat[u][v] = x\n",
    "    def remove_edge(self, u, v):\n",
    "        self.adjmat[u][v] = 0\n",
    "    def exist_edge(self,u,v):\n",
    "        return self.adjmat[u][v] != 0\n",
    "    def vertex_count(self):\n",
    "        return self.vertices\n",
    "    def edge_count(self):\n",
    "        count=0\n",
    "        for i in range(self.vertices):\n",
    "            for j in range(self.vertices):\n",
    "                if self.adjmat[i][j] != 0:\n",
    "                    count += 1\n",
    "        return count\n",
    "    def vertices(self):\n",
    "        for i in range(self.vertices):\n",
    "            print(i, end=' ')\n",
    "        print()\n",
    "    def edges(self):\n",
    "        for i in range(self.vertices):\n",
    "            for j in range(self.vertices):\n",
    "                if self.adjmat[i][j] != 0:\n",
    "                    print(i,'--',j)\n",
    "    def outdegree(self,v):\n",
    "        count = 0\n",
    "        for i in range(self.vertices):\n",
    "            if self.adjmat[v][i] != 0:\n",
    "                count += 1\n",
    "        return count\n",
    "    def indegree(self,v):\n",
    "        count = 0\n",
    "        for i in range(self.vertices):\n",
    "            if self.adjmat[i][v] != 0:\n",
    "                count = count + 1\n",
    "        return count\n",
    "    def display_adjmat(self):\n",
    "        print(self.adjmat)\n",
    "    def BFS(self,s):\n",
    "        i = s\n",
    "        "
   ]
  },
  {
   "cell_type": "code",
   "execution_count": 78,
   "metadata": {},
   "outputs": [],
   "source": [
    "#Undirected graph:- (No beginning or end / no arrows between edges)"
   ]
  },
  {
   "cell_type": "code",
   "execution_count": 79,
   "metadata": {},
   "outputs": [],
   "source": [
    "g = Graph(4)"
   ]
  },
  {
   "cell_type": "code",
   "execution_count": 80,
   "metadata": {},
   "outputs": [
    {
     "name": "stdout",
     "output_type": "stream",
     "text": [
      "[[0. 0. 0. 0.]\n",
      " [0. 0. 0. 0.]\n",
      " [0. 0. 0. 0.]\n",
      " [0. 0. 0. 0.]]\n"
     ]
    }
   ],
   "source": [
    "g.display_adjmat()"
   ]
  },
  {
   "cell_type": "code",
   "execution_count": 81,
   "metadata": {},
   "outputs": [
    {
     "data": {
      "text/plain": [
       "4"
      ]
     },
     "execution_count": 81,
     "metadata": {},
     "output_type": "execute_result"
    }
   ],
   "source": [
    "g.vertex_count()"
   ]
  },
  {
   "cell_type": "code",
   "execution_count": 82,
   "metadata": {},
   "outputs": [
    {
     "data": {
      "text/plain": [
       "0"
      ]
     },
     "execution_count": 82,
     "metadata": {},
     "output_type": "execute_result"
    }
   ],
   "source": [
    "g.edge_count()"
   ]
  },
  {
   "cell_type": "code",
   "execution_count": 83,
   "metadata": {},
   "outputs": [],
   "source": [
    "g.insert_edge(0,1)\n",
    "g.insert_edge(0,2)\n",
    "g.insert_edge(1,0)\n",
    "g.insert_edge(1,2)\n",
    "g.insert_edge(2,0)\n",
    "g.insert_edge(2,1)\n",
    "g.insert_edge(2,3)\n",
    "g.insert_edge(3,2)"
   ]
  },
  {
   "cell_type": "code",
   "execution_count": 84,
   "metadata": {},
   "outputs": [
    {
     "name": "stdout",
     "output_type": "stream",
     "text": [
      "[[0. 1. 1. 0.]\n",
      " [1. 0. 1. 0.]\n",
      " [1. 1. 0. 1.]\n",
      " [0. 0. 1. 0.]]\n"
     ]
    }
   ],
   "source": [
    "g.display_adjmat()"
   ]
  },
  {
   "cell_type": "code",
   "execution_count": 85,
   "metadata": {},
   "outputs": [
    {
     "data": {
      "text/plain": [
       "8"
      ]
     },
     "execution_count": 85,
     "metadata": {},
     "output_type": "execute_result"
    }
   ],
   "source": [
    "g.edge_count()"
   ]
  },
  {
   "cell_type": "code",
   "execution_count": 86,
   "metadata": {},
   "outputs": [
    {
     "name": "stdout",
     "output_type": "stream",
     "text": [
      "0 -- 1\n",
      "0 -- 2\n",
      "1 -- 0\n",
      "1 -- 2\n",
      "2 -- 0\n",
      "2 -- 1\n",
      "2 -- 3\n",
      "3 -- 2\n"
     ]
    }
   ],
   "source": [
    "g.edges() #i te j nested loop ch chalde pye aa"
   ]
  },
  {
   "cell_type": "code",
   "execution_count": 87,
   "metadata": {},
   "outputs": [
    {
     "data": {
      "text/plain": [
       "False"
      ]
     },
     "execution_count": 87,
     "metadata": {},
     "output_type": "execute_result"
    }
   ],
   "source": [
    "g.exist_edge(0,3)"
   ]
  },
  {
   "cell_type": "code",
   "execution_count": 88,
   "metadata": {},
   "outputs": [
    {
     "data": {
      "text/plain": [
       "3"
      ]
     },
     "execution_count": 88,
     "metadata": {},
     "output_type": "execute_result"
    }
   ],
   "source": [
    "g.indegree(2)"
   ]
  },
  {
   "cell_type": "code",
   "execution_count": 92,
   "metadata": {},
   "outputs": [],
   "source": [
    "# In Weighted Undirected Graph (Weights are assigned to edges rest is same as undirected graph) "
   ]
  },
  {
   "cell_type": "code",
   "execution_count": 93,
   "metadata": {},
   "outputs": [],
   "source": [
    "#Directed graph:-"
   ]
  },
  {
   "cell_type": "code",
   "execution_count": 111,
   "metadata": {},
   "outputs": [],
   "source": [
    "g = Graph(4)"
   ]
  },
  {
   "cell_type": "code",
   "execution_count": 112,
   "metadata": {},
   "outputs": [
    {
     "name": "stdout",
     "output_type": "stream",
     "text": [
      "[[0. 0. 0. 0.]\n",
      " [0. 0. 0. 0.]\n",
      " [0. 0. 0. 0.]\n",
      " [0. 0. 0. 0.]]\n"
     ]
    }
   ],
   "source": [
    "g.display_adjmat()"
   ]
  },
  {
   "cell_type": "code",
   "execution_count": 113,
   "metadata": {},
   "outputs": [],
   "source": [
    "g.insert_edge(0,1)\n",
    "g.insert_edge(0,2)\n",
    "g.insert_edge(1,2)\n",
    "g.insert_edge(2,3)"
   ]
  },
  {
   "cell_type": "code",
   "execution_count": 114,
   "metadata": {},
   "outputs": [
    {
     "name": "stdout",
     "output_type": "stream",
     "text": [
      "[[0. 1. 1. 0.]\n",
      " [0. 0. 1. 0.]\n",
      " [0. 0. 0. 1.]\n",
      " [0. 0. 0. 0.]]\n"
     ]
    }
   ],
   "source": [
    "g.display_adjmat()"
   ]
  },
  {
   "cell_type": "code",
   "execution_count": 117,
   "metadata": {},
   "outputs": [
    {
     "name": "stdout",
     "output_type": "stream",
     "text": [
      "0 -- 1\n",
      "0 -- 2\n",
      "1 -- 2\n",
      "2 -- 3\n"
     ]
    }
   ],
   "source": [
    "g.edges()"
   ]
  },
  {
   "cell_type": "code",
   "execution_count": null,
   "metadata": {},
   "outputs": [],
   "source": []
  },
  {
   "cell_type": "code",
   "execution_count": null,
   "metadata": {},
   "outputs": [],
   "source": []
  }
 ],
 "metadata": {
  "kernelspec": {
   "display_name": "Python 3",
   "language": "python",
   "name": "python3"
  },
  "language_info": {
   "codemirror_mode": {
    "name": "ipython",
    "version": 3
   },
   "file_extension": ".py",
   "mimetype": "text/x-python",
   "name": "python",
   "nbconvert_exporter": "python",
   "pygments_lexer": "ipython3",
   "version": "3.7.6"
  }
 },
 "nbformat": 4,
 "nbformat_minor": 4
}
