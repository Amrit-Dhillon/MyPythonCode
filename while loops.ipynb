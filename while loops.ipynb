{
 "cells": [
  {
   "cell_type": "code",
   "execution_count": 21,
   "metadata": {},
   "outputs": [
    {
     "name": "stdout",
     "output_type": "stream",
     "text": [
      "table = 0\n",
      "index = 0\n",
      "new index = 1\n",
      "table = 3\n",
      "index = 1\n",
      "new index = 2\n",
      "table = 6\n",
      "index = 2\n",
      "new index = 3\n",
      "table = 9\n",
      "index = 3\n",
      "new index = 4\n",
      "table = 12\n",
      "index = 4\n",
      "new index = 5\n",
      "table = 15\n",
      "index = 5\n",
      "new index = 6\n",
      "table = 18\n",
      "index = 6\n",
      "new index = 7\n",
      "table = 21\n",
      "index = 7\n",
      "new index = 8\n",
      "table = 24\n",
      "index = 8\n",
      "new index = 9\n",
      "table = 27\n",
      "index = 9\n",
      "new index = 10\n",
      "table = 30\n",
      "index = 10\n",
      "new index = 11\n"
     ]
    }
   ],
   "source": [
    "# 3 da table with simplified loop\n",
    "index=0\n",
    "while index<=10:\n",
    "    print('table =',3*index)\n",
    "    print('index =',index)\n",
    "    index=index+1\n",
    "    print('new index =',index)"
   ]
  },
  {
   "cell_type": "code",
   "execution_count": 13,
   "metadata": {},
   "outputs": [
    {
     "name": "stdout",
     "output_type": "stream",
     "text": [
      "24\n"
     ]
    }
   ],
   "source": [
    "#number da factoral\n",
    "number = 4\n",
    "fac = 1\n",
    "while number>=1:\n",
    "        fac = fac*number\n",
    "        number = number-1\n",
    "print (fac)"
   ]
  },
  {
   "cell_type": "code",
   "execution_count": 46,
   "metadata": {},
   "outputs": [
    {
     "data": {
      "text/plain": [
       "7"
      ]
     },
     "execution_count": 46,
     "metadata": {},
     "output_type": "execute_result"
    }
   ],
   "source": [
    "67%10"
   ]
  },
  {
   "cell_type": "code",
   "execution_count": 19,
   "metadata": {},
   "outputs": [
    {
     "name": "stdout",
     "output_type": "stream",
     "text": [
      "Amrit\n"
     ]
    }
   ],
   "source": [
    "name = 'Amrit'\n",
    "length = len(name)\n",
    "while length==5:\n",
    "    print(name)\n",
    "    length=length-1"
   ]
  },
  {
   "cell_type": "code",
   "execution_count": 8,
   "metadata": {},
   "outputs": [
    {
     "name": "stdout",
     "output_type": "stream",
     "text": [
      "1\n",
      "number 2\n",
      "3\n",
      "number 4\n",
      "7\n",
      "number 8\n",
      "15\n",
      "number 16\n"
     ]
    }
   ],
   "source": [
    "sum_total=0\n",
    "number=1\n",
    "while number<=10:\n",
    "    sum_total=sum_total+number\n",
    "    number=number*2\n",
    "    print(sum_total)\n",
    "    print('number',number)"
   ]
  },
  {
   "cell_type": "code",
   "execution_count": 23,
   "metadata": {},
   "outputs": [
    {
     "name": "stdout",
     "output_type": "stream",
     "text": [
      "-2\n",
      "-5\n",
      "-10\n"
     ]
    }
   ],
   "source": [
    "#sum of positive values in list\n",
    "mylist = [5,4,4,3,1,-2,-3,-5]\n",
    "total = 0\n",
    "index = 5\n",
    "while index<len(mylist) and mylist[index]<0:\n",
    "    total = total + mylist[index]\n",
    "    index = index + 1\n",
    "    print(total)"
   ]
  },
  {
   "cell_type": "code",
   "execution_count": 37,
   "metadata": {},
   "outputs": [],
   "source": [
    "mylist2 = [5,5,5,5,-5,-5,-142]"
   ]
  },
  {
   "cell_type": "code",
   "execution_count": 38,
   "metadata": {
    "scrolled": true
   },
   "outputs": [
    {
     "name": "stdout",
     "output_type": "stream",
     "text": [
      "20\n"
     ]
    }
   ],
   "source": [
    "# sum of list with while loop \n",
    "total=0\n",
    "index=0\n",
    "while index<len(mylist2) and mylist2[index]>-100000:\n",
    "    total=total+mylist2[index]\n",
    "    index=index+1\n",
    "    if mylist2[index]<0:\n",
    "        break\n",
    "print(total)"
   ]
  },
  {
   "cell_type": "code",
   "execution_count": 41,
   "metadata": {},
   "outputs": [
    {
     "name": "stdout",
     "output_type": "stream",
     "text": [
      "20\n"
     ]
    }
   ],
   "source": [
    "#sum of list with for loop\n",
    "total = 0\n",
    "for elements in mylist2:\n",
    "    if elements<0:\n",
    "        break\n",
    "    total=total+elements\n",
    "print(total)"
   ]
  },
  {
   "cell_type": "code",
   "execution_count": 7,
   "metadata": {},
   "outputs": [],
   "source": [
    "mylist=[7,5,4,4,3,1,-2,-3,-5,-7]"
   ]
  },
  {
   "cell_type": "code",
   "execution_count": 9,
   "metadata": {},
   "outputs": [
    {
     "name": "stdout",
     "output_type": "stream",
     "text": [
      "-17\n"
     ]
    }
   ],
   "source": [
    "#sum of only negative numbers with while loop\n",
    "total = 0\n",
    "index = -1\n",
    "while mylist[index]<0:\n",
    "    total+=mylist[index]\n",
    "    index=index-1\n",
    "print(total)"
   ]
  },
  {
   "cell_type": "code",
   "execution_count": 11,
   "metadata": {},
   "outputs": [
    {
     "name": "stdout",
     "output_type": "stream",
     "text": [
      "-17\n"
     ]
    }
   ],
   "source": [
    "#sum of negatuve numbers with for loop\n",
    "total = 0\n",
    "for elements in mylist:\n",
    "    if elements<0:\n",
    "        total=total+elements\n",
    "print(total)    "
   ]
  },
  {
   "cell_type": "code",
   "execution_count": null,
   "metadata": {},
   "outputs": [],
   "source": []
  },
  {
   "cell_type": "code",
   "execution_count": null,
   "metadata": {},
   "outputs": [],
   "source": []
  },
  {
   "cell_type": "code",
   "execution_count": null,
   "metadata": {},
   "outputs": [],
   "source": []
  },
  {
   "cell_type": "code",
   "execution_count": null,
   "metadata": {},
   "outputs": [],
   "source": []
  },
  {
   "cell_type": "code",
   "execution_count": null,
   "metadata": {},
   "outputs": [],
   "source": []
  },
  {
   "cell_type": "code",
   "execution_count": null,
   "metadata": {},
   "outputs": [],
   "source": []
  }
 ],
 "metadata": {
  "kernelspec": {
   "display_name": "Python 3",
   "language": "python",
   "name": "python3"
  },
  "language_info": {
   "codemirror_mode": {
    "name": "ipython",
    "version": 3
   },
   "file_extension": ".py",
   "mimetype": "text/x-python",
   "name": "python",
   "nbconvert_exporter": "python",
   "pygments_lexer": "ipython3",
   "version": "3.7.6"
  }
 },
 "nbformat": 4,
 "nbformat_minor": 4
}
