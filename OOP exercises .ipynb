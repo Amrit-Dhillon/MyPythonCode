{
 "cells": [
  {
   "cell_type": "code",
   "execution_count": 1,
   "metadata": {},
   "outputs": [],
   "source": [
    "#MINI PROJECT LIBRARY#"
   ]
  },
  {
   "cell_type": "code",
   "execution_count": 2,
   "metadata": {},
   "outputs": [],
   "source": [
    "###########################################################################################"
   ]
  },
  {
   "cell_type": "code",
   "execution_count": 2,
   "metadata": {},
   "outputs": [],
   "source": [
    "class Library():\n",
    "    def __init__(self,book_list,name):\n",
    "        self.book_list = book_list\n",
    "        self.name = name\n",
    "        self.lend_dict = {}\n",
    "    def display_books(self):\n",
    "        print('{} has following books in its library:- '.format(self.name))\n",
    "        for _ in self.book_list:\n",
    "            print(_) \n",
    "    def lend_book(self,user,book):\n",
    "        if book not in self.book_list:\n",
    "            print(\"We don't have this book in our library\")\n",
    "        elif book in self.book_list and book not in self.lend_dict.keys():\n",
    "            self.lend_dict.update({book:user})\n",
    "            print('Book issued to you')\n",
    "            self.book_list.remove(book)\n",
    "        else:\n",
    "            print('Book is already being used by {}'.format(self.lend_dict[book]))\n",
    "    def add_book(self,book):\n",
    "        self.book_list.append(book)\n",
    "        print('Book has been added to the book list')\n",
    "    def return_book(self,book):\n",
    "        if book in self.lend_dict.keys():\n",
    "            self.lend_dict.pop(book)\n",
    "            self.book_list.append(book)\n",
    "        else:\n",
    "            print('This book is not in our database')\n",
    "    def issued_books(self):\n",
    "        print(self.lend_dict)"
   ]
  },
  {
   "cell_type": "code",
   "execution_count": 4,
   "metadata": {},
   "outputs": [
    {
     "name": "stdout",
     "output_type": "stream",
     "text": [
      "\n",
      "\n",
      "Welcome to Khalsa college library app. Enter your choice to continue \n",
      "1. Display Books\n",
      "2. Lend a book\n",
      "3. Add a book\n",
      "4. Return a book\n",
      "5. See issued books\n",
      "\n",
      "\n",
      "1\n",
      "Khalsa college has following books in its library:- \n",
      "Maths\n",
      "Physics\n",
      "English\n",
      "Punjabi\n",
      "Hindi\n",
      "Economics\n",
      "Do you want to keep using the library app? (Y or N): \n",
      "n\n"
     ]
    }
   ],
   "source": [
    "mylibrary = Library(['Maths','Physics','English','Punjabi','Hindi','Economics'],'Khalsa college')\n",
    "on = True\n",
    "while on:\n",
    "    print('\\n')\n",
    "    print('Welcome to {} library app. Enter your choice to continue '.format(mylibrary.name))\n",
    "    print('1. Display Books')\n",
    "    print('2. Lend a book')\n",
    "    print('3. Add a book')\n",
    "    print('4. Return a book')\n",
    "    print('5. See issued books')\n",
    "    print('\\n')\n",
    "    user_choice = int(input())\n",
    "    if user_choice == 1:\n",
    "        mylibrary.display_books()\n",
    "    elif user_choice == 2:\n",
    "        book = input('Enter the name of the book you want to lend: ').capitalize()\n",
    "        user = input('Enter your name- ')\n",
    "        mylibrary.lend_book(user,book)\n",
    "    elif user_choice == 3:\n",
    "        book = input('Enter the name of the book you want to add: ').capitalize()\n",
    "        mylibrary.add_book(book)\n",
    "    elif user_choice == 4:\n",
    "        book = input('Enter the name of the book you want to return: ').capitalize()\n",
    "        mylibrary.return_book(book)\n",
    "    elif user_choice == 5:\n",
    "        mylibrary.issued_books()\n",
    "    else:\n",
    "        print('Not a valid option')\n",
    "    #KEEP USING?#\n",
    "    print('Do you want to keep using the library app? (Y or N): ')\n",
    "    user_choice2 = 'x'\n",
    "    while user_choice2 not in ['Y','N']:\n",
    "        user_choice2 = input().upper()\n",
    "        if user_choice2 == 'N':\n",
    "            on = False\n",
    "        elif user_choice2 == 'Y':\n",
    "            on = True"
   ]
  },
  {
   "cell_type": "code",
   "execution_count": 1,
   "metadata": {},
   "outputs": [],
   "source": [
    "##PRACTICE PROBLEMS##"
   ]
  },
  {
   "cell_type": "code",
   "execution_count": 10,
   "metadata": {},
   "outputs": [],
   "source": [
    "class BasicPlan:\n",
    "    can_stream = True\n",
    "    can_download = True\n",
    "    num_of_devices = 1\n",
    "    has_SD = True\n",
    "    has_HD = False\n",
    "    has_UHD = False\n",
    "    price = '$8.99'\n",
    "# Write the classes for StandardPlan and PremiumPlan here!"
   ]
  },
  {
   "cell_type": "code",
   "execution_count": 28,
   "metadata": {},
   "outputs": [],
   "source": [
    "#INHERITANCE\n",
    "class StandardPlan(BasicPlan):\n",
    "    has_HD = True\n",
    "    num_of_devices = 2\n",
    "    price = '$12.99'"
   ]
  },
  {
   "cell_type": "code",
   "execution_count": 29,
   "metadata": {},
   "outputs": [],
   "source": [
    "class PremiumPlan(StandardPlan):\n",
    "    has_UHD = False\n",
    "    num_of_devices = 4\n",
    "    price = '$16.99'"
   ]
  },
  {
   "cell_type": "code",
   "execution_count": 11,
   "metadata": {},
   "outputs": [],
   "source": [
    "#########################################"
   ]
  },
  {
   "cell_type": "code",
   "execution_count": 49,
   "metadata": {},
   "outputs": [],
   "source": [
    "class Person():\n",
    "    def __init__(self,name,age):\n",
    "        self.name = name\n",
    "        self.age = age\n",
    "    def compare_age(self,other_person):\n",
    "        if other_person.age > self.age:\n",
    "            print('{} is older than me'.format(other_person.name))\n",
    "        elif self.age > other_person.age:\n",
    "            print('{} is younger than me'.format(other_person.name))\n",
    "        elif self.age == other_person.age:\n",
    "            print('{} is the same age as me'.format(other_person.name))"
   ]
  },
  {
   "cell_type": "code",
   "execution_count": 38,
   "metadata": {},
   "outputs": [],
   "source": [
    "p1 = Person(\"Samuel\", 24)"
   ]
  },
  {
   "cell_type": "code",
   "execution_count": 39,
   "metadata": {},
   "outputs": [],
   "source": [
    "p2 = Person(\"Joel\", 36)"
   ]
  },
  {
   "cell_type": "code",
   "execution_count": 40,
   "metadata": {},
   "outputs": [],
   "source": [
    "p3 = Person(\"Lily\", 24)"
   ]
  },
  {
   "cell_type": "code",
   "execution_count": 41,
   "metadata": {},
   "outputs": [
    {
     "name": "stdout",
     "output_type": "stream",
     "text": [
      "Joel is older than me\n"
     ]
    }
   ],
   "source": [
    "p1.compare_age(p2)"
   ]
  },
  {
   "cell_type": "code",
   "execution_count": 42,
   "metadata": {},
   "outputs": [
    {
     "name": "stdout",
     "output_type": "stream",
     "text": [
      "Samuel is younger than me\n"
     ]
    }
   ],
   "source": [
    "p2.compare_age(p1)"
   ]
  },
  {
   "cell_type": "code",
   "execution_count": 43,
   "metadata": {},
   "outputs": [
    {
     "name": "stdout",
     "output_type": "stream",
     "text": [
      "Lily is the same age as me\n"
     ]
    }
   ],
   "source": [
    "p1.compare_age(p3)"
   ]
  },
  {
   "cell_type": "code",
   "execution_count": 44,
   "metadata": {},
   "outputs": [],
   "source": [
    "#😎"
   ]
  },
  {
   "cell_type": "code",
   "execution_count": 50,
   "metadata": {},
   "outputs": [],
   "source": [
    "##############################################"
   ]
  },
  {
   "cell_type": "code",
   "execution_count": 62,
   "metadata": {},
   "outputs": [],
   "source": [
    "class Circle():\n",
    "    def __init__(self,radius):\n",
    "        self.radius = radius\n",
    "        self.pi = 3.14\n",
    "    def get_area(self):\n",
    "        return self.pi*(self.radius**2)\n",
    "    def get_perimeter(self):\n",
    "        return 2*self.pi*self.radius"
   ]
  },
  {
   "cell_type": "code",
   "execution_count": 63,
   "metadata": {},
   "outputs": [],
   "source": [
    "circy = Circle(11)"
   ]
  },
  {
   "cell_type": "code",
   "execution_count": 64,
   "metadata": {},
   "outputs": [
    {
     "data": {
      "text/plain": [
       "379.94"
      ]
     },
     "execution_count": 64,
     "metadata": {},
     "output_type": "execute_result"
    }
   ],
   "source": [
    "circy.get_area()"
   ]
  },
  {
   "cell_type": "code",
   "execution_count": 66,
   "metadata": {},
   "outputs": [],
   "source": [
    "circy = Circle(4.44)"
   ]
  },
  {
   "cell_type": "code",
   "execution_count": 68,
   "metadata": {},
   "outputs": [
    {
     "data": {
      "text/plain": [
       "27.883200000000002"
      ]
     },
     "execution_count": 68,
     "metadata": {},
     "output_type": "execute_result"
    }
   ],
   "source": [
    "circy.get_perimeter()"
   ]
  },
  {
   "cell_type": "code",
   "execution_count": 69,
   "metadata": {},
   "outputs": [],
   "source": [
    "#😎"
   ]
  },
  {
   "cell_type": "code",
   "execution_count": 10,
   "metadata": {},
   "outputs": [],
   "source": [
    "#######################"
   ]
  },
  {
   "cell_type": "code",
   "execution_count": 71,
   "metadata": {},
   "outputs": [],
   "source": [
    "class Calculator():\n",
    "    def __init__(self):\n",
    "        print('Welcome to my calculator')\n",
    "    def addition(self,num1,num2):\n",
    "        return num1+num2\n",
    "    def subtract(self,num1,num2):\n",
    "        return num1-num2\n",
    "    def multiply(self,num1,num2):\n",
    "        return num1*num2\n",
    "    def divide(self,num1,num2):\n",
    "        return num1/num2"
   ]
  },
  {
   "cell_type": "code",
   "execution_count": 72,
   "metadata": {},
   "outputs": [
    {
     "name": "stdout",
     "output_type": "stream",
     "text": [
      "Welcome to my calculator\n"
     ]
    }
   ],
   "source": [
    "my_calculator = Calculator()"
   ]
  },
  {
   "cell_type": "code",
   "execution_count": 79,
   "metadata": {},
   "outputs": [
    {
     "data": {
      "text/plain": [
       "72"
      ]
     },
     "execution_count": 79,
     "metadata": {},
     "output_type": "execute_result"
    }
   ],
   "source": [
    "my_calculator.multiply(12,6)"
   ]
  },
  {
   "cell_type": "code",
   "execution_count": 80,
   "metadata": {},
   "outputs": [],
   "source": [
    "#😎"
   ]
  },
  {
   "cell_type": "code",
   "execution_count": null,
   "metadata": {},
   "outputs": [],
   "source": [
    "##########################################"
   ]
  },
  {
   "cell_type": "code",
   "execution_count": 21,
   "metadata": {},
   "outputs": [],
   "source": [
    "class Employee():\n",
    "    def __init__(self,first_name,second_name):\n",
    "        self.first_name = first_name\n",
    "        self.second_name = second_name \n",
    "        self.fullname = ('{} {}'.format(self.first_name,self.second_name))\n",
    "        self.email = ('{}.{}@company.com'.format(self.first_name,self.second_name))"
   ]
  },
  {
   "cell_type": "code",
   "execution_count": 22,
   "metadata": {},
   "outputs": [],
   "source": [
    "emp_1 = Employee(\"John\", \"Smith\")"
   ]
  },
  {
   "cell_type": "code",
   "execution_count": 24,
   "metadata": {},
   "outputs": [
    {
     "data": {
      "text/plain": [
       "'John.Smith@company.com'"
      ]
     },
     "execution_count": 24,
     "metadata": {},
     "output_type": "execute_result"
    }
   ],
   "source": [
    "emp_1.email"
   ]
  },
  {
   "cell_type": "code",
   "execution_count": 25,
   "metadata": {},
   "outputs": [],
   "source": [
    "emp_2 = Employee(\"Mary\",  \"Sue\")"
   ]
  },
  {
   "cell_type": "code",
   "execution_count": 26,
   "metadata": {},
   "outputs": [
    {
     "data": {
      "text/plain": [
       "'Mary.Sue@company.com'"
      ]
     },
     "execution_count": 26,
     "metadata": {},
     "output_type": "execute_result"
    }
   ],
   "source": [
    "emp_2.email"
   ]
  },
  {
   "cell_type": "code",
   "execution_count": null,
   "metadata": {},
   "outputs": [],
   "source": [
    "##########################"
   ]
  },
  {
   "cell_type": "code",
   "execution_count": 1,
   "metadata": {},
   "outputs": [],
   "source": [
    "class User:\n",
    "    user_count = 0\n",
    "    def __init__(self,username):\n",
    "        self.username = username\n",
    "        User.user_count += 1"
   ]
  },
  {
   "cell_type": "code",
   "execution_count": 2,
   "metadata": {},
   "outputs": [],
   "source": [
    "u1 = User(\"johnsmith10\")"
   ]
  },
  {
   "cell_type": "code",
   "execution_count": 3,
   "metadata": {},
   "outputs": [
    {
     "data": {
      "text/plain": [
       "1"
      ]
     },
     "execution_count": 3,
     "metadata": {},
     "output_type": "execute_result"
    }
   ],
   "source": [
    "u1.user_count"
   ]
  },
  {
   "cell_type": "code",
   "execution_count": 4,
   "metadata": {},
   "outputs": [],
   "source": [
    "u2 = User(\"marysue1989\")"
   ]
  },
  {
   "cell_type": "code",
   "execution_count": 5,
   "metadata": {},
   "outputs": [
    {
     "data": {
      "text/plain": [
       "2"
      ]
     },
     "execution_count": 5,
     "metadata": {},
     "output_type": "execute_result"
    }
   ],
   "source": [
    "u1.user_count"
   ]
  },
  {
   "cell_type": "code",
   "execution_count": 6,
   "metadata": {},
   "outputs": [],
   "source": [
    "u3 = User('milan_rodrick')"
   ]
  },
  {
   "cell_type": "code",
   "execution_count": 8,
   "metadata": {},
   "outputs": [
    {
     "data": {
      "text/plain": [
       "3"
      ]
     },
     "execution_count": 8,
     "metadata": {},
     "output_type": "execute_result"
    }
   ],
   "source": [
    "u3.user_count"
   ]
  },
  {
   "cell_type": "code",
   "execution_count": 9,
   "metadata": {},
   "outputs": [],
   "source": [
    "#🤔"
   ]
  },
  {
   "cell_type": "code",
   "execution_count": 12,
   "metadata": {},
   "outputs": [],
   "source": [
    "Given an int, figure out how many ones, threes and nines you could fit into the number. You must create a\n",
    "class. You will make variables(self.ones, self.threes, self.nines) to do this."
   ]
  },
  {
   "cell_type": "code",
   "execution_count": 45,
   "metadata": {},
   "outputs": [],
   "source": [
    "class One_three_nine:\n",
    "    def __init__(self,num):\n",
    "        self.num = num\n",
    "        self.ones = int(self.num/1)\n",
    "        self.threes = int(self.num/3)\n",
    "        self.nines = int(self.num/9)"
   ]
  },
  {
   "cell_type": "code",
   "execution_count": 50,
   "metadata": {},
   "outputs": [],
   "source": [
    "n1 = One_three_nine(9)"
   ]
  },
  {
   "cell_type": "code",
   "execution_count": 51,
   "metadata": {},
   "outputs": [
    {
     "data": {
      "text/plain": [
       "9"
      ]
     },
     "execution_count": 51,
     "metadata": {},
     "output_type": "execute_result"
    }
   ],
   "source": [
    "n1.ones"
   ]
  },
  {
   "cell_type": "code",
   "execution_count": 52,
   "metadata": {},
   "outputs": [
    {
     "data": {
      "text/plain": [
       "3"
      ]
     },
     "execution_count": 52,
     "metadata": {},
     "output_type": "execute_result"
    }
   ],
   "source": [
    "n1.threes"
   ]
  },
  {
   "cell_type": "code",
   "execution_count": 53,
   "metadata": {},
   "outputs": [
    {
     "data": {
      "text/plain": [
       "1"
      ]
     },
     "execution_count": 53,
     "metadata": {},
     "output_type": "execute_result"
    }
   ],
   "source": [
    "n1.nines"
   ]
  },
  {
   "cell_type": "code",
   "execution_count": 54,
   "metadata": {},
   "outputs": [],
   "source": [
    "#😎"
   ]
  },
  {
   "cell_type": "code",
   "execution_count": 57,
   "metadata": {},
   "outputs": [],
   "source": [
    "#####################################"
   ]
  },
  {
   "cell_type": "code",
   "execution_count": 101,
   "metadata": {},
   "outputs": [],
   "source": [
    "class Name:\n",
    "    def __init__(self,fname,lname):\n",
    "        self.fname = fname.capitalize()\n",
    "        self.lname = lname.capitalize()\n",
    "        self.fullname = fname.capitalize()+' '+lname.capitalize()\n",
    "        self.initials = fname[0].upper()+'.'+lname[0].upper()"
   ]
  },
  {
   "cell_type": "code",
   "execution_count": 102,
   "metadata": {},
   "outputs": [],
   "source": [
    "a1 = Name(\"john\",\"SMITH\")"
   ]
  },
  {
   "cell_type": "code",
   "execution_count": 103,
   "metadata": {},
   "outputs": [
    {
     "data": {
      "text/plain": [
       "'John Smith'"
      ]
     },
     "execution_count": 103,
     "metadata": {},
     "output_type": "execute_result"
    }
   ],
   "source": [
    "a1.fullname"
   ]
  },
  {
   "cell_type": "code",
   "execution_count": 104,
   "metadata": {},
   "outputs": [
    {
     "data": {
      "text/plain": [
       "'J.S'"
      ]
     },
     "execution_count": 104,
     "metadata": {},
     "output_type": "execute_result"
    }
   ],
   "source": [
    "a1.initials"
   ]
  },
  {
   "cell_type": "code",
   "execution_count": 105,
   "metadata": {},
   "outputs": [
    {
     "data": {
      "text/plain": [
       "'Smith'"
      ]
     },
     "execution_count": 105,
     "metadata": {},
     "output_type": "execute_result"
    }
   ],
   "source": [
    "a1.lname"
   ]
  },
  {
   "cell_type": "code",
   "execution_count": 106,
   "metadata": {},
   "outputs": [
    {
     "data": {
      "text/plain": [
       "'John'"
      ]
     },
     "execution_count": 106,
     "metadata": {},
     "output_type": "execute_result"
    }
   ],
   "source": [
    "a1.fname"
   ]
  },
  {
   "cell_type": "code",
   "execution_count": 107,
   "metadata": {},
   "outputs": [],
   "source": [
    "#😎"
   ]
  },
  {
   "cell_type": "code",
   "execution_count": 108,
   "metadata": {},
   "outputs": [],
   "source": [
    "############################################"
   ]
  },
  {
   "cell_type": "code",
   "execution_count": 115,
   "metadata": {},
   "outputs": [],
   "source": [
    "class Player:\n",
    "    def __init__(self,name,age,height,weight):\n",
    "        self.name = name\n",
    "        self.age = age\n",
    "        self.height = height\n",
    "        self.weight = weight\n",
    "    def get_age(self):\n",
    "        print('{} is {} years old'.format(self.name,self.age))\n",
    "    def get_height(self):\n",
    "        print('{} is {} cm tall'.format(self.name,self.height))\n",
    "    def get_weight(self):\n",
    "        print('{} weighs {} kg'.format(self.name,self.weight))"
   ]
  },
  {
   "cell_type": "code",
   "execution_count": 116,
   "metadata": {},
   "outputs": [],
   "source": [
    " p1 = Player(\"David Jones\", 25, 175, 75)"
   ]
  },
  {
   "cell_type": "code",
   "execution_count": 117,
   "metadata": {},
   "outputs": [
    {
     "name": "stdout",
     "output_type": "stream",
     "text": [
      "David Jones weighs 75 kg\n"
     ]
    }
   ],
   "source": [
    "p1.get_weight()"
   ]
  },
  {
   "cell_type": "code",
   "execution_count": 118,
   "metadata": {},
   "outputs": [],
   "source": [
    "#bruh"
   ]
  },
  {
   "cell_type": "code",
   "execution_count": 119,
   "metadata": {},
   "outputs": [],
   "source": [
    "######################################################"
   ]
  },
  {
   "cell_type": "code",
   "execution_count": 2,
   "metadata": {},
   "outputs": [],
   "source": [
    "class Book:\n",
    "    def __init__(self,title,author):\n",
    "        self.title = title\n",
    "        self.author = author\n",
    "    def get_title(self):\n",
    "        return 'Title: '+self.title \n",
    "    def get_author(self):\n",
    "        return 'Author: '+self.author"
   ]
  },
  {
   "cell_type": "code",
   "execution_count": 3,
   "metadata": {},
   "outputs": [],
   "source": [
    "HP = Book('Harry Potter', 'J.K. Rowling')"
   ]
  },
  {
   "cell_type": "code",
   "execution_count": 5,
   "metadata": {},
   "outputs": [
    {
     "data": {
      "text/plain": [
       "'Author: J.K. Rowling'"
      ]
     },
     "execution_count": 5,
     "metadata": {},
     "output_type": "execute_result"
    }
   ],
   "source": [
    "HP.get_author()"
   ]
  },
  {
   "cell_type": "code",
   "execution_count": 1,
   "metadata": {},
   "outputs": [],
   "source": [
    "###################################################"
   ]
  },
  {
   "cell_type": "code",
   "execution_count": 1,
   "metadata": {},
   "outputs": [],
   "source": [
    "class Person:\n",
    "    def __init__(self,name,like,hate):\n",
    "        self.name = name\n",
    "        self.like = like\n",
    "        self.hate = hate\n",
    "    def taste(self,food):\n",
    "        if food in self.like:\n",
    "            print('{} eats the {} and loves it!'.format(self.name,food))\n",
    "        elif food in self.hate:\n",
    "            print('{} eats the {} and hates it!'.format(self.name,food))\n",
    "        else:\n",
    "             print('{} eats the {}!'.format(self.name,food))"
   ]
  },
  {
   "cell_type": "code",
   "execution_count": 2,
   "metadata": {},
   "outputs": [],
   "source": [
    "p1 = Person(\"Sam\", [\"ice cream\"], [\"carrots\"])"
   ]
  },
  {
   "cell_type": "code",
   "execution_count": 7,
   "metadata": {},
   "outputs": [
    {
     "name": "stdout",
     "output_type": "stream",
     "text": [
      "Sam eats the carrots and hates it!\n"
     ]
    }
   ],
   "source": [
    "p1.taste(\"carrots\")"
   ]
  },
  {
   "cell_type": "code",
   "execution_count": 8,
   "metadata": {},
   "outputs": [],
   "source": [
    "############################################"
   ]
  },
  {
   "cell_type": "code",
   "execution_count": 130,
   "metadata": {},
   "outputs": [],
   "source": [
    "class Country:\n",
    "    def __init__(self, name, population, area):\n",
    "        self.name = name\n",
    "        self.population = population\n",
    "        self.area = area\n",
    "        self.density = self.population/self.area\n",
    "        if self.population > 250000000 or self.area > 3000000:\n",
    "            self.is_big = True\n",
    "        else:\n",
    "            self.is_big = False\n",
    "    def compare_pd(self,other_country):\n",
    "        if other_country.density > self.density:\n",
    "            print('{} has a larger population density than {}'.format(other_country.name,self.name))\n",
    "        elif self.density > other_country.density:\n",
    "            print('{} has a larger population density than {}'.format(self.name,other_country.name))"
   ]
  },
  {
   "cell_type": "code",
   "execution_count": 131,
   "metadata": {},
   "outputs": [],
   "source": [
    "australia = Country(\"Australia\", 300, 5)"
   ]
  },
  {
   "cell_type": "code",
   "execution_count": 132,
   "metadata": {},
   "outputs": [
    {
     "data": {
      "text/plain": [
       "False"
      ]
     },
     "execution_count": 132,
     "metadata": {},
     "output_type": "execute_result"
    }
   ],
   "source": [
    "australia.is_big"
   ]
  },
  {
   "cell_type": "code",
   "execution_count": 133,
   "metadata": {},
   "outputs": [],
   "source": [
    "andorra = Country(\"Andorra\", 200, 5)"
   ]
  },
  {
   "cell_type": "code",
   "execution_count": 134,
   "metadata": {},
   "outputs": [
    {
     "name": "stdout",
     "output_type": "stream",
     "text": [
      "Australia has a larger population density than Andorra\n"
     ]
    }
   ],
   "source": [
    "andorra.compare_pd(australia)"
   ]
  },
  {
   "cell_type": "code",
   "execution_count": 135,
   "metadata": {},
   "outputs": [],
   "source": [
    "#😎"
   ]
  },
  {
   "cell_type": "code",
   "execution_count": 136,
   "metadata": {},
   "outputs": [],
   "source": [
    "###################################################"
   ]
  },
  {
   "cell_type": "code",
   "execution_count": 239,
   "metadata": {},
   "outputs": [],
   "source": [
    "class Brrrrr:\n",
    "    def __init__(self):\n",
    "        print('Sup homie')\n",
    "    def ones_threes_nines(self,num):\n",
    "        nines = int(num/9)\n",
    "        remainder = int(num%9)\n",
    "        threes = int(remainder/3)\n",
    "        ones = int(remainder%3)\n",
    "        return ('nines:{}, threes:{}, ones:{}'.format(nines,threes,ones))"
   ]
  },
  {
   "cell_type": "code",
   "execution_count": 240,
   "metadata": {},
   "outputs": [
    {
     "name": "stdout",
     "output_type": "stream",
     "text": [
      "Sup homie\n"
     ]
    }
   ],
   "source": [
    "x = Brrrrr()"
   ]
  },
  {
   "cell_type": "code",
   "execution_count": 243,
   "metadata": {},
   "outputs": [
    {
     "data": {
      "text/plain": [
       "'nines:2, threes:1, ones:1'"
      ]
     },
     "execution_count": 243,
     "metadata": {},
     "output_type": "execute_result"
    }
   ],
   "source": [
    "answer.ones_threes_nines(22)"
   ]
  },
  {
   "cell_type": "code",
   "execution_count": null,
   "metadata": {},
   "outputs": [],
   "source": [
    "#😎"
   ]
  },
  {
   "cell_type": "code",
   "execution_count": null,
   "metadata": {},
   "outputs": [],
   "source": [
    "#Another method"
   ]
  },
  {
   "cell_type": "code",
   "execution_count": 255,
   "metadata": {},
   "outputs": [],
   "source": [
    "class Ones_threes_nines:\n",
    "    def __init__(self,num):\n",
    "        self.answer = print('nines:{}, threes:{}, ones:{}'.format(int(num/9),int(num%9/3),int(num%9%3/1)))"
   ]
  },
  {
   "cell_type": "code",
   "execution_count": 256,
   "metadata": {},
   "outputs": [
    {
     "name": "stdout",
     "output_type": "stream",
     "text": [
      "nines:2, threes:1, ones:1\n"
     ]
    }
   ],
   "source": [
    "x = Ones_threes_nines(22)"
   ]
  },
  {
   "cell_type": "code",
   "execution_count": 257,
   "metadata": {},
   "outputs": [],
   "source": [
    "#HOLY SHIT DUDE WTF!? PYTHON IS WAYYYY TOO FLEXIBLE"
   ]
  },
  {
   "cell_type": "code",
   "execution_count": 15,
   "metadata": {},
   "outputs": [],
   "source": [
    "class Employee:\n",
    "    def __init__(self,firstname,lastname,salary):\n",
    "        self.firstname = firstname\n",
    "        self.lastname = lastname\n",
    "        self.salary = salary\n",
    "    def from_string(string):\n",
    "        firstname,lastname,salary = string.split('-')\n",
    "        return Employee(firstname,lastname,int(salary))"
   ]
  },
  {
   "cell_type": "code",
   "execution_count": 16,
   "metadata": {},
   "outputs": [],
   "source": [
    "emp1 = Employee(\"Mary\", \"Sue\", 60000)"
   ]
  },
  {
   "cell_type": "code",
   "execution_count": 17,
   "metadata": {},
   "outputs": [],
   "source": [
    "emp2 = Employee.from_string(\"John-Smith-55000\")"
   ]
  },
  {
   "cell_type": "code",
   "execution_count": 18,
   "metadata": {},
   "outputs": [
    {
     "data": {
      "text/plain": [
       "55000"
      ]
     },
     "execution_count": 18,
     "metadata": {},
     "output_type": "execute_result"
    }
   ],
   "source": [
    "emp2.salary"
   ]
  },
  {
   "cell_type": "code",
   "execution_count": 19,
   "metadata": {},
   "outputs": [],
   "source": [
    "#😐"
   ]
  },
  {
   "cell_type": "code",
   "execution_count": 20,
   "metadata": {},
   "outputs": [],
   "source": [
    "###################################"
   ]
  },
  {
   "cell_type": "code",
   "execution_count": 6,
   "metadata": {},
   "outputs": [],
   "source": [
    "class Shiritori:\n",
    "    def __init__(self):\n",
    "        self.words = []\n",
    "        self.game_over = False\n",
    "    def play(self,word):\n",
    "        if len(self.words)==0: \n",
    "            self.words.append(word)\n",
    "        elif self.words[-1][-1] == word[0] and word not in self.words:\n",
    "            self.words.append(word)\n",
    "        else: \n",
    "            print('game over')\n",
    "            self.game_over = True\n",
    "        return self.words\n",
    "    def restart(self):\n",
    "        self.words = []\n",
    "        self.game_over = False\n",
    "        print('game restarted')"
   ]
  },
  {
   "cell_type": "code",
   "execution_count": 7,
   "metadata": {},
   "outputs": [],
   "source": [
    "my_shiritori = Shiritori()"
   ]
  },
  {
   "cell_type": "code",
   "execution_count": 19,
   "metadata": {},
   "outputs": [
    {
     "data": {
      "text/plain": [
       "['apple']"
      ]
     },
     "execution_count": 19,
     "metadata": {},
     "output_type": "execute_result"
    }
   ],
   "source": [
    "my_shiritori.play('apple')"
   ]
  },
  {
   "cell_type": "code",
   "execution_count": 20,
   "metadata": {},
   "outputs": [
    {
     "data": {
      "text/plain": [
       "['apple', 'ear']"
      ]
     },
     "execution_count": 20,
     "metadata": {},
     "output_type": "execute_result"
    }
   ],
   "source": [
    "my_shiritori.play(\"ear\")"
   ]
  },
  {
   "cell_type": "code",
   "execution_count": 21,
   "metadata": {},
   "outputs": [
    {
     "data": {
      "text/plain": [
       "['apple', 'ear', 'rhino']"
      ]
     },
     "execution_count": 21,
     "metadata": {},
     "output_type": "execute_result"
    }
   ],
   "source": [
    "my_shiritori.play(\"rhino\") "
   ]
  },
  {
   "cell_type": "code",
   "execution_count": 23,
   "metadata": {},
   "outputs": [
    {
     "name": "stdout",
     "output_type": "stream",
     "text": [
      "game over\n"
     ]
    },
    {
     "data": {
      "text/plain": [
       "['apple', 'ear', 'rhino']"
      ]
     },
     "execution_count": 23,
     "metadata": {},
     "output_type": "execute_result"
    }
   ],
   "source": [
    "my_shiritori.play(\"corn\")"
   ]
  },
  {
   "cell_type": "code",
   "execution_count": 25,
   "metadata": {},
   "outputs": [
    {
     "name": "stdout",
     "output_type": "stream",
     "text": [
      "game restarted\n"
     ]
    }
   ],
   "source": [
    "my_shiritori.restart()"
   ]
  },
  {
   "cell_type": "code",
   "execution_count": 26,
   "metadata": {},
   "outputs": [
    {
     "data": {
      "text/plain": [
       "['hostess']"
      ]
     },
     "execution_count": 26,
     "metadata": {},
     "output_type": "execute_result"
    }
   ],
   "source": [
    "my_shiritori.play(\"hostess\")"
   ]
  },
  {
   "cell_type": "code",
   "execution_count": 27,
   "metadata": {},
   "outputs": [
    {
     "data": {
      "text/plain": [
       "['hostess', 'stash']"
      ]
     },
     "execution_count": 27,
     "metadata": {},
     "output_type": "execute_result"
    }
   ],
   "source": [
    "my_shiritori.play(\"stash\")"
   ]
  },
  {
   "cell_type": "code",
   "execution_count": 28,
   "metadata": {},
   "outputs": [
    {
     "name": "stdout",
     "output_type": "stream",
     "text": [
      "game over\n"
     ]
    },
    {
     "data": {
      "text/plain": [
       "['hostess', 'stash']"
      ]
     },
     "execution_count": 28,
     "metadata": {},
     "output_type": "execute_result"
    }
   ],
   "source": [
    "my_shiritori.play(\"hostess\")"
   ]
  },
  {
   "cell_type": "code",
   "execution_count": 29,
   "metadata": {},
   "outputs": [
    {
     "data": {
      "text/plain": [
       "True"
      ]
     },
     "execution_count": 29,
     "metadata": {},
     "output_type": "execute_result"
    }
   ],
   "source": [
    "my_shiritori.game_over"
   ]
  },
  {
   "cell_type": "code",
   "execution_count": 31,
   "metadata": {},
   "outputs": [],
   "source": [
    "#🥺🤩"
   ]
  },
  {
   "cell_type": "code",
   "execution_count": 118,
   "metadata": {},
   "outputs": [],
   "source": [
    "##########################################################"
   ]
  },
  {
   "cell_type": "code",
   "execution_count": 263,
   "metadata": {},
   "outputs": [],
   "source": [
    "class Pagination:\n",
    "    def __init__(self,items=[],pageSize=10):\n",
    "        self.items = items\n",
    "        self.pageSize = pageSize\n",
    "        self.totalPages = len(items)//pageSize\n",
    "        self.currentPage = 1\n",
    "    def getItems(self):\n",
    "        return self.items\n",
    "    def getPageSize(self):\n",
    "        return self.pageSize\n",
    "    def getCurrentPage(self):\n",
    "        return self.currentPage\n",
    "    #PREVIOUS PAGE\n",
    "    def prevPage(self):\n",
    "        if self.currentPage > 1:\n",
    "            self.currentPage -= 1\n",
    "    #NEXT PAGE\n",
    "    def nextPage(self):\n",
    "        if self.currentPage < self.totalPages:\n",
    "            self.currentPage += 1\n",
    "    #FIRST PAGE\n",
    "    def firstPage(self):\n",
    "        self.currentPage = 1\n",
    "    #LAST PAGE\n",
    "    def lastPage(self):\n",
    "        self.currentPage = self.totalPages\n",
    "    #USER DETERMINED PAGE\n",
    "    def goToPage(self, page):\n",
    "        page = int(page)\n",
    "        if page >= 1 and page <= self.totalPages:\n",
    "            self.currentPage = page\n",
    "        elif page < 1:\n",
    "            self.currentPage = 1\n",
    "        elif page > self.totalPages:\n",
    "            self.currentPage = self.totalPages\n",
    "        return self\n",
    "    def getVisibleItems(self):\n",
    "        return self.items[(self.pageSize*(self.currentPage-1)):self.pageSize*self.currentPage]"
   ]
  },
  {
   "cell_type": "code",
   "execution_count": 264,
   "metadata": {},
   "outputs": [],
   "source": [
    "alphabetList = ['a', 'b', 'c', 'd', 'e', 'f', 'g', 'h', 'i', 'j', 'k', 'l', 'm', 'n', 'o', 'p', 'q', 'r', 's', 't', 'u', 'v', 'w', 'x', 'y', 'z']"
   ]
  },
  {
   "cell_type": "code",
   "execution_count": 265,
   "metadata": {},
   "outputs": [],
   "source": [
    "p = Pagination(alphabetList,4)"
   ]
  },
  {
   "cell_type": "code",
   "execution_count": 260,
   "metadata": {},
   "outputs": [],
   "source": [
    "p.nextPage()"
   ]
  },
  {
   "cell_type": "code",
   "execution_count": 272,
   "metadata": {},
   "outputs": [
    {
     "data": {
      "text/plain": [
       "['q', 'r', 's', 't']"
      ]
     },
     "execution_count": 272,
     "metadata": {},
     "output_type": "execute_result"
    }
   ],
   "source": [
    "p.getVisibleItems()"
   ]
  },
  {
   "cell_type": "code",
   "execution_count": 271,
   "metadata": {},
   "outputs": [],
   "source": [
    "p.prevPage()"
   ]
  },
  {
   "cell_type": "code",
   "execution_count": 238,
   "metadata": {},
   "outputs": [],
   "source": [
    "p.firstPage()"
   ]
  },
  {
   "cell_type": "code",
   "execution_count": 268,
   "metadata": {},
   "outputs": [],
   "source": [
    "p.lastPage()"
   ]
  },
  {
   "cell_type": "code",
   "execution_count": 269,
   "metadata": {},
   "outputs": [
    {
     "data": {
      "text/plain": [
       "6"
      ]
     },
     "execution_count": 269,
     "metadata": {},
     "output_type": "execute_result"
    }
   ],
   "source": [
    "p.getCurrentPage()"
   ]
  },
  {
   "cell_type": "code",
   "execution_count": 255,
   "metadata": {},
   "outputs": [],
   "source": [
    "#SIRAAA LOGIC"
   ]
  },
  {
   "cell_type": "code",
   "execution_count": 375,
   "metadata": {},
   "outputs": [],
   "source": [
    "#############################SOMETHING NEW..MIGHT USE AGAIN##########################"
   ]
  },
  {
   "cell_type": "code",
   "execution_count": 376,
   "metadata": {},
   "outputs": [],
   "source": [
    "class Pizza:\n",
    "    orders = 0\n",
    "    def __init__(self,ingredients):\n",
    "        Pizza.orders += 1\n",
    "        self.ingredients = ingredients\n",
    "        self.order_number = Pizza.orders\n",
    "    def hawaiian():\n",
    "        p = Pizza(['ham','pineapple'])\n",
    "        return p\n",
    "    def meat_festival():\n",
    "        p = Pizza(['beef','meatball','bacon'])\n",
    "        return p\n",
    "    def garden_feast():\n",
    "        p = Pizza(['spinach','olives','mushroom'])\n",
    "        return p"
   ]
  },
  {
   "cell_type": "code",
   "execution_count": 377,
   "metadata": {},
   "outputs": [],
   "source": [
    "p1 = Pizza([\"bacon\", \"parmesan\", \"ham\"])"
   ]
  },
  {
   "cell_type": "code",
   "execution_count": 378,
   "metadata": {},
   "outputs": [
    {
     "data": {
      "text/plain": [
       "['bacon', 'parmesan', 'ham']"
      ]
     },
     "execution_count": 378,
     "metadata": {},
     "output_type": "execute_result"
    }
   ],
   "source": [
    "p1.ingredients"
   ]
  },
  {
   "cell_type": "code",
   "execution_count": 379,
   "metadata": {},
   "outputs": [
    {
     "data": {
      "text/plain": [
       "1"
      ]
     },
     "execution_count": 379,
     "metadata": {},
     "output_type": "execute_result"
    }
   ],
   "source": [
    "p1.order_number"
   ]
  },
  {
   "cell_type": "code",
   "execution_count": 380,
   "metadata": {},
   "outputs": [],
   "source": [
    "p2 = Pizza.garden_feast()"
   ]
  },
  {
   "cell_type": "code",
   "execution_count": 381,
   "metadata": {},
   "outputs": [
    {
     "data": {
      "text/plain": [
       "['spinach', 'olives', 'mushroom']"
      ]
     },
     "execution_count": 381,
     "metadata": {},
     "output_type": "execute_result"
    }
   ],
   "source": [
    "p2.ingredients"
   ]
  },
  {
   "cell_type": "code",
   "execution_count": 382,
   "metadata": {},
   "outputs": [
    {
     "data": {
      "text/plain": [
       "2"
      ]
     },
     "execution_count": 382,
     "metadata": {},
     "output_type": "execute_result"
    }
   ],
   "source": [
    "p2.order_number"
   ]
  },
  {
   "cell_type": "code",
   "execution_count": 383,
   "metadata": {},
   "outputs": [],
   "source": [
    "###########################################################"
   ]
  },
  {
   "cell_type": "code",
   "execution_count": 541,
   "metadata": {},
   "outputs": [],
   "source": [
    "class Employee:\n",
    "    def __init__(self,name,**kwargs):\n",
    "        self.name = name\n",
    "        self.fullname,self.lastname = name.split()\n",
    "        self.__dict__.update(kwargs)"
   ]
  },
  {
   "cell_type": "code",
   "execution_count": 542,
   "metadata": {},
   "outputs": [],
   "source": [
    "john = Employee(\"John Doe\", salary=115000, height=182, nationality=\"Italian\")"
   ]
  },
  {
   "cell_type": "code",
   "execution_count": 543,
   "metadata": {},
   "outputs": [
    {
     "data": {
      "text/plain": [
       "'Italian'"
      ]
     },
     "execution_count": 543,
     "metadata": {},
     "output_type": "execute_result"
    }
   ],
   "source": [
    "john.nationality"
   ]
  },
  {
   "cell_type": "code",
   "execution_count": 545,
   "metadata": {},
   "outputs": [],
   "source": [
    "x = {'salary':115000,'height':182}"
   ]
  },
  {
   "cell_type": "code",
   "execution_count": 1,
   "metadata": {},
   "outputs": [],
   "source": [
    "###########################################################Strawberries = '$1.50'\n",
    "Banana = '$0.50'\n",
    "Mango = '$2.50'\n",
    "Blueberries = '$1.00'\n",
    "Raspberries = '$1.00'\n",
    "Apple = '$1.75'\n",
    "Pineapple = '$3.50'"
   ]
  },
  {
   "cell_type": "code",
   "execution_count": 111,
   "metadata": {},
   "outputs": [],
   "source": [
    "prices = {'Strawberries':1.50, 'Banana':0.50, 'Mango':2.50, 'Blueberries':1.00,'Raspberries':1.00, 'Apple':1.75, 'Pineapple':3.50}"
   ]
  },
  {
   "cell_type": "code",
   "execution_count": 148,
   "metadata": {},
   "outputs": [],
   "source": [
    "class Smoothie:\n",
    "    def __init__(self,ingredients):\n",
    "        self.ingredients = ingredients\n",
    "        self.cost = sum(prices[fruit] for fruit in self.ingredients)\n",
    "        self.price = self.cost*2.5\n",
    "    def get_cost(self):\n",
    "        return '${:.2f}'.format(self.cost)\n",
    "    def get_price(self):\n",
    "        return '${:.2f}'.format(self.price)\n",
    "    def get_name(self):\n",
    "        lst = sorted(i.replace('ies','y') for i in self.ingredients)\n",
    "        return '{} {}'.format(' '.join(lst), 'Fusion' if len(lst)>1 else 'Smoothie')"
   ]
  },
  {
   "cell_type": "code",
   "execution_count": 149,
   "metadata": {},
   "outputs": [],
   "source": [
    "s1 = Smoothie([\"Raspberries\", \"Strawberries\", \"Blueberries\"])"
   ]
  },
  {
   "cell_type": "code",
   "execution_count": 150,
   "metadata": {},
   "outputs": [
    {
     "data": {
      "text/plain": [
       "['Raspberries', 'Strawberries', 'Blueberries']"
      ]
     },
     "execution_count": 150,
     "metadata": {},
     "output_type": "execute_result"
    }
   ],
   "source": [
    "s1.ingredients"
   ]
  },
  {
   "cell_type": "code",
   "execution_count": 153,
   "metadata": {},
   "outputs": [
    {
     "data": {
      "text/plain": [
       "'Blueberry Raspberry Strawberry Fusion'"
      ]
     },
     "execution_count": 153,
     "metadata": {},
     "output_type": "execute_result"
    }
   ],
   "source": [
    "s1.get_name()"
   ]
  },
  {
   "cell_type": "code",
   "execution_count": 1,
   "metadata": {},
   "outputs": [],
   "source": [
    "########################################################################################"
   ]
  },
  {
   "cell_type": "code",
   "execution_count": null,
   "metadata": {},
   "outputs": [],
   "source": []
  },
  {
   "cell_type": "code",
   "execution_count": null,
   "metadata": {},
   "outputs": [],
   "source": []
  },
  {
   "cell_type": "code",
   "execution_count": null,
   "metadata": {},
   "outputs": [],
   "source": []
  },
  {
   "cell_type": "code",
   "execution_count": null,
   "metadata": {},
   "outputs": [],
   "source": []
  },
  {
   "cell_type": "code",
   "execution_count": null,
   "metadata": {},
   "outputs": [],
   "source": []
  },
  {
   "cell_type": "code",
   "execution_count": null,
   "metadata": {},
   "outputs": [],
   "source": []
  },
  {
   "cell_type": "code",
   "execution_count": null,
   "metadata": {},
   "outputs": [],
   "source": []
  },
  {
   "cell_type": "code",
   "execution_count": null,
   "metadata": {},
   "outputs": [],
   "source": []
  },
  {
   "cell_type": "code",
   "execution_count": null,
   "metadata": {},
   "outputs": [],
   "source": []
  },
  {
   "cell_type": "code",
   "execution_count": null,
   "metadata": {},
   "outputs": [],
   "source": []
  },
  {
   "cell_type": "code",
   "execution_count": null,
   "metadata": {},
   "outputs": [],
   "source": []
  },
  {
   "cell_type": "code",
   "execution_count": null,
   "metadata": {},
   "outputs": [],
   "source": []
  },
  {
   "cell_type": "code",
   "execution_count": null,
   "metadata": {},
   "outputs": [],
   "source": []
  },
  {
   "cell_type": "code",
   "execution_count": null,
   "metadata": {},
   "outputs": [],
   "source": []
  },
  {
   "cell_type": "code",
   "execution_count": null,
   "metadata": {},
   "outputs": [],
   "source": []
  },
  {
   "cell_type": "code",
   "execution_count": null,
   "metadata": {},
   "outputs": [],
   "source": []
  }
 ],
 "metadata": {
  "kernelspec": {
   "display_name": "Python 3",
   "language": "python",
   "name": "python3"
  },
  "language_info": {
   "codemirror_mode": {
    "name": "ipython",
    "version": 3
   },
   "file_extension": ".py",
   "mimetype": "text/x-python",
   "name": "python",
   "nbconvert_exporter": "python",
   "pygments_lexer": "ipython3",
   "version": "3.7.6"
  }
 },
 "nbformat": 4,
 "nbformat_minor": 4
}
