{
 "cells": [
  {
   "cell_type": "code",
   "execution_count": 8,
   "metadata": {},
   "outputs": [],
   "source": [
    "#Brute force algorithm -  straightforward methods of solving a problem that rely on sheer computing power \n",
    "#and trying every possibility rather than advanced techniques to improve efficiency."
   ]
  },
  {
   "cell_type": "code",
   "execution_count": 94,
   "metadata": {},
   "outputs": [],
   "source": [
    "#Sliding window algorithm:-"
   ]
  },
  {
   "cell_type": "code",
   "execution_count": 90,
   "metadata": {},
   "outputs": [],
   "source": [
    "def maxSum(lst, window_size):\n",
    "    lst_size = len(lst)\n",
    "    if lst_size <= window_size:\n",
    "        return 'Invalid Operation'\n",
    "    window_sum = sum([lst[i] for i in range(window_size)])\n",
    "    max_sum = window_sum\n",
    "    for i in range(0, lst_size - window_size):\n",
    "        window_sum = window_sum - lst[i] + lst[i+window_size]\n",
    "        max_sum = max(max_sum,window_sum)\n",
    "    return max_sum"
   ]
  },
  {
   "cell_type": "code",
   "execution_count": 89,
   "metadata": {},
   "outputs": [
    {
     "data": {
      "text/plain": [
       "190"
      ]
     },
     "execution_count": 89,
     "metadata": {},
     "output_type": "execute_result"
    }
   ],
   "source": [
    "maxSum([80,-50,90,100], 2)"
   ]
  },
  {
   "cell_type": "code",
   "execution_count": 29,
   "metadata": {},
   "outputs": [],
   "source": [
    "#Move zeros to end"
   ]
  },
  {
   "cell_type": "code",
   "execution_count": 7,
   "metadata": {},
   "outputs": [],
   "source": [
    "def move_zeros(lst):\n",
    "    for _ in lst:\n",
    "        lst.remove(0)\n",
    "        lst.append(0)\n",
    "    return lst"
   ]
  },
  {
   "cell_type": "code",
   "execution_count": 9,
   "metadata": {},
   "outputs": [
    {
     "data": {
      "text/plain": [
       "[1, 3, 1, 2, 0, 0, 0]"
      ]
     },
     "execution_count": 9,
     "metadata": {},
     "output_type": "execute_result"
    }
   ],
   "source": [
    "move_zeros([1,0,3,0,1,0,2])"
   ]
  },
  {
   "cell_type": "code",
   "execution_count": 18,
   "metadata": {},
   "outputs": [],
   "source": [
    "#Faster method :-\n",
    "def move_zeros(lst):\n",
    "    j = 0\n",
    "    for i in lst:\n",
    "        if i != 0:\n",
    "            lst[j] = i\n",
    "            j += 1\n",
    "    for x in range(j,len(lst)):\n",
    "        print(x)\n",
    "        lst[x] = 0\n",
    "    return lst"
   ]
  },
  {
   "cell_type": "code",
   "execution_count": 19,
   "metadata": {},
   "outputs": [
    {
     "name": "stdout",
     "output_type": "stream",
     "text": [
      "4\n",
      "5\n",
      "6\n"
     ]
    },
    {
     "data": {
      "text/plain": [
       "[1, 3, 1, 2, 0, 0, 0]"
      ]
     },
     "execution_count": 19,
     "metadata": {},
     "output_type": "execute_result"
    }
   ],
   "source": [
    "move_zeros([1,0,3,0,1,0,2])"
   ]
  },
  {
   "cell_type": "code",
   "execution_count": 93,
   "metadata": {},
   "outputs": [],
   "source": [
    "#Boats to save people\n",
    "#Two pointer algorithm (keeps a pointer on start and end of a sorted list)"
   ]
  },
  {
   "cell_type": "code",
   "execution_count": 92,
   "metadata": {},
   "outputs": [],
   "source": [
    "def boats_to_save(people, limit):\n",
    "    people.sort()\n",
    "    left = 0\n",
    "    right = len(people) - 1\n",
    "    boats = 0\n",
    "    while left <= right:\n",
    "        if left == right:\n",
    "            boats += 1\n",
    "            break\n",
    "        elif people[left] + people[right] <= limit:\n",
    "            left += 1\n",
    "            right -= 1\n",
    "            boats += 1\n",
    "        elif people[left] + people[right] > limit:\n",
    "            right -= 1\n",
    "            boats += 1\n",
    "    return boats"
   ]
  },
  {
   "cell_type": "code",
   "execution_count": 95,
   "metadata": {},
   "outputs": [
    {
     "data": {
      "text/plain": [
       "4"
      ]
     },
     "execution_count": 95,
     "metadata": {},
     "output_type": "execute_result"
    }
   ],
   "source": [
    "boats_to_save([3,5,3,4],5)"
   ]
  },
  {
   "cell_type": "code",
   "execution_count": 96,
   "metadata": {},
   "outputs": [],
   "source": [
    "#valid mountain array"
   ]
  },
  {
   "cell_type": "code",
   "execution_count": 26,
   "metadata": {},
   "outputs": [],
   "source": [
    "#Valid mountain has that -1 idea"
   ]
  },
  {
   "cell_type": "code",
   "execution_count": 11,
   "metadata": {},
   "outputs": [
    {
     "name": "stdout",
     "output_type": "stream",
     "text": [
      "False\n"
     ]
    }
   ],
   "source": [
    "lst = [3,5,5]#[0,3,2,1]\n",
    "i = 1\n",
    "if len(lst) < 3:\n",
    "    print(False)\n",
    "while i < len(lst) and lst[i] > lst[i-1]:\n",
    "    i+=1\n",
    "if i == len(lst) or i == 1:\n",
    "    print(False)\n",
    "while i < len(lst) and lst[i] < lst[i-1]:\n",
    "    i += 1\n",
    "print(i == len(lst))"
   ]
  },
  {
   "cell_type": "code",
   "execution_count": 36,
   "metadata": {},
   "outputs": [],
   "source": [
    "#Container with two pointer"
   ]
  },
  {
   "cell_type": "code",
   "execution_count": 2,
   "metadata": {},
   "outputs": [
    {
     "name": "stdout",
     "output_type": "stream",
     "text": [
      "49\n"
     ]
    }
   ],
   "source": [
    "height = [1,8,6,2,5,4,8,3,7]\n",
    "l = 0\n",
    "r = len(height) - 1\n",
    "maxarea = 0\n",
    "while l < r:\n",
    "    #Area = length of shorter vertical line * distance between lines\n",
    "    #area = min(height[l], height[r]) * (r-l)\n",
    "    maxarea = max(maxarea,min(height[l], height[r]) * (r-l))\n",
    "    if height[l] < height[r]:\n",
    "        l += 1\n",
    "    else:\n",
    "        r -= 1\n",
    "print(maxarea)"
   ]
  },
  {
   "cell_type": "code",
   "execution_count": 3,
   "metadata": {},
   "outputs": [],
   "source": [
    "#Longest substring without repeating characters"
   ]
  },
  {
   "cell_type": "code",
   "execution_count": 51,
   "metadata": {},
   "outputs": [],
   "source": [
    "def longest_substring(s):\n",
    "    dic = {}\n",
    "    left = 0\n",
    "    right = 0\n",
    "    ans = 0\n",
    "    n = len(s)\n",
    "    while left < n and right < n:\n",
    "        element = s[right]\n",
    "        if element in dic:\n",
    "            left = max(left, dic[element] + 1)\n",
    "        dic[element] = right\n",
    "        ans = max(ans, right - left + 1)\n",
    "        right = right + 1\n",
    "        print(dic)\n",
    "        print('left = ',left)\n",
    "        print('right = ',right)\n",
    "        print('ans =',ans)\n",
    "    return ans"
   ]
  },
  {
   "cell_type": "code",
   "execution_count": 53,
   "metadata": {},
   "outputs": [],
   "source": [
    "#longest_substring('pwwkey')"
   ]
  },
  {
   "cell_type": "code",
   "execution_count": null,
   "metadata": {},
   "outputs": [],
   "source": []
  },
  {
   "cell_type": "code",
   "execution_count": 54,
   "metadata": {},
   "outputs": [],
   "source": [
    "#First and last position in list"
   ]
  },
  {
   "cell_type": "code",
   "execution_count": 2,
   "metadata": {},
   "outputs": [],
   "source": [
    "def binary_search_first(lst,key):\n",
    "    left = 0\n",
    "    right = len(lst)-1\n",
    "    while left <= right:\n",
    "        middle = (left+right)//2\n",
    "        if key == lst[middle]:\n",
    "            if middle == 0 or lst[middle-1] != key:\n",
    "                return middle\n",
    "            right = middle - 1\n",
    "        elif key < lst[middle]:\n",
    "            right = middle - 1\n",
    "        elif key > lst[middle]:\n",
    "            left = middle + 1\n",
    "    return -1\n",
    "def binary_search_second(lst,key):\n",
    "    left = 0\n",
    "    right = len(lst)-1\n",
    "    while left <= right:\n",
    "        middle = (left+right)//2\n",
    "        if key == lst[middle]:\n",
    "            if middle == len(lst)-1 or lst[middle+1] != key:\n",
    "                return middle\n",
    "            left = middle + 1\n",
    "        elif key < lst[middle]:\n",
    "            right = middle - 1\n",
    "        elif key > lst[middle]:\n",
    "            left = middle + 1\n",
    "    return -1\n",
    "def search_range(lst,key):\n",
    "    a = binary_search_first(lst,key)\n",
    "    b = binary_search_second(lst,key)\n",
    "    return [a,b]"
   ]
  },
  {
   "cell_type": "code",
   "execution_count": 6,
   "metadata": {},
   "outputs": [
    {
     "data": {
      "text/plain": [
       "[2, 5]"
      ]
     },
     "execution_count": 6,
     "metadata": {},
     "output_type": "execute_result"
    }
   ],
   "source": [
    "search_range([6,7,8,8,8,8],8)"
   ]
  },
  {
   "cell_type": "code",
   "execution_count": 7,
   "metadata": {},
   "outputs": [],
   "source": [
    "#First bad version in leetcode cuz the api was an inbuilt function"
   ]
  },
  {
   "cell_type": "code",
   "execution_count": 12,
   "metadata": {},
   "outputs": [],
   "source": [
    "#Math"
   ]
  },
  {
   "cell_type": "code",
   "execution_count": 54,
   "metadata": {},
   "outputs": [],
   "source": [
    "def missing_num(nums):\n",
    "    for i in range(0,max(nums)+2):\n",
    "        if i not in nums:\n",
    "            return i"
   ]
  },
  {
   "cell_type": "code",
   "execution_count": 55,
   "metadata": {},
   "outputs": [
    {
     "data": {
      "text/plain": [
       "0"
      ]
     },
     "execution_count": 55,
     "metadata": {},
     "output_type": "execute_result"
    }
   ],
   "source": [
    "missing_num([1])"
   ]
  },
  {
   "cell_type": "code",
   "execution_count": 52,
   "metadata": {},
   "outputs": [],
   "source": [
    "#faster method:\n",
    "def missing_num(nums):\n",
    "    current_sum = sum(nums)\n",
    "    n = len(nums)\n",
    "    total_sum = n*(n+1)/2\n",
    "    return int(total_sum - current_sum)"
   ]
  },
  {
   "cell_type": "code",
   "execution_count": 56,
   "metadata": {},
   "outputs": [
    {
     "data": {
      "text/plain": [
       "2"
      ]
     },
     "execution_count": 56,
     "metadata": {},
     "output_type": "execute_result"
    }
   ],
   "source": [
    "missing_num([0,1])"
   ]
  },
  {
   "cell_type": "code",
   "execution_count": 57,
   "metadata": {},
   "outputs": [],
   "source": [
    "#Count primes"
   ]
  },
  {
   "cell_type": "code",
   "execution_count": 72,
   "metadata": {},
   "outputs": [],
   "source": [
    "#Never use this method again. Shit is slow af\n",
    "def count_primes(n):\n",
    "    lst = []\n",
    "    for num in range(2,n):\n",
    "        for indexx in range(2,num):\n",
    "            if num%indexx == 0:\n",
    "                break\n",
    "        else:\n",
    "            lst.append(num)\n",
    "    return len(lst)"
   ]
  },
  {
   "cell_type": "code",
   "execution_count": 73,
   "metadata": {},
   "outputs": [
    {
     "data": {
      "text/plain": [
       "4"
      ]
     },
     "execution_count": 73,
     "metadata": {},
     "output_type": "execute_result"
    }
   ],
   "source": [
    "count_primes(10)"
   ]
  },
  {
   "cell_type": "code",
   "execution_count": 74,
   "metadata": {},
   "outputs": [],
   "source": [
    "#Faster method :-"
   ]
  },
  {
   "cell_type": "code",
   "execution_count": 75,
   "metadata": {},
   "outputs": [],
   "source": [
    "import math"
   ]
  },
  {
   "cell_type": "code",
   "execution_count": 93,
   "metadata": {},
   "outputs": [],
   "source": [
    "def count_primes(n):\n",
    "    if n<2:\n",
    "        return 0\n",
    "    isprime = [True]*n\n",
    "    isprime[0] = isprime[1] = False\n",
    "    for i in range(2,int(math.ceil(math.sqrt(n)))):\n",
    "        print('i = ',i)\n",
    "        if isprime[i] == True:\n",
    "            for multiples_of_i in range(i*i,n,i):\n",
    "                print('multiples = ',multiples_of_i)\n",
    "                isprime[multiples_of_i] = False\n",
    "    return sum(isprime)"
   ]
  },
  {
   "cell_type": "code",
   "execution_count": 115,
   "metadata": {},
   "outputs": [
    {
     "name": "stdout",
     "output_type": "stream",
     "text": [
      "i =  2\n",
      "multiples =  4\n",
      "multiples =  6\n",
      "multiples =  8\n",
      "i =  3\n",
      "multiples =  9\n"
     ]
    },
    {
     "data": {
      "text/plain": [
       "4"
      ]
     },
     "execution_count": 115,
     "metadata": {},
     "output_type": "execute_result"
    }
   ],
   "source": [
    "count_primes(10)"
   ]
  },
  {
   "cell_type": "code",
   "execution_count": 117,
   "metadata": {},
   "outputs": [],
   "source": [
    "#Single number"
   ]
  },
  {
   "cell_type": "code",
   "execution_count": 126,
   "metadata": {},
   "outputs": [],
   "source": [
    "lst = [4,1,2,1,2]"
   ]
  },
  {
   "cell_type": "code",
   "execution_count": 127,
   "metadata": {},
   "outputs": [
    {
     "name": "stdout",
     "output_type": "stream",
     "text": [
      "4\n"
     ]
    }
   ],
   "source": [
    "for i in lst:\n",
    "    if lst.count(i) < 2:\n",
    "        print(i)"
   ]
  },
  {
   "cell_type": "code",
   "execution_count": 128,
   "metadata": {},
   "outputs": [],
   "source": [
    "#Faster:"
   ]
  },
  {
   "cell_type": "code",
   "execution_count": 130,
   "metadata": {},
   "outputs": [
    {
     "name": "stdout",
     "output_type": "stream",
     "text": [
      "4\n"
     ]
    }
   ],
   "source": [
    "print(2*sum(set(lst)) - sum(lst))"
   ]
  },
  {
   "cell_type": "code",
   "execution_count": 131,
   "metadata": {},
   "outputs": [],
   "source": [
    "#Robot moves"
   ]
  },
  {
   "cell_type": "code",
   "execution_count": 177,
   "metadata": {},
   "outputs": [
    {
     "name": "stdout",
     "output_type": "stream",
     "text": [
      "True\n"
     ]
    }
   ],
   "source": [
    "#UP, LEFT, RIGHT, DOWN\n",
    "position = [0,0,0,0]\n",
    "moves = \"LLRR\"\n",
    "for i in moves:\n",
    "    if i == 'U':\n",
    "        position[0] += 1\n",
    "        position[3] -= 1\n",
    "    elif i == 'L':\n",
    "        position[1] += 1\n",
    "        position[2] -= 1\n",
    "    elif i == 'R':\n",
    "        position[2] += 1\n",
    "        position[1] -= 1\n",
    "    elif i == 'D':\n",
    "        position[3] += 1\n",
    "        position[0] -= 1\n",
    "print(position == [0,0,0,0])\n",
    "\n",
    "#FASTER = return moves.count('L') == moves.count('R') and moves.count('U') == moves.count('D')"
   ]
  },
  {
   "cell_type": "code",
   "execution_count": 178,
   "metadata": {},
   "outputs": [],
   "source": [
    "#add binary"
   ]
  },
  {
   "cell_type": "code",
   "execution_count": 18,
   "metadata": {},
   "outputs": [],
   "source": [
    "def addBinary(a, b):\n",
    "    result = []\n",
    "    carry = 0\n",
    "    i = len(a)-1\n",
    "    j = len(b)-1\n",
    "    while i >= 0 or j >= 0 or carry:\n",
    "        total = carry\n",
    "        if i >= 0:\n",
    "            total += int(a[i])\n",
    "            i -= 1\n",
    "        if j >= 0:\n",
    "            total += int(b[j])\n",
    "            j -= 1\n",
    "        result.append(str(total % 2))\n",
    "        carry = total//2\n",
    "    return ''.join(reversed(result))"
   ]
  },
  {
   "cell_type": "code",
   "execution_count": 20,
   "metadata": {},
   "outputs": [
    {
     "data": {
      "text/plain": [
       "'10101'"
      ]
     },
     "execution_count": 20,
     "metadata": {},
     "output_type": "execute_result"
    }
   ],
   "source": [
    "addBinary('1010','1011')"
   ]
  },
  {
   "cell_type": "code",
   "execution_count": 22,
   "metadata": {},
   "outputs": [],
   "source": [
    "#Singly Linked list easier Syntax"
   ]
  },
  {
   "cell_type": "code",
   "execution_count": 1,
   "metadata": {},
   "outputs": [],
   "source": [
    "class Node:\n",
    "    def __init__(self, data):\n",
    "        self.data = data\n",
    "        self.next = None\n",
    "class LinkedList:\n",
    "    def __init__(self):\n",
    "        self.head = None\n",
    "    def printList(self):\n",
    "        temp = self.head\n",
    "        linked_list = \"\"\n",
    "        while(temp):\n",
    "            linked_list += (str(temp.data) + \" \")\n",
    "            temp = temp.next\n",
    "        print(linked_list)\n",
    "    def insertNode(self, val, pos):\n",
    "        target = Node(val)\n",
    "        if(pos == 0):\n",
    "            target.next = self.head\n",
    "            self.head = target\n",
    "            return\n",
    "        def getPrev(pos):\n",
    "            temp = self.head\n",
    "            count = 1\n",
    "            while(count < pos):\n",
    "                temp = temp.next\n",
    "                count += 1\n",
    "            return temp\n",
    "        prev = getPrev(pos)\n",
    "        nextNode = prev.next\n",
    "        prev.next = target\n",
    "        target.next = nextNode\n",
    "    def deleteNode(self, key):\n",
    "        temp = self.head\n",
    "        if(temp is None):\n",
    "            return\n",
    "        if(temp.data == key):\n",
    "            self.head = temp.next\n",
    "            temp = None\n",
    "            return\n",
    "        while(temp.next.data != key):\n",
    "            temp = temp.next\n",
    "        target_node = temp.next\n",
    "        temp.next = target_node.next\n",
    "        target_node.next = None"
   ]
  },
  {
   "cell_type": "code",
   "execution_count": 32,
   "metadata": {},
   "outputs": [],
   "source": [
    "l = LinkedList()"
   ]
  },
  {
   "cell_type": "code",
   "execution_count": 33,
   "metadata": {},
   "outputs": [],
   "source": [
    "l.insertNode(10,0)\n",
    "l.insertNode(12,1)\n",
    "l.insertNode(14,2)\n",
    "l.insertNode(16,3)\n",
    "l.insertNode(18,4)"
   ]
  },
  {
   "cell_type": "code",
   "execution_count": 34,
   "metadata": {},
   "outputs": [
    {
     "name": "stdout",
     "output_type": "stream",
     "text": [
      "10 12 14 16 18 \n"
     ]
    }
   ],
   "source": [
    "l.printList()"
   ]
  },
  {
   "cell_type": "code",
   "execution_count": 37,
   "metadata": {},
   "outputs": [],
   "source": [
    "l.deleteNode(16)"
   ]
  },
  {
   "cell_type": "code",
   "execution_count": 56,
   "metadata": {},
   "outputs": [
    {
     "name": "stdout",
     "output_type": "stream",
     "text": [
      "10 12 14 18 \n"
     ]
    }
   ],
   "source": [
    "l.printList()"
   ]
  },
  {
   "cell_type": "code",
   "execution_count": 39,
   "metadata": {},
   "outputs": [],
   "source": [
    "#Linked list problems :-"
   ]
  },
  {
   "cell_type": "code",
   "execution_count": 20,
   "metadata": {},
   "outputs": [],
   "source": [
    "#Will understand this shitty one later"
   ]
  },
  {
   "cell_type": "code",
   "execution_count": 31,
   "metadata": {},
   "outputs": [
    {
     "data": {
      "text/plain": [
       "100"
      ]
     },
     "execution_count": 31,
     "metadata": {},
     "output_type": "execute_result"
    }
   ],
   "source": [
    "int('1100100',2)"
   ]
  },
  {
   "cell_type": "code",
   "execution_count": null,
   "metadata": {},
   "outputs": [],
   "source": [
    "s = ''\n",
    "while head:\n",
    "    s += str(head.val)\n",
    "    head = head.next\n",
    "return int(s, 2)"
   ]
  },
  {
   "cell_type": "code",
   "execution_count": null,
   "metadata": {},
   "outputs": [],
   "source": []
  },
  {
   "cell_type": "code",
   "execution_count": null,
   "metadata": {},
   "outputs": [],
   "source": []
  },
  {
   "cell_type": "code",
   "execution_count": null,
   "metadata": {},
   "outputs": [],
   "source": []
  },
  {
   "cell_type": "code",
   "execution_count": null,
   "metadata": {},
   "outputs": [],
   "source": []
  }
 ],
 "metadata": {
  "kernelspec": {
   "display_name": "Python 3",
   "language": "python",
   "name": "python3"
  },
  "language_info": {
   "codemirror_mode": {
    "name": "ipython",
    "version": 3
   },
   "file_extension": ".py",
   "mimetype": "text/x-python",
   "name": "python",
   "nbconvert_exporter": "python",
   "pygments_lexer": "ipython3",
   "version": "3.7.6"
  }
 },
 "nbformat": 4,
 "nbformat_minor": 4
}
