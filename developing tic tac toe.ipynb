{
 "cells": [
  {
   "cell_type": "code",
   "execution_count": 1,
   "metadata": {},
   "outputs": [],
   "source": [
    "#check if input is a number \n",
    "value = '15'"
   ]
  },
  {
   "cell_type": "code",
   "execution_count": 2,
   "metadata": {},
   "outputs": [
    {
     "data": {
      "text/plain": [
       "True"
      ]
     },
     "execution_count": 2,
     "metadata": {},
     "output_type": "execute_result"
    }
   ],
   "source": [
    "value.isdigit()"
   ]
  },
  {
   "cell_type": "code",
   "execution_count": 3,
   "metadata": {},
   "outputs": [
    {
     "data": {
      "text/plain": [
       "15"
      ]
     },
     "execution_count": 3,
     "metadata": {},
     "output_type": "execute_result"
    }
   ],
   "source": [
    "#convert to integer\n",
    "int(value)"
   ]
  },
  {
   "cell_type": "code",
   "execution_count": 4,
   "metadata": {},
   "outputs": [],
   "source": [
    "#checking user's input to see if it matches the conditions\n",
    "def enter_a_number():\n",
    "    entered_number ='WRONG'\n",
    "    within_range = False\n",
    "    while entered_number.isdigit() == False or within_range == False:\n",
    "        entered_number = input(\"Please enter a number (0-10): \")\n",
    "        if entered_number.isdigit() == False:\n",
    "            print(\"*Sorry that is not a digit!*\")\n",
    "        if entered_number.isdigit() == True:\n",
    "            if int(entered_number) in range(0,10):\n",
    "                within_range = True\n",
    "            else:\n",
    "                print('*Sorry that number is not in the range(0-10)*')\n",
    "                within_range = False\n",
    "    return int(entered_number)"
   ]
  },
  {
   "cell_type": "code",
   "execution_count": 6,
   "metadata": {},
   "outputs": [
    {
     "name": "stdout",
     "output_type": "stream",
     "text": [
      "Please enter a number (0-10): nine\n",
      "*Sorry that is not a digit!*\n",
      "Please enter a number (0-10): 99\n",
      "*Sorry that number is not in the range(0-10)*\n",
      "Please enter a number (0-10): 9\n"
     ]
    },
    {
     "data": {
      "text/plain": [
       "9"
      ]
     },
     "execution_count": 6,
     "metadata": {},
     "output_type": "execute_result"
    }
   ],
   "source": [
    "enter_a_number()"
   ]
  },
  {
   "cell_type": "code",
   "execution_count": 15,
   "metadata": {},
   "outputs": [],
   "source": [
    "#Easier way\n",
    "def enter_a_number():\n",
    "    entered_number ='WRONG'\n",
    "    while entered_number not in ['0','1','2','3','4','5','6','7','8','9','10']:\n",
    "        entered_number = input(\"Please enter a number (0-10): \")\n",
    "        if entered_number not in ['0','1','2','3','4','5','6','7','8','9','10']:\n",
    "            print('Please enter a valid number :')\n",
    "        else:\n",
    "            break\n",
    "    return int(entered_number)"
   ]
  },
  {
   "cell_type": "code",
   "execution_count": 16,
   "metadata": {},
   "outputs": [
    {
     "name": "stdout",
     "output_type": "stream",
     "text": [
      "Please enter a number (0-10): wer\n",
      "Please enter a valid number :\n",
      "Please enter a number (0-10): 23\n",
      "Please enter a valid number :\n",
      "Please enter a number (0-10): 2\n"
     ]
    },
    {
     "data": {
      "text/plain": [
       "2"
      ]
     },
     "execution_count": 16,
     "metadata": {},
     "output_type": "execute_result"
    }
   ],
   "source": [
    " enter_a_number()"
   ]
  },
  {
   "cell_type": "code",
   "execution_count": null,
   "metadata": {},
   "outputs": [],
   "source": [
    "#######################"
   ]
  },
  {
   "cell_type": "code",
   "execution_count": null,
   "metadata": {},
   "outputs": [],
   "source": [
    "#making a replacement game"
   ]
  },
  {
   "cell_type": "code",
   "execution_count": 30,
   "metadata": {},
   "outputs": [],
   "source": [
    "game_list = [0,1,2]"
   ]
  },
  {
   "cell_type": "code",
   "execution_count": 31,
   "metadata": {},
   "outputs": [],
   "source": [
    "def display_game():\n",
    "    print('Here is the current list :')\n",
    "    print(game_list)"
   ]
  },
  {
   "cell_type": "code",
   "execution_count": 32,
   "metadata": {},
   "outputs": [],
   "source": [
    "def position_choice():\n",
    "    choice = 'WRONG'\n",
    "    while choice not in ['0','1','2']:\n",
    "        choice= input('Pick a position (0,1,2) :')\n",
    "        if choice not in ['0','1','2']:\n",
    "            print('Please enter a valid number')\n",
    "    return int(choice)        "
   ]
  },
  {
   "cell_type": "code",
   "execution_count": 33,
   "metadata": {},
   "outputs": [],
   "source": [
    "def replacement_choice():\n",
    "    user_placement = input('Type a string to place at position :')\n",
    "    game_list[index] = user_placement\n",
    "    return game_list"
   ]
  },
  {
   "cell_type": "code",
   "execution_count": 36,
   "metadata": {},
   "outputs": [],
   "source": [
    "def gameon_choice():\n",
    "    choice = 'wrong'\n",
    "    while choice not in ['Y','N']:\n",
    "        choice = input('Do you want to keep playing the game? (Y or N)')\n",
    "        if choice not in ['Y','N']:\n",
    "            print('Please choose Y or N only')\n",
    "        elif choice == 'Y':\n",
    "            return True\n",
    "        elif choice == 'N':\n",
    "            return False"
   ]
  },
  {
   "cell_type": "code",
   "execution_count": 37,
   "metadata": {},
   "outputs": [
    {
     "name": "stdout",
     "output_type": "stream",
     "text": [
      "Here is the current list :\n",
      "[0, 1, 2]\n",
      "Pick a position (0,1,2) :1\n",
      "Type a string to place at position :1\n",
      "Here is the current list :\n",
      "[0, '1', 2]\n",
      "Do you want to keep playing the game? (Y or N)N\n"
     ]
    }
   ],
   "source": [
    "game_on = True\n",
    "game_list = [0,1,2]\n",
    "while game_on:\n",
    "    display_game()\n",
    "    index = position_choice()\n",
    "    game_list = replacement_choice()\n",
    "    display_game()\n",
    "    game_on = gameon_choice()"
   ]
  },
  {
   "cell_type": "code",
   "execution_count": null,
   "metadata": {},
   "outputs": [],
   "source": [
    "######################"
   ]
  },
  {
   "cell_type": "code",
   "execution_count": 36,
   "metadata": {},
   "outputs": [],
   "source": [
    "#guessing where the ball is"
   ]
  },
  {
   "cell_type": "code",
   "execution_count": 37,
   "metadata": {},
   "outputs": [],
   "source": [
    "from random import shuffle"
   ]
  },
  {
   "cell_type": "code",
   "execution_count": 38,
   "metadata": {},
   "outputs": [],
   "source": [
    "def shuffled_list(mylist):\n",
    "    shuffle(mylist)\n",
    "    return mylist"
   ]
  },
  {
   "cell_type": "code",
   "execution_count": 39,
   "metadata": {},
   "outputs": [],
   "source": [
    "def player_guess():\n",
    "    guess = 'Wrong'\n",
    "    while guess not in ['0','1','2']:\n",
    "        guess = input('Guess in which cup the ball might be (0,1 or 2) : ')\n",
    "        if guess not in ['0','1','2']:\n",
    "            print('Please enter a valid number')\n",
    "        else:\n",
    "            break\n",
    "    return int(guess)"
   ]
  },
  {
   "cell_type": "code",
   "execution_count": 40,
   "metadata": {},
   "outputs": [],
   "source": [
    "def check_guess(jumbled_list,guess):\n",
    "    if jumbled_list[guess] == '|O|':\n",
    "        print(jumbled_list)\n",
    "        print('*Yehe boi, you got that right*')\n",
    "    else:\n",
    "        print(jumbled_list)\n",
    "        print('*Wrong guess dawg*')"
   ]
  },
  {
   "cell_type": "code",
   "execution_count": 41,
   "metadata": {},
   "outputs": [],
   "source": [
    "def keep_playing():\n",
    "    continue_game = 'wrong'\n",
    "    while continue_game not in ['yes','no']:\n",
    "        continue_game = input('Do you want to play again? (yes or no) :')\n",
    "        if continue_game not in ['yes','no']:\n",
    "            print('Please select either yes or no')\n",
    "        elif continue_game == 'yes':\n",
    "            return 'Resume'\n",
    "        elif continue_game == 'no':\n",
    "            return 'Exit game'           "
   ]
  },
  {
   "cell_type": "code",
   "execution_count": null,
   "metadata": {},
   "outputs": [
    {
     "name": "stdout",
     "output_type": "stream",
     "text": [
      "Guess in which cup the ball might be (0,1 or 2) : 2\n",
      "['| |', '| |', '|O|']\n",
      "*Yehe boi, you got that right*\n",
      "Do you want to play again? (yes or no) :yes\n",
      "Guess in which cup the ball might be (0,1 or 2) : 1\n",
      "['| |', '|O|', '| |']\n",
      "*Yehe boi, you got that right*\n",
      "Do you want to play again? (yes or no) :yes\n",
      "Guess in which cup the ball might be (0,1 or 2) : 1\n",
      "['|O|', '| |', '| |']\n",
      "*Wrong guess dawg*\n",
      "Do you want to play again? (yes or no) :yes\n",
      "Guess in which cup the ball might be (0,1 or 2) : 2\n",
      "['|O|', '| |', '| |']\n",
      "*Wrong guess dawg*\n",
      "Do you want to play again? (yes or no) :yes\n",
      "Guess in which cup the ball might be (0,1 or 2) : 1\n",
      "['|O|', '| |', '| |']\n",
      "*Wrong guess dawg*\n",
      "Do you want to play again? (yes or no) :yes\n",
      "Guess in which cup the ball might be (0,1 or 2) : 0\n",
      "['|O|', '| |', '| |']\n",
      "*Yehe boi, you got that right*\n",
      "Do you want to play again? (yes or no) :yes\n",
      "Guess in which cup the ball might be (0,1 or 2) : 0\n",
      "['| |', '| |', '|O|']\n",
      "*Wrong guess dawg*\n",
      "Do you want to play again? (yes or no) :yes\n",
      "Guess in which cup the ball might be (0,1 or 2) : 1\n",
      "['| |', '| |', '|O|']\n",
      "*Wrong guess dawg*\n"
     ]
    }
   ],
   "source": [
    "game = 'Resume'\n",
    "mylist = ['| |','|O|','| |']\n",
    "while game == 'Resume':\n",
    "    jumbled_list = shuffled_list(mylist)\n",
    "    guess = player_guess()\n",
    "    check_guess(jumbled_list,guess)\n",
    "    game = keep_playing()"
   ]
  },
  {
   "cell_type": "code",
   "execution_count": 1,
   "metadata": {},
   "outputs": [],
   "source": [
    "#######################################################################################################"
   ]
  },
  {
   "cell_type": "code",
   "execution_count": 2,
   "metadata": {},
   "outputs": [],
   "source": [
    "#######################################################################################################"
   ]
  },
  {
   "cell_type": "code",
   "execution_count": 3,
   "metadata": {},
   "outputs": [],
   "source": [
    "#######################################################################################################"
   ]
  },
  {
   "cell_type": "code",
   "execution_count": 4,
   "metadata": {},
   "outputs": [],
   "source": [
    "#######################################################################################################"
   ]
  },
  {
   "cell_type": "code",
   "execution_count": 5,
   "metadata": {},
   "outputs": [],
   "source": [
    "# TIC TAC TOE"
   ]
  },
  {
   "cell_type": "code",
   "execution_count": 6,
   "metadata": {},
   "outputs": [],
   "source": [
    "#Step 1: Write a function that can print out a board. Set up your board as a list, where each index \n",
    "#1-9 corresponds with a number on a number pad, so you get a 3 by 3 board representation"
   ]
  },
  {
   "cell_type": "code",
   "execution_count": 78,
   "metadata": {},
   "outputs": [],
   "source": [
    "from IPython.display import clear_output\n",
    "def display_board(board):\n",
    "    clear_output()\n",
    "    print('   |   |')\n",
    "    print(' {a} | {b} | {c}'.format(a = board[1],b = board[2],c = board[3]))\n",
    "    print('   |   |')\n",
    "    print('___|___|___')\n",
    "    print('   |   |')\n",
    "    print(' {a} | {b} | {c}'.format(a = board[4],b = board[5],c = board[6]))\n",
    "    print('   |   |')\n",
    "    print('___|___|___')\n",
    "    print('   |   |')\n",
    "    print(' {a} | {b} | {c}'.format(a = board[7],b = board[8],c = board[9]))\n",
    "    print('   |   |')"
   ]
  },
  {
   "cell_type": "code",
   "execution_count": 13,
   "metadata": {
    "scrolled": true
   },
   "outputs": [],
   "source": [
    "board = [' ']*10"
   ]
  },
  {
   "cell_type": "code",
   "execution_count": 14,
   "metadata": {},
   "outputs": [
    {
     "name": "stdout",
     "output_type": "stream",
     "text": [
      "   |   |\n",
      "   |   |  \n",
      "   |   |\n",
      "___|___|___\n",
      "   |   |\n",
      "   |   |  \n",
      "   |   |\n",
      "___|___|___\n",
      "   |   |\n",
      "   |   |  \n",
      "   |   |\n"
     ]
    }
   ],
   "source": [
    "display_board(board)"
   ]
  },
  {
   "cell_type": "code",
   "execution_count": 15,
   "metadata": {},
   "outputs": [],
   "source": [
    "#Step 2: Write a function that can take in a player input and assign their marker as 'X' or 'O'. \n",
    "#Think about using while loops to continually ask until you get a correct answer.\n",
    "def player_input():\n",
    "    marker = 'Invalid'\n",
    "    while marker not in ['X','O']:\n",
    "        marker = input('player1 : Choose X or O - ').upper()\n",
    "        if marker not in ['X','O']:\n",
    "            print('Please choose X or O only')\n",
    "    player1 = marker\n",
    "    if player1 == 'X':\n",
    "        player2 = 'O'\n",
    "    elif player1 == 'O':\n",
    "        player2 = 'X'\n",
    "    return (player1,player2)\n",
    "    #return ('Player1 = {} and Player2 = {}'.format(player1,player2))    "
   ]
  },
  {
   "cell_type": "code",
   "execution_count": 16,
   "metadata": {},
   "outputs": [],
   "source": [
    "#player1_marker, player2_marker = player_input()"
   ]
  },
  {
   "cell_type": "code",
   "execution_count": 36,
   "metadata": {},
   "outputs": [],
   "source": [
    "#Step 3: Write a function that takes in the board list object, a marker ('X' or 'O'), and a desired\n",
    "#position (number 1-9) and assigns it to the board.\n",
    "def place_marker(board,marker,position):\n",
    "    board[position] = marker"
   ]
  },
  {
   "cell_type": "code",
   "execution_count": 37,
   "metadata": {},
   "outputs": [],
   "source": [
    "place_marker(board,' ',3 )"
   ]
  },
  {
   "cell_type": "code",
   "execution_count": 38,
   "metadata": {},
   "outputs": [
    {
     "name": "stdout",
     "output_type": "stream",
     "text": [
      "   |   |\n",
      "   |   |  \n",
      "   |   |\n",
      "___|___|___\n",
      "   |   |\n",
      "   |   |  \n",
      "   |   |\n",
      "___|___|___\n",
      "   |   |\n",
      "   |   |  \n",
      "   |   |\n"
     ]
    }
   ],
   "source": [
    "display_board(board)"
   ]
  },
  {
   "cell_type": "code",
   "execution_count": 20,
   "metadata": {},
   "outputs": [],
   "source": [
    "#Step 4: Write a function that takes in a board and a mark (X or O) and then checks to see if that \n",
    "#mark has won.\n",
    "def win_check(board, mark):\n",
    "    return ((board[1] == board[2] == board[3] == mark) or \n",
    "    (board[4] == board[5] == board[6] == mark) or\n",
    "    (board[7] == board[8] == board[9] == mark) or\n",
    "    (board[1] == board[4] == board[7] == mark) or\n",
    "    (board[2] == board[5] == board[8] == mark) or\n",
    "    (board[3] == board[6] == board[9] == mark) or\n",
    "    (board[1] == board[5] == board[9] == mark) or\n",
    "    (board[3] == board[5] == board[7] == mark))"
   ]
  },
  {
   "cell_type": "code",
   "execution_count": 21,
   "metadata": {},
   "outputs": [
    {
     "data": {
      "text/plain": [
       "False"
      ]
     },
     "execution_count": 21,
     "metadata": {},
     "output_type": "execute_result"
    }
   ],
   "source": [
    "win_check(board,'O')"
   ]
  },
  {
   "cell_type": "code",
   "execution_count": 22,
   "metadata": {},
   "outputs": [],
   "source": [
    "#Step 5: Write a function that uses the random module to randomly decide which player goes first.\n",
    "#You may want to lookup random.randint() Return a string of which player went first.\n",
    "import random\n",
    "def choose_first():\n",
    "    flip = random.randint(0,1)\n",
    "    if flip == 0:\n",
    "        return 'player1'\n",
    "    elif flip == 1:\n",
    "        return 'player2'   "
   ]
  },
  {
   "cell_type": "code",
   "execution_count": 23,
   "metadata": {},
   "outputs": [
    {
     "data": {
      "text/plain": [
       "'player1'"
      ]
     },
     "execution_count": 23,
     "metadata": {},
     "output_type": "execute_result"
    }
   ],
   "source": [
    "choose_first()"
   ]
  },
  {
   "cell_type": "code",
   "execution_count": 24,
   "metadata": {},
   "outputs": [],
   "source": [
    "#Step 6: Write a function that returns a boolean indicating whether a space on the board is freely \n",
    "#available.\n",
    "def space_check(board, position):\n",
    "    if board[position] == ' ':\n",
    "        return True\n",
    "    return False"
   ]
  },
  {
   "cell_type": "code",
   "execution_count": 25,
   "metadata": {},
   "outputs": [
    {
     "data": {
      "text/plain": [
       "True"
      ]
     },
     "execution_count": 25,
     "metadata": {},
     "output_type": "execute_result"
    }
   ],
   "source": [
    "space_check(board, 1)"
   ]
  },
  {
   "cell_type": "code",
   "execution_count": 26,
   "metadata": {},
   "outputs": [],
   "source": [
    "#Step 7: Write a function that checks if the board is full and returns a boolean value. True if full, \n",
    "#False otherwise.    "
   ]
  },
  {
   "cell_type": "code",
   "execution_count": 27,
   "metadata": {},
   "outputs": [],
   "source": [
    "def full_board_check(board):\n",
    "    for i in range(1,10):\n",
    "        if space_check(board, i) == True:\n",
    "            return False\n",
    "    #board is full\n",
    "    return True"
   ]
  },
  {
   "cell_type": "code",
   "execution_count": 28,
   "metadata": {},
   "outputs": [
    {
     "data": {
      "text/plain": [
       "False"
      ]
     },
     "execution_count": 28,
     "metadata": {},
     "output_type": "execute_result"
    }
   ],
   "source": [
    "full_board_check(board)"
   ]
  },
  {
   "cell_type": "code",
   "execution_count": 29,
   "metadata": {},
   "outputs": [],
   "source": [
    "#Step 8: Write a function that asks for a player's next position (as a number 1-9) and then uses the \n",
    "#function from step 6 to check if its a free position. If it is, then return the position for later \n",
    "#use."
   ]
  },
  {
   "cell_type": "code",
   "execution_count": 72,
   "metadata": {},
   "outputs": [],
   "source": [
    "def player_choice(board):\n",
    "    position = 0\n",
    "    while position not in [1,2,3,4,5,6,7,8,9] or not space_check(board,position):\n",
    "        position = int(input('Choose a position (1-9): '))\n",
    "    return position"
   ]
  },
  {
   "cell_type": "code",
   "execution_count": 48,
   "metadata": {},
   "outputs": [],
   "source": [
    "#player_choice(board)"
   ]
  },
  {
   "cell_type": "code",
   "execution_count": 42,
   "metadata": {},
   "outputs": [],
   "source": [
    "#Step 9: Write a function that asks the player if they want to play again and returns a boolean True \n",
    "#if they do want to play again."
   ]
  },
  {
   "cell_type": "code",
   "execution_count": 43,
   "metadata": {},
   "outputs": [],
   "source": [
    "def keep_playing():\n",
    "    continue_game = 'wrong'\n",
    "    while continue_game not in ['yes','no']:\n",
    "        continue_game = input('Do you want to play again? (yes or no) :')\n",
    "        if continue_game not in ['yes','no']:\n",
    "            print('Please select either yes or no')\n",
    "        elif continue_game == 'yes':\n",
    "            return 'Resume'\n",
    "        elif continue_game == 'no':\n",
    "            return 'Exit game'           "
   ]
  },
  {
   "cell_type": "code",
   "execution_count": 44,
   "metadata": {},
   "outputs": [],
   "source": [
    "#Step 10: Here comes the hard part! Use while loops and the functions you've made to run the game!"
   ]
  },
  {
   "cell_type": "code",
   "execution_count": 77,
   "metadata": {},
   "outputs": [
    {
     "name": "stdout",
     "output_type": "stream",
     "text": [
      "Welcome to Tic Tac Toe!\n",
      "player1 : Choose X or O - x\n",
      "*player2 will go first*\n",
      "Do you want to start the game? (Y or N)y\n",
      "   |   |\n",
      "   |   |  \n",
      "   |   |\n",
      "___|___|___\n",
      "   |   |\n",
      "   |   |  \n",
      "   |   |\n",
      "___|___|___\n",
      "   |   |\n",
      "   |   |  \n",
      "   |   |\n",
      "Choose a position (1-9): 5\n",
      "   |   |\n",
      "   |   |  \n",
      "   |   |\n",
      "___|___|___\n",
      "   |   |\n",
      "   | O |  \n",
      "   |   |\n",
      "___|___|___\n",
      "   |   |\n",
      "   |   |  \n",
      "   |   |\n",
      "Choose a position (1-9): 1\n",
      "   |   |\n",
      " X |   |  \n",
      "   |   |\n",
      "___|___|___\n",
      "   |   |\n",
      "   | O |  \n",
      "   |   |\n",
      "___|___|___\n",
      "   |   |\n",
      "   |   |  \n",
      "   |   |\n",
      "Choose a position (1-9): 6\n",
      "   |   |\n",
      " X |   |  \n",
      "   |   |\n",
      "___|___|___\n",
      "   |   |\n",
      "   | O | O\n",
      "   |   |\n",
      "___|___|___\n",
      "   |   |\n",
      "   |   |  \n",
      "   |   |\n",
      "Choose a position (1-9): 2\n",
      "   |   |\n",
      " X | X |  \n",
      "   |   |\n",
      "___|___|___\n",
      "   |   |\n",
      "   | O | O\n",
      "   |   |\n",
      "___|___|___\n",
      "   |   |\n",
      "   |   |  \n",
      "   |   |\n",
      "Choose a position (1-9): 4\n",
      "   |   |\n",
      " X | X |  \n",
      "   |   |\n",
      "___|___|___\n",
      "   |   |\n",
      " O | O | O\n",
      "   |   |\n",
      "___|___|___\n",
      "   |   |\n",
      "   |   |  \n",
      "   |   |\n",
      "PLAYER2 HAS WON THE GAME\n",
      "Do you want to play again? (yes or no) :no\n"
     ]
    }
   ],
   "source": [
    "print('Welcome to Tic Tac Toe!')\n",
    "\n",
    "#WHILE LOOP TO KEEP THE GAME RUNNING \n",
    "\n",
    "while True:\n",
    "\n",
    "    #PLAY THE GAME\n",
    "    #FIRST WE SET EVERYTHING UP :-\n",
    "    #1)BOARD \n",
    "    the_board = [' ']*10\n",
    "    #2)CHOOSE MARKERS(X or O)\n",
    "    player1_marker, player2_marker = player_input()\n",
    "    #3)WHO'S TURN IS FIRST\n",
    "    turn = choose_first()\n",
    "    print('*{} will go first*'.format(turn))\n",
    "    ready = input('Do you want to start the game? (Y or N)').upper()\n",
    "    if ready == 'Y':\n",
    "        game_on = True\n",
    "    elif ready == 'N':\n",
    "        game_on = False\n",
    "    \n",
    "    #GAMEPLAY\n",
    "\n",
    "    while game_on == True:\n",
    "\n",
    "    #TURN OF PLAYER1\n",
    "\n",
    "        if turn == 'player1':            \n",
    "            #SHOW THE BOARD\n",
    "            display_board(the_board)\n",
    "            #CHOOSE A POSITION\n",
    "            position = player_choice(the_board)\n",
    "            #PLACE THE MARKER\n",
    "            place_marker(the_board,player1_marker,position)\n",
    "            \n",
    "            #CHECK IF THE PLAYER WON\n",
    "            \n",
    "            if win_check(the_board, player1_marker) == True:\n",
    "                display_board(the_board)\n",
    "                print('PLAYER1 HAS WON THE GAME')\n",
    "                game_on = False\n",
    "\n",
    "            #OR CHECK IF THERE IS A TIE\n",
    "\n",
    "            elif full_board_check(the_board)== True:\n",
    "                display_board(the_board)\n",
    "                print(\"IT'S A TIE\")\n",
    "                game_on = False\n",
    "\n",
    "                #OR PASS ON THE TURN\n",
    "\n",
    "            else:\n",
    "                turn = 'player2'\n",
    "\n",
    "        #TURN OF PLAYER 2 \n",
    "\n",
    "        elif turn == 'player2':\n",
    "            #SHOW THE BOARD\n",
    "            display_board(the_board)\n",
    "            #CHOOSE A POSITION\n",
    "            position =  player_choice(the_board)\n",
    "            #PLACE THE MARKER\n",
    "            place_marker(the_board,player2_marker,position)\n",
    "            \n",
    "            #CHECK IF THE PLAYER WON\n",
    "            \n",
    "            if win_check(the_board, player2_marker) == True:\n",
    "                display_board(the_board)\n",
    "                print('PLAYER2 HAS WON THE GAME')\n",
    "                game_on = False\n",
    "            \n",
    "            #OR CHECK IF THERE IS A TIE\n",
    "            \n",
    "            elif full_board_check(the_board)== True:\n",
    "                display_board(the_board)\n",
    "                print(\"IT'S A TIE\")\n",
    "            else:\n",
    "                turn = 'player1'\n",
    "    if keep_playing() == 'Exit game':\n",
    "        break"
   ]
  },
  {
   "cell_type": "code",
   "execution_count": null,
   "metadata": {},
   "outputs": [],
   "source": []
  },
  {
   "cell_type": "code",
   "execution_count": null,
   "metadata": {},
   "outputs": [],
   "source": []
  },
  {
   "cell_type": "code",
   "execution_count": null,
   "metadata": {},
   "outputs": [],
   "source": []
  },
  {
   "cell_type": "code",
   "execution_count": null,
   "metadata": {},
   "outputs": [],
   "source": []
  },
  {
   "cell_type": "code",
   "execution_count": null,
   "metadata": {},
   "outputs": [],
   "source": []
  },
  {
   "cell_type": "code",
   "execution_count": null,
   "metadata": {},
   "outputs": [],
   "source": []
  },
  {
   "cell_type": "code",
   "execution_count": null,
   "metadata": {},
   "outputs": [],
   "source": []
  },
  {
   "cell_type": "code",
   "execution_count": null,
   "metadata": {},
   "outputs": [],
   "source": []
  },
  {
   "cell_type": "code",
   "execution_count": null,
   "metadata": {},
   "outputs": [],
   "source": []
  },
  {
   "cell_type": "code",
   "execution_count": null,
   "metadata": {},
   "outputs": [],
   "source": []
  },
  {
   "cell_type": "code",
   "execution_count": null,
   "metadata": {},
   "outputs": [],
   "source": []
  },
  {
   "cell_type": "code",
   "execution_count": null,
   "metadata": {},
   "outputs": [],
   "source": []
  },
  {
   "cell_type": "code",
   "execution_count": null,
   "metadata": {},
   "outputs": [],
   "source": []
  },
  {
   "cell_type": "code",
   "execution_count": null,
   "metadata": {},
   "outputs": [],
   "source": []
  },
  {
   "cell_type": "code",
   "execution_count": null,
   "metadata": {},
   "outputs": [],
   "source": []
  },
  {
   "cell_type": "code",
   "execution_count": null,
   "metadata": {},
   "outputs": [],
   "source": []
  },
  {
   "cell_type": "code",
   "execution_count": null,
   "metadata": {},
   "outputs": [],
   "source": []
  },
  {
   "cell_type": "code",
   "execution_count": null,
   "metadata": {},
   "outputs": [],
   "source": []
  },
  {
   "cell_type": "code",
   "execution_count": null,
   "metadata": {},
   "outputs": [],
   "source": []
  }
 ],
 "metadata": {
  "kernelspec": {
   "display_name": "Python 3",
   "language": "python",
   "name": "python3"
  },
  "language_info": {
   "codemirror_mode": {
    "name": "ipython",
    "version": 3
   },
   "file_extension": ".py",
   "mimetype": "text/x-python",
   "name": "python",
   "nbconvert_exporter": "python",
   "pygments_lexer": "ipython3",
   "version": "3.7.6"
  }
 },
 "nbformat": 4,
 "nbformat_minor": 4
}
