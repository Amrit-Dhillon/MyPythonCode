{
 "cells": [
  {
   "cell_type": "code",
   "execution_count": 1,
   "metadata": {},
   "outputs": [],
   "source": [
    "#Take values of length and breadth of a rectangle from user and check if it is square or not."
   ]
  },
  {
   "cell_type": "code",
   "execution_count": 7,
   "metadata": {},
   "outputs": [],
   "source": [
    "length = 10\n",
    "breadth = 10"
   ]
  },
  {
   "cell_type": "code",
   "execution_count": 8,
   "metadata": {},
   "outputs": [
    {
     "name": "stdout",
     "output_type": "stream",
     "text": [
      "no,its not a rectangle\n"
     ]
    }
   ],
   "source": [
    "if length == breadth:\n",
    "    print('no,its not a rectangle')\n",
    "else:\n",
    "    print('yupp,its a rectangle')"
   ]
  },
  {
   "cell_type": "code",
   "execution_count": 9,
   "metadata": {},
   "outputs": [],
   "source": [
    "#Take two int values from user and print greatest among them."
   ]
  },
  {
   "cell_type": "code",
   "execution_count": 15,
   "metadata": {},
   "outputs": [],
   "source": [
    "a=14\n",
    "b=1678"
   ]
  },
  {
   "cell_type": "code",
   "execution_count": 16,
   "metadata": {},
   "outputs": [
    {
     "name": "stdout",
     "output_type": "stream",
     "text": [
      "1678\n"
     ]
    }
   ],
   "source": [
    "if a>b:\n",
    "    print(a)\n",
    "elif a<b:\n",
    "    print(b)"
   ]
  },
  {
   "cell_type": "code",
   "execution_count": null,
   "metadata": {},
   "outputs": [],
   "source": [
    "A shop will give discount of 10% if the cost of purchased quantity is \n",
    "more than 1000.\n",
    "Ask user for quantity\n",
    "Suppose, one unit will cost 100.\n",
    "Judge and print total cost for user."
   ]
  },
  {
   "cell_type": "code",
   "execution_count": 30,
   "metadata": {},
   "outputs": [
    {
     "name": "stdout",
     "output_type": "stream",
     "text": [
      "Total cost without discount is 900\n"
     ]
    }
   ],
   "source": [
    "unit_cost = 100\n",
    "quantity = 9\n",
    "total_cost = unit_cost*quantity\n",
    "discounted_cost = total_cost-total_cost*10/100\n",
    "if total_cost>1000:\n",
    "    print('Total cost after discount is {}'.format(discounted_cost))\n",
    "else:\n",
    "    print('Total cost without discount is {}'.format(total_cost))\n",
    "    "
   ]
  },
  {
   "cell_type": "code",
   "execution_count": null,
   "metadata": {},
   "outputs": [],
   "source": [
    "A company decided to give bonus of 5% to employee if his/her year of service is more than 5 years.\n",
    "Ask user for their salary and year of service and print the net bonus amount."
   ]
  },
  {
   "cell_type": "code",
   "execution_count": 38,
   "metadata": {},
   "outputs": [
    {
     "name": "stdout",
     "output_type": "stream",
     "text": [
      "Total salary with bonus is 141750.0\n"
     ]
    }
   ],
   "source": [
    "salary= 135000\n",
    "years = 7\n",
    "bonus = salary+salary*5/100\n",
    "if years>5:\n",
    "    print('Total salary with bonus is {}'.format(bonus))\n",
    "else:\n",
    "    print('Total salary without bonus is {}'.format(salary))"
   ]
  },
  {
   "cell_type": "code",
   "execution_count": null,
   "metadata": {},
   "outputs": [],
   "source": [
    "A school has following rules for grading system:\n",
    "a. Below 25 - F\n",
    "b. 25 to 45 - E\n",
    "c. 45 to 50 - D\n",
    "d. 50 to 60 - C\n",
    "e. 60 to 80 - B\n",
    "f. Above 80 - A\n",
    "Ask user to enter marks and print the corresponding grade.\n"
   ]
  },
  {
   "cell_type": "code",
   "execution_count": 68,
   "metadata": {},
   "outputs": [
    {
     "name": "stdout",
     "output_type": "stream",
     "text": [
      "B\n"
     ]
    }
   ],
   "source": [
    "marks = 60\n",
    "if marks <= 25:\n",
    "    print('F')\n",
    "elif marks >= 25 and marks < 45:\n",
    "    print('E')\n",
    "elif marks >= 45 and marks < 50:\n",
    "    print('D')\n",
    "elif marks >= 50 and marks < 60:\n",
    "    print('C')\n",
    "elif marks >= 60 and marks < 80:\n",
    "    print('B')\n",
    "else:\n",
    "    print('A')"
   ]
  },
  {
   "cell_type": "code",
   "execution_count": null,
   "metadata": {},
   "outputs": [],
   "source": [
    "Take input of age of 3 people by user and determine oldest and youngest among them."
   ]
  },
  {
   "cell_type": "code",
   "execution_count": 3,
   "metadata": {},
   "outputs": [
    {
     "name": "stdout",
     "output_type": "stream",
     "text": [
      "gagan is the oldest at 47278435656748326578 years of age\n",
      "vishaw is the youngest at 43825673426523474657 years of age\n"
     ]
    }
   ],
   "source": [
    "amrit = 46359876324578634985\n",
    "gagan = 47278435656748326578\n",
    "vishaw= 43825673426523474657\n",
    "if amrit>gagan and amrit>vishaw:\n",
    "    print('amrit is the oldest at {} years of age'.format(amrit))\n",
    "elif gagan>amrit and gagan>vishaw:\n",
    "    print('gagan is the oldest at {} years of age'.format(gagan))\n",
    "elif vishaw>amrit and vishaw>gagan:\n",
    "    print('vishaw is the oldest at {} years of age \\nand'.format(vishaw))\n",
    "else:\n",
    "    print('all are equal')\n",
    "if amrit<gagan and amrit<vishaw:\n",
    "    print('amrit is the youngest  at {} years of age'.format(amrit))\n",
    "elif gagan<amrit and gagan<vishaw:\n",
    "    print('gagan is the youngest  at {} years of age'.format(gagan))\n",
    "elif vishaw<amrit and vishaw<gagan:\n",
    "    print('vishaw is the youngest at {} years of age'.format(vishaw))"
   ]
  },
  {
   "cell_type": "code",
   "execution_count": null,
   "metadata": {},
   "outputs": [],
   "source": [
    "A student will not be allowed to sit in exam if his/her attendence is less than 75%.\n",
    "Take following input from user\n",
    "Number of classes held\n",
    "Number of classes attended.\n",
    "And print\n",
    "percentage of class attended\n",
    "Is student is allowed to sit in exam or not"
   ]
  },
  {
   "cell_type": "code",
   "execution_count": 12,
   "metadata": {},
   "outputs": [
    {
     "name": "stdout",
     "output_type": "stream",
     "text": [
      "with 72.0%,this kid will not sit in the exam\n"
     ]
    }
   ],
   "source": [
    "number_of_classes_held = 100\n",
    "number_of_classes_attended = 72\n",
    "percentage_of_class_attended = number_of_classes_attended/number_of_classes_held*100\n",
    "if percentage_of_class_attended>=75:\n",
    "    print('with {}%,this kid will sit in the exam'.format(percentage_of_class_attended))\n",
    "else:\n",
    "    print('with {}%,this kid will not sit in the exam'.format(percentage_of_class_attended))"
   ]
  },
  {
   "cell_type": "code",
   "execution_count": null,
   "metadata": {},
   "outputs": [],
   "source": [
    "Write a program to check if a year is leap year or not.\n",
    "If a year is divisible by 4 then it is leap year but if the year is century year \n",
    "like 2000, 1900, 2100 then it must be divisible by 400."
   ]
  },
  {
   "cell_type": "code",
   "execution_count": 44,
   "metadata": {},
   "outputs": [
    {
     "name": "stdout",
     "output_type": "stream",
     "text": [
      "2020 is a leap year\n"
     ]
    }
   ],
   "source": [
    "year = 2020\n",
    "if year%4==0:\n",
    "    print('{} is a leap year'.format(year))\n",
    "else:\n",
    "    print('{} is not a leap year'.format(year))"
   ]
  },
  {
   "cell_type": "code",
   "execution_count": null,
   "metadata": {},
   "outputs": [],
   "source": [
    "Ask user to enter age, sex ( M or F ), marital status ( Y or N ) and then using following rules \n",
    "print their place of service.\n",
    "if employee is female, then she will work only in urban areas.\n",
    "\n",
    "if employee is a male and age is in between 20 to 40 then he may work in anywhere\n",
    "\n",
    "if employee is male and age is in between 40 t0 60 then he will work in urban areas only.\n",
    "\n",
    "And any other input of age should print \"ERROR\""
   ]
  },
  {
   "cell_type": "code",
   "execution_count": 61,
   "metadata": {},
   "outputs": [
    {
     "name": "stdout",
     "output_type": "stream",
     "text": [
      "he may work anywhere\n"
     ]
    }
   ],
   "source": [
    "age = 40\n",
    "sex = 'M'\n",
    "marital_status = 'N'\n",
    "if sex == 'F':\n",
    "    print ('she will only work in urban areas')\n",
    "elif sex == 'M' and age>=20 and age<=40:\n",
    "    print('he may work anywhere')\n",
    "elif sex == 'M' and age>=40 and age<=60: \n",
    "    print('he will work in urban areas only.')\n",
    "else:\n",
    "    print('\"ERROR\"')"
   ]
  },
  {
   "cell_type": "code",
   "execution_count": null,
   "metadata": {},
   "outputs": [],
   "source": [
    "A 4 digit number is entered through keyboard. Write a program to print a new number with digits\n",
    "reversed as of orignal one. E.g.-\n",
    "INPUT : 1234        OUTPUT : 4321\n",
    "INPUT : 5982        OUTPUT : 2895"
   ]
  },
  {
   "cell_type": "code",
   "execution_count": 73,
   "metadata": {},
   "outputs": [],
   "source": [
    "x = '7566'"
   ]
  },
  {
   "cell_type": "code",
   "execution_count": 74,
   "metadata": {},
   "outputs": [
    {
     "data": {
      "text/plain": [
       "'6657'"
      ]
     },
     "execution_count": 74,
     "metadata": {},
     "output_type": "execute_result"
    }
   ],
   "source": [
    "x[::-1]"
   ]
  },
  {
   "cell_type": "code",
   "execution_count": null,
   "metadata": {},
   "outputs": [],
   "source": []
  }
 ],
 "metadata": {
  "kernelspec": {
   "display_name": "Python 3",
   "language": "python",
   "name": "python3"
  },
  "language_info": {
   "codemirror_mode": {
    "name": "ipython",
    "version": 3
   },
   "file_extension": ".py",
   "mimetype": "text/x-python",
   "name": "python",
   "nbconvert_exporter": "python",
   "pygments_lexer": "ipython3",
   "version": "3.7.6"
  }
 },
 "nbformat": 4,
 "nbformat_minor": 4
}
